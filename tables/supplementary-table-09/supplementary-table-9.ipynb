{
 "cells": [
  {
   "cell_type": "markdown",
   "metadata": {},
   "source": [
    "# Supplementary Table 9\n",
    "Creating supplementary tables of data for all supplementary figures. Sheets are labeled by figure number and subpanel, if appropriate.\n"
   ]
  },
  {
   "cell_type": "code",
   "execution_count": 1,
   "metadata": {},
   "outputs": [],
   "source": [
    "import pandas as pd\n",
    "import openpyxl"
   ]
  },
  {
   "cell_type": "code",
   "execution_count": 2,
   "metadata": {},
   "outputs": [],
   "source": [
    "sf3 = pd.read_excel('../../figures/supplementary-figure-03/supplementary-figure-3.xlsx')\n",
    "sf4 = pd.read_excel('../../figures/supplementary-figure-04/supplementary-figure-4.xlsx')\n",
    "sf5 = pd.read_excel('../../figures/supplementary-figure-05/supplementary-figure-5.xlsx')\n",
    "sf6 = pd.read_excel('../../figures/supplementary-figure-06/supplementary-figure-6.xlsx')\n",
    "sf7 = pd.read_excel('../../figures/supplementary-figure-07/supplementary-figure-7.xlsx')\n",
    "sf8 = pd.read_excel('../../figures/supplementary-figure-08/supplementary-figure-8.xlsx')\n",
    "sf9 = pd.read_excel('../../figures/supplementary-figure-09/supplementary-figure-09.xlsx')\n",
    "sf10 = pd.read_excel('../../figures/supplementary-figure-10/supplementary-figure-10.xlsx')\n",
    "sf11 = pd.read_excel('../../figures/supplementary-figure-11/supplementary-figure-11.xlsx')\n",
    "sf13 = pd.read_csv('../../figures/supplementary-figure-13/supplementary-figure-13.txt', sep='\\t')\n",
    "sf14 = pd.read_csv('../../figures/supplementary-figure-14/supplementary-figure-14.txt', sep='\\t')\n",
    "sf15 = pd.read_csv('../../figures/supplementary-figure-15/supplementary-figure-15.txt', sep='\\t')\n",
    "sf16 = pd.read_excel('../../figures/supplementary-figure-16/supplementary-figure-16.xlsx')\n",
    "sf17 = pd.read_excel('../../figures/supplementary-figure-17/supplementary-figure-17.xlsx')\n",
    "sf18 = pd.read_excel('../../figures/supplementary-figure-18/supplementary-figure-18.xlsx')"
   ]
  },
  {
   "cell_type": "code",
   "execution_count": 3,
   "metadata": {},
   "outputs": [],
   "source": [
    "def write_excel(w, dataframe, label):\n",
    "    dataframe.to_excel(w, index=False, sheet_name=label)\n",
    "\n",
    "tuples = [\n",
    "    (sf3, 'SF3'), (sf4, 'SF4'), (sf5, 'SF5'), (sf6, 'SF6'), (sf7, 'SF7'), (sf8, 'SF8'), (sf9, 'SF9'), (sf10, 'SF10'), \n",
    "    (sf11, 'SF11'), (sf13, 'SF13'), (sf14, 'SF14'), (sf15, 'SF15'), (sf16, 'SF16'), (sf17, 'SF17'), (sf18, 'SF18')\n",
    "]\n",
    "\n",
    "filename = 'supplementary-table-9.xlsx'\n",
    "with pd.ExcelWriter(filename) as writer: \n",
    "    for df, label in tuples:\n",
    "        write_excel(writer, df, label)"
   ]
  },
  {
   "cell_type": "code",
   "execution_count": null,
   "metadata": {},
   "outputs": [],
   "source": []
  },
  {
   "cell_type": "code",
   "execution_count": null,
   "metadata": {},
   "outputs": [],
   "source": []
  }
 ],
 "metadata": {
  "kernelspec": {
   "display_name": "moalmanac-paper",
   "language": "python",
   "name": "moalmanac-paper"
  },
  "language_info": {
   "codemirror_mode": {
    "name": "ipython",
    "version": 3
   },
   "file_extension": ".py",
   "mimetype": "text/x-python",
   "name": "python",
   "nbconvert_exporter": "python",
   "pygments_lexer": "ipython3",
   "version": "3.7.3"
  }
 },
 "nbformat": 4,
 "nbformat_minor": 4
}
