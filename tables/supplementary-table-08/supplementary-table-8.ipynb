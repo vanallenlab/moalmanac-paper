{
 "cells": [
  {
   "cell_type": "markdown",
   "metadata": {},
   "source": [
    "# Supplementary Table 8\n",
    "Creating supplementary tables of data for all main figures. Sheets are labeled by figure number and subpanel, if appropriate.\n"
   ]
  },
  {
   "cell_type": "code",
   "execution_count": 1,
   "metadata": {},
   "outputs": [],
   "source": [
    "import pandas as pd\n",
    "import openpyxl"
   ]
  },
  {
   "cell_type": "code",
   "execution_count": 2,
   "metadata": {},
   "outputs": [],
   "source": [
    "f1b = pd.read_excel('../../figures/figure-01-b/figure-1-b.xlsx')\n",
    "f1c_evidence = pd.read_excel('../../figures/figure-01-c/figure-1-c.xlsx', sheet_name='moalmanac evidence counts')\n",
    "f1c_therapy_types = pd.read_excel('../../figures/figure-01-c/figure-1-c.xlsx', sheet_name='moalmanac therapy type counts')\n",
    "f2ab = pd.read_excel('../../figures/figure-02/figure-2-ab.xlsx')\n",
    "f2c = pd.read_excel('../../figures/figure-02/figure-2-c.xlsx')\n",
    "f3b = pd.read_excel('../../figures/figure-03-b/figure-3-b.xlsx')\n",
    "f3c = pd.read_excel('../../figures/figure-03-c/figure-3-c.xlsx')\n",
    "f4a_i = pd.read_excel('../../figures/figure-04/figure-4.xlsx', sheet_name='figure 4a - ipredict')\n",
    "f4a_m = pd.read_excel('../../figures/figure-04/figure-4.xlsx', sheet_name='figure 4a - moalmanac')\n",
    "f4b_s = pd.read_excel('../../figures/figure-04/figure-4.xlsx', sheet_name='figure 4b - strategies')\n",
    "f4b_t = pd.read_excel('../../figures/figure-04/figure-4.xlsx', sheet_name='figure 4b - therapies')\n",
    "f4b_g = pd.read_excel('../../figures/figure-04/figure-4.xlsx', sheet_name='figure 4b - genes and features')"
   ]
  },
  {
   "cell_type": "code",
   "execution_count": 3,
   "metadata": {},
   "outputs": [],
   "source": [
    "def write_excel(w, dataframe, label):\n",
    "    dataframe.to_excel(w, index=False, sheet_name=label)\n",
    "\n",
    "filename = 'supplementary-table-8.xlsx'\n",
    "with pd.ExcelWriter(filename) as writer: \n",
    "    write_excel(writer, f1b, 'F1b')\n",
    "    write_excel(writer, f1c_evidence, 'F1c - evidence')\n",
    "    write_excel(writer, f1c_therapy_types, 'F1c - therapy types')\n",
    "    write_excel(writer, f2ab, 'F2ab')\n",
    "    write_excel(writer, f2c, 'F2c')\n",
    "    write_excel(writer, f3b, 'F3b')\n",
    "    write_excel(writer, f3c, 'F3c')\n",
    "    write_excel(writer, f4a_i, 'F4a - I-PREDICT')\n",
    "    write_excel(writer, f4a_m, 'F4a - MOAlmanac')\n",
    "    write_excel(writer, f4b_s, 'F4b - therapeutic strategies')\n",
    "    write_excel(writer, f4b_t, 'F4b - therapies')\n",
    "    write_excel(writer, f4b_g, 'F4b - genes and features')"
   ]
  },
  {
   "cell_type": "code",
   "execution_count": null,
   "metadata": {},
   "outputs": [],
   "source": []
  }
 ],
 "metadata": {
  "kernelspec": {
   "display_name": "moalmanac-paper",
   "language": "python",
   "name": "moalmanac-paper"
  },
  "language_info": {
   "codemirror_mode": {
    "name": "ipython",
    "version": 3
   },
   "file_extension": ".py",
   "mimetype": "text/x-python",
   "name": "python",
   "nbconvert_exporter": "python",
   "pygments_lexer": "ipython3",
   "version": "3.7.3"
  }
 },
 "nbformat": 4,
 "nbformat_minor": 4
}
