{
 "cells": [
  {
   "cell_type": "markdown",
   "metadata": {},
   "source": [
    "# Format I-PREDICT for annotation with Molecular Oncology Almanac\n",
    "We'll read the excel file from the supplement directly and export formatted files to be annotated by the Molecular Oncology Almanac. Formatted files will be placed in the folder `formatted_variants/`. "
   ]
  },
  {
   "cell_type": "markdown",
   "metadata": {},
   "source": [
    "## Initial formatting\n",
    "We read the variants, as are, from the excel spreadsheet and prepare them for annotation with Molecular Oncology Almanac. We annotate for alteration type for point variants based on sequence variant nomenclature (https://varnomen.hgvs.org/). \n",
    "\n",
    "The variants will be formatted mostly in Python and exported to `variants-to-format.raw.txt`. The file will be copied and renamed to be `variants-to-format.txt` before proceeding with the remainder of the formatting, manually. \n",
    "\n",
    "We focused on variants called from `Tissue NGS` in 2019-Sicklick. "
   ]
  },
  {
   "cell_type": "code",
   "execution_count": 1,
   "metadata": {},
   "outputs": [],
   "source": [
    "import pandas as pd\n",
    "\n",
    "handle = 'paper/2019-Sicklick-supplement.xlsx'\n",
    "df = pd.read_excel(handle, sheet_name='Supplementary Table 2', header=2)\n",
    "df = df.iloc[:83, :]"
   ]
  },
  {
   "cell_type": "code",
   "execution_count": 2,
   "metadata": {},
   "outputs": [
    {
     "data": {
      "text/plain": [
       "Low             33\n",
       "Intermediate    17\n",
       "High             5\n",
       "Name: Tumor Mutational Burden (TMB), dtype: int64"
      ]
     },
     "execution_count": 2,
     "metadata": {},
     "output_type": "execute_result"
    }
   ],
   "source": [
    "tmb = 'Tumor Mutational Burden (TMB)'\n",
    "msi = 'Microsatellite Status (MSI)'\n",
    "\n",
    "df[tmb].value_counts()"
   ]
  },
  {
   "cell_type": "code",
   "execution_count": 3,
   "metadata": {},
   "outputs": [
    {
     "data": {
      "text/plain": [
       "Index(['Study ID', 'Tissue NGS', 'ctDNA NGS', 'Total Genomic Alterations',\n",
       "       'PD-L1 (+) IHC ', 'Tumor Mutational Burden (TMB)',\n",
       "       'Microsatellite Status (MSI)', 'Other Markers Targeted (IHC)',\n",
       "       'Matched Drug(s) / Agent(s) Administered',\n",
       "       'Drug Match to Genomic Alteration',\n",
       "       'Drug(s) / Agent(s) Not Matched to Genomic Alteration for Patients with No Match',\n",
       "       'References'],\n",
       "      dtype='object')"
      ]
     },
     "execution_count": 3,
     "metadata": {},
     "output_type": "execute_result"
    }
   ],
   "source": [
    "df.columns"
   ]
  },
  {
   "cell_type": "code",
   "execution_count": 4,
   "metadata": {},
   "outputs": [
    {
     "data": {
      "text/html": [
       "<div>\n",
       "<style scoped>\n",
       "    .dataframe tbody tr th:only-of-type {\n",
       "        vertical-align: middle;\n",
       "    }\n",
       "\n",
       "    .dataframe tbody tr th {\n",
       "        vertical-align: top;\n",
       "    }\n",
       "\n",
       "    .dataframe thead th {\n",
       "        text-align: right;\n",
       "    }\n",
       "</style>\n",
       "<table border=\"1\" class=\"dataframe\">\n",
       "  <thead>\n",
       "    <tr style=\"text-align: right;\">\n",
       "      <th></th>\n",
       "      <th>Study ID</th>\n",
       "      <th>Tissue NGS</th>\n",
       "      <th>ctDNA NGS</th>\n",
       "      <th>Total Genomic Alterations</th>\n",
       "      <th>PD-L1 (+) IHC</th>\n",
       "      <th>Tumor Mutational Burden (TMB)</th>\n",
       "      <th>Microsatellite Status (MSI)</th>\n",
       "      <th>Other Markers Targeted (IHC)</th>\n",
       "      <th>Matched Drug(s) / Agent(s) Administered</th>\n",
       "      <th>Drug Match to Genomic Alteration</th>\n",
       "      <th>Drug(s) / Agent(s) Not Matched to Genomic Alteration for Patients with No Match</th>\n",
       "      <th>References</th>\n",
       "    </tr>\n",
       "  </thead>\n",
       "  <tbody>\n",
       "    <tr>\n",
       "      <th>0</th>\n",
       "      <td>2</td>\n",
       "      <td>HGF amplification, MET amplification</td>\n",
       "      <td>NaN</td>\n",
       "      <td>2.0</td>\n",
       "      <td>Yes</td>\n",
       "      <td>Low</td>\n",
       "      <td>Stable</td>\n",
       "      <td>NaN</td>\n",
       "      <td>crizotinib</td>\n",
       "      <td>crizotinib for HGF amplification and MET ampli...</td>\n",
       "      <td>NaN</td>\n",
       "      <td>1</td>\n",
       "    </tr>\n",
       "    <tr>\n",
       "      <th>1</th>\n",
       "      <td>5</td>\n",
       "      <td>CDK4 amplification, MDM2 amplification, WT1 tr...</td>\n",
       "      <td>NaN</td>\n",
       "      <td>3.0</td>\n",
       "      <td>NaN</td>\n",
       "      <td>Low</td>\n",
       "      <td>Stable</td>\n",
       "      <td>NaN</td>\n",
       "      <td>palbociclib</td>\n",
       "      <td>palbociclib for CDK4 amplification</td>\n",
       "      <td>NaN</td>\n",
       "      <td>2</td>\n",
       "    </tr>\n",
       "  </tbody>\n",
       "</table>\n",
       "</div>"
      ],
      "text/plain": [
       "  Study ID                                         Tissue NGS ctDNA NGS  \\\n",
       "0        2              HGF amplification, MET amplification        NaN   \n",
       "1        5  CDK4 amplification, MDM2 amplification, WT1 tr...       NaN   \n",
       "\n",
       "   Total Genomic Alterations PD-L1 (+) IHC  Tumor Mutational Burden (TMB)  \\\n",
       "0                        2.0            Yes                           Low   \n",
       "1                        3.0            NaN                           Low   \n",
       "\n",
       "  Microsatellite Status (MSI) Other Markers Targeted (IHC)  \\\n",
       "0                      Stable                          NaN   \n",
       "1                      Stable                          NaN   \n",
       "\n",
       "  Matched Drug(s) / Agent(s) Administered  \\\n",
       "0                              crizotinib   \n",
       "1                             palbociclib   \n",
       "\n",
       "                    Drug Match to Genomic Alteration  \\\n",
       "0  crizotinib for HGF amplification and MET ampli...   \n",
       "1                 palbociclib for CDK4 amplification   \n",
       "\n",
       "  Drug(s) / Agent(s) Not Matched to Genomic Alteration for Patients with No Match  \\\n",
       "0                                                NaN                                \n",
       "1                                                NaN                                \n",
       "\n",
       "  References  \n",
       "0          1  \n",
       "1          2  "
      ]
     },
     "execution_count": 4,
     "metadata": {},
     "output_type": "execute_result"
    }
   ],
   "source": [
    "df.head(2)"
   ]
  },
  {
   "cell_type": "code",
   "execution_count": 5,
   "metadata": {},
   "outputs": [],
   "source": [
    "tmp = df['Tissue NGS'].str.split(', ', expand=True).stack(0).reset_index().drop('level_1', axis=1)\n",
    "tmp.columns = ['main_index', 'feature_full']\n",
    "\n",
    "for idx in tmp.index:\n",
    "    if tmp.loc[idx, 'feature_full'][0] == ' ':\n",
    "        tmp.loc[idx, 'feature_full'] = tmp.loc[idx, 'feature_full'][1:]\n",
    "tmp['feature'] = tmp['feature_full'].str.split(' ', expand=True).loc[:, 0]"
   ]
  },
  {
   "cell_type": "code",
   "execution_count": 6,
   "metadata": {},
   "outputs": [],
   "source": [
    "amplification = tmp[\n",
    "    (tmp['feature_full'].str.lower().str.contains('amplification')) | \n",
    "    (tmp['feature_full'].str.lower().str.contains('duplication')) |\n",
    "    (tmp['feature_full'].str.lower().str.contains('amp'))\n",
    "].index\n",
    "tmp.loc[amplification, 'feature_type'] = 'Copy Number'\n",
    "tmp.loc[amplification, 'alteration_type'] = 'Amplification'\n",
    "\n",
    "deletion = tmp[\n",
    "    (tmp['feature_full'].str.contains('loss'))\n",
    "].index\n",
    "tmp.loc[deletion, 'feature_type'] = 'Copy Number'\n",
    "tmp.loc[deletion, 'alteration_type'] = 'Deletion'\n",
    "\n",
    "fusion = tmp[\n",
    "    (tmp['feature_full'].str.lower().str.contains('rearrangement')) | \n",
    "    (tmp['feature_full'].str.lower().str.contains('fusion'))\n",
    "].index\n",
    "tmp.loc[fusion, 'feature_type'] = 'Rearrangement'\n",
    "tmp.loc[fusion, 'alteration_type'] = 'Fusion'\n",
    "tmp.loc[fusion, 'alteration'] = tmp.loc[fusion, 'feature_full'].apply(lambda x: '{}'.format(x.split(' ')[0]))\n",
    "\n",
    "var_del = tmp[\n",
    "    (tmp['feature_full'].str.lower().str.contains('del'))\n",
    "].index\n",
    "tmp.loc[var_del, 'feature_type'] = 'Somatic Variant'\n",
    "tmp.loc[var_del, 'alteration_type'] = 'In_Frame_Del'\n",
    "tmp.loc[var_del, 'alteration'] = tmp.loc[var_del, 'feature_full'].apply(lambda x: 'p.{}'.format(x.split(' ')[-1]))\n",
    "\n",
    "var_ins = tmp[\n",
    "    (tmp['feature_full'].str.lower().str.contains('ins'))\n",
    "].index\n",
    "tmp.loc[var_ins, 'feature_type'] = 'Somatic Variant'\n",
    "tmp.loc[var_ins, 'alteration_type'] = 'In_Frame_Ins'\n",
    "tmp.loc[var_ins, 'alteration'] = tmp.loc[var_ins, 'feature_full'].apply(lambda x: 'p.{}'.format(x.split(' ')[-1]))\n",
    "\n",
    "var_nonsense = tmp[\n",
    "    (tmp['feature_full'].str.lower().str.contains('\\*'))\n",
    "].index\n",
    "tmp.loc[var_nonsense, 'feature_type'] = 'Somatic Variant'\n",
    "tmp.loc[var_nonsense, 'alteration_type'] = 'Nonsense_Mutation'\n",
    "tmp.loc[var_nonsense, 'alteration'] = tmp.loc[var_nonsense, 'feature_full'].apply(lambda x: 'p.{}'.format(x.split(' ')[-1]))\n",
    "\n",
    "var_splice = tmp[\n",
    "    (tmp['feature_full'].str.lower().str.contains('splice site'))\n",
    "].index\n",
    "tmp.loc[var_splice, 'feature_type'] = 'Somatic Variant'\n",
    "tmp.loc[var_splice, 'alteration_type'] = 'Splice_Site'\n",
    "tmp.loc[var_splice, 'alteration'] = tmp.loc[var_splice, 'feature_full'].apply(lambda x: 'p.{}'.format(x.split(' ')[-1]))"
   ]
  },
  {
   "cell_type": "code",
   "execution_count": 7,
   "metadata": {},
   "outputs": [
    {
     "data": {
      "text/plain": [
       "Amplification        160\n",
       "Nonsense_Mutation     95\n",
       "Deletion              19\n",
       "Splice_Site            7\n",
       "Fusion                 7\n",
       "In_Frame_Del           3\n",
       "In_Frame_Ins           2\n",
       "Name: alteration_type, dtype: int64"
      ]
     },
     "execution_count": 7,
     "metadata": {},
     "output_type": "execute_result"
    }
   ],
   "source": [
    "tmp['alteration_type'].value_counts()"
   ]
  },
  {
   "cell_type": "code",
   "execution_count": 8,
   "metadata": {},
   "outputs": [],
   "source": [
    "tmp.to_csv('variants-to-format.raw.txt', sep='\\t', index=False)"
   ]
  },
  {
   "cell_type": "markdown",
   "metadata": {},
   "source": [
    "## Split files to be annotated with the molecular oncology almanac\n",
    "`variants-to-format.txt` will be read and split into individual folders for each patient."
   ]
  },
  {
   "cell_type": "code",
   "execution_count": 9,
   "metadata": {},
   "outputs": [],
   "source": [
    "classification_map = {\n",
    "        'Missense_Mutation': 'Missense',\n",
    "        'Nonsense_Mutation': 'Nonsense',\n",
    "        'Nonstop_Mutation': 'Nonstop',\n",
    "        'Splice_Site': 'Splice Site',\n",
    "        'Frame_Shift_Ins': 'Frameshift',\n",
    "        'Frame_Shift_Del': 'Frameshift',\n",
    "        'In_Frame_Ins': 'Insertion',\n",
    "        'In_Frame_Del': 'Deletion'\n",
    "    }\n",
    "\n",
    "variants = pd.read_csv('variants-to-format.txt', sep='\\t')\n",
    "variants['alteration_type'].replace(classification_map, inplace=True)"
   ]
  },
  {
   "cell_type": "code",
   "execution_count": 10,
   "metadata": {},
   "outputs": [
    {
     "data": {
      "text/plain": [
       "Somatic Variant             281\n",
       "Copy Number                 195\n",
       "Rearrangement                13\n",
       "IHC                          12\n",
       "Mutational Burden             5\n",
       "Microsatellite Stability      1\n",
       "Name: feature_type, dtype: int64"
      ]
     },
     "execution_count": 10,
     "metadata": {},
     "output_type": "execute_result"
    }
   ],
   "source": [
    "variants['feature_type'].value_counts()"
   ]
  },
  {
   "cell_type": "code",
   "execution_count": 11,
   "metadata": {},
   "outputs": [
    {
     "data": {
      "text/html": [
       "<div>\n",
       "<style scoped>\n",
       "    .dataframe tbody tr th:only-of-type {\n",
       "        vertical-align: middle;\n",
       "    }\n",
       "\n",
       "    .dataframe tbody tr th {\n",
       "        vertical-align: top;\n",
       "    }\n",
       "\n",
       "    .dataframe thead th {\n",
       "        text-align: right;\n",
       "    }\n",
       "</style>\n",
       "<table border=\"1\" class=\"dataframe\">\n",
       "  <thead>\n",
       "    <tr style=\"text-align: right;\">\n",
       "      <th></th>\n",
       "      <th>feature_full</th>\n",
       "      <th>feature</th>\n",
       "      <th>feature_type</th>\n",
       "      <th>alteration_type</th>\n",
       "      <th>alteration</th>\n",
       "      <th>patient_id</th>\n",
       "    </tr>\n",
       "  </thead>\n",
       "  <tbody>\n",
       "    <tr>\n",
       "      <th>398</th>\n",
       "      <td>SMAD4 loss</td>\n",
       "      <td>SMAD4</td>\n",
       "      <td>Copy Number</td>\n",
       "      <td>Deletion</td>\n",
       "      <td>NaN</td>\n",
       "      <td>101</td>\n",
       "    </tr>\n",
       "    <tr>\n",
       "      <th>75</th>\n",
       "      <td>CCND1 amplification</td>\n",
       "      <td>CCND1</td>\n",
       "      <td>Copy Number</td>\n",
       "      <td>Amplification</td>\n",
       "      <td>NaN</td>\n",
       "      <td>101</td>\n",
       "    </tr>\n",
       "    <tr>\n",
       "      <th>120</th>\n",
       "      <td>CDKN2A/B loss</td>\n",
       "      <td>CDKN2A</td>\n",
       "      <td>Copy Number</td>\n",
       "      <td>Deletion</td>\n",
       "      <td>NaN</td>\n",
       "      <td>101</td>\n",
       "    </tr>\n",
       "    <tr>\n",
       "      <th>121</th>\n",
       "      <td>CDKN2A/B loss</td>\n",
       "      <td>CDKN2B</td>\n",
       "      <td>Copy Number</td>\n",
       "      <td>Deletion</td>\n",
       "      <td>NaN</td>\n",
       "      <td>101</td>\n",
       "    </tr>\n",
       "    <tr>\n",
       "      <th>6</th>\n",
       "      <td>AKT2 amplification</td>\n",
       "      <td>AKT2</td>\n",
       "      <td>Copy Number</td>\n",
       "      <td>Amplification</td>\n",
       "      <td>NaN</td>\n",
       "      <td>101</td>\n",
       "    </tr>\n",
       "  </tbody>\n",
       "</table>\n",
       "</div>"
      ],
      "text/plain": [
       "            feature_full feature feature_type alteration_type alteration  \\\n",
       "398           SMAD4 loss   SMAD4  Copy Number        Deletion        NaN   \n",
       "75   CCND1 amplification   CCND1  Copy Number   Amplification        NaN   \n",
       "120        CDKN2A/B loss  CDKN2A  Copy Number        Deletion        NaN   \n",
       "121        CDKN2A/B loss  CDKN2B  Copy Number        Deletion        NaN   \n",
       "6     AKT2 amplification    AKT2  Copy Number   Amplification        NaN   \n",
       "\n",
       "    patient_id  \n",
       "398        101  \n",
       "75         101  \n",
       "120        101  \n",
       "121        101  \n",
       "6          101  "
      ]
     },
     "execution_count": 11,
     "metadata": {},
     "output_type": "execute_result"
    }
   ],
   "source": [
    "df = df.reset_index().rename(columns={'index': 'main_index'})\n",
    "combined = pd.merge(variants, df.loc[:, ['main_index', 'Study ID']], how='left')\n",
    "combined.drop('main_index', axis=1, inplace=True)\n",
    "combined.rename(columns={'Study ID': 'patient_id'}, inplace=True)\n",
    "combined['patient_id'] = combined['patient_id'].astype(str)\n",
    "combined.sort_values(['patient_id'], inplace=True)\n",
    "combined.head()"
   ]
  },
  {
   "cell_type": "code",
   "execution_count": 12,
   "metadata": {},
   "outputs": [],
   "source": [
    "for label, group in combined.groupby('patient_id'):\n",
    "    outname = 'formatted_variants/{}.formatted_variants.txt'.format(label)\n",
    "    group.drop('feature_full', axis=1).to_csv(outname, sep='\\t', index=False)"
   ]
  },
  {
   "cell_type": "code",
   "execution_count": 13,
   "metadata": {},
   "outputs": [
    {
     "data": {
      "text/html": [
       "<div>\n",
       "<style scoped>\n",
       "    .dataframe tbody tr th:only-of-type {\n",
       "        vertical-align: middle;\n",
       "    }\n",
       "\n",
       "    .dataframe tbody tr th {\n",
       "        vertical-align: top;\n",
       "    }\n",
       "\n",
       "    .dataframe thead th {\n",
       "        text-align: right;\n",
       "    }\n",
       "</style>\n",
       "<table border=\"1\" class=\"dataframe\">\n",
       "  <thead>\n",
       "    <tr style=\"text-align: right;\">\n",
       "      <th></th>\n",
       "      <th>feature_full</th>\n",
       "      <th>feature</th>\n",
       "      <th>feature_type</th>\n",
       "      <th>alteration_type</th>\n",
       "      <th>alteration</th>\n",
       "      <th>patient_id</th>\n",
       "    </tr>\n",
       "  </thead>\n",
       "  <tbody>\n",
       "    <tr>\n",
       "      <th>398</th>\n",
       "      <td>SMAD4 loss</td>\n",
       "      <td>SMAD4</td>\n",
       "      <td>Copy Number</td>\n",
       "      <td>Deletion</td>\n",
       "      <td>NaN</td>\n",
       "      <td>101</td>\n",
       "    </tr>\n",
       "    <tr>\n",
       "      <th>75</th>\n",
       "      <td>CCND1 amplification</td>\n",
       "      <td>CCND1</td>\n",
       "      <td>Copy Number</td>\n",
       "      <td>Amplification</td>\n",
       "      <td>NaN</td>\n",
       "      <td>101</td>\n",
       "    </tr>\n",
       "    <tr>\n",
       "      <th>120</th>\n",
       "      <td>CDKN2A/B loss</td>\n",
       "      <td>CDKN2A</td>\n",
       "      <td>Copy Number</td>\n",
       "      <td>Deletion</td>\n",
       "      <td>NaN</td>\n",
       "      <td>101</td>\n",
       "    </tr>\n",
       "    <tr>\n",
       "      <th>121</th>\n",
       "      <td>CDKN2A/B loss</td>\n",
       "      <td>CDKN2B</td>\n",
       "      <td>Copy Number</td>\n",
       "      <td>Deletion</td>\n",
       "      <td>NaN</td>\n",
       "      <td>101</td>\n",
       "    </tr>\n",
       "    <tr>\n",
       "      <th>6</th>\n",
       "      <td>AKT2 amplification</td>\n",
       "      <td>AKT2</td>\n",
       "      <td>Copy Number</td>\n",
       "      <td>Amplification</td>\n",
       "      <td>NaN</td>\n",
       "      <td>101</td>\n",
       "    </tr>\n",
       "    <tr>\n",
       "      <th>...</th>\n",
       "      <td>...</td>\n",
       "      <td>...</td>\n",
       "      <td>...</td>\n",
       "      <td>...</td>\n",
       "      <td>...</td>\n",
       "      <td>...</td>\n",
       "    </tr>\n",
       "    <tr>\n",
       "      <th>271</th>\n",
       "      <td>KRAS G12D</td>\n",
       "      <td>KRAS</td>\n",
       "      <td>Somatic Variant</td>\n",
       "      <td>Missense</td>\n",
       "      <td>p.G12D</td>\n",
       "      <td>A045</td>\n",
       "    </tr>\n",
       "    <tr>\n",
       "      <th>135</th>\n",
       "      <td>CDKN2A/B loss</td>\n",
       "      <td>CDKN2B</td>\n",
       "      <td>Copy Number</td>\n",
       "      <td>Deletion</td>\n",
       "      <td>NaN</td>\n",
       "      <td>A045</td>\n",
       "    </tr>\n",
       "    <tr>\n",
       "      <th>134</th>\n",
       "      <td>CDKN2A/B loss</td>\n",
       "      <td>CDKN2A</td>\n",
       "      <td>Copy Number</td>\n",
       "      <td>Deletion</td>\n",
       "      <td>NaN</td>\n",
       "      <td>A045</td>\n",
       "    </tr>\n",
       "    <tr>\n",
       "      <th>472</th>\n",
       "      <td>TP53 V197G</td>\n",
       "      <td>TP53</td>\n",
       "      <td>Somatic Variant</td>\n",
       "      <td>Missense</td>\n",
       "      <td>p.V197G</td>\n",
       "      <td>A045</td>\n",
       "    </tr>\n",
       "    <tr>\n",
       "      <th>399</th>\n",
       "      <td>SMAD4 loss</td>\n",
       "      <td>SMAD4</td>\n",
       "      <td>Copy Number</td>\n",
       "      <td>Deletion</td>\n",
       "      <td>NaN</td>\n",
       "      <td>A045</td>\n",
       "    </tr>\n",
       "  </tbody>\n",
       "</table>\n",
       "<p>507 rows × 6 columns</p>\n",
       "</div>"
      ],
      "text/plain": [
       "            feature_full feature     feature_type alteration_type alteration  \\\n",
       "398           SMAD4 loss   SMAD4      Copy Number        Deletion        NaN   \n",
       "75   CCND1 amplification   CCND1      Copy Number   Amplification        NaN   \n",
       "120        CDKN2A/B loss  CDKN2A      Copy Number        Deletion        NaN   \n",
       "121        CDKN2A/B loss  CDKN2B      Copy Number        Deletion        NaN   \n",
       "6     AKT2 amplification    AKT2      Copy Number   Amplification        NaN   \n",
       "..                   ...     ...              ...             ...        ...   \n",
       "271            KRAS G12D    KRAS  Somatic Variant        Missense     p.G12D   \n",
       "135        CDKN2A/B loss  CDKN2B      Copy Number        Deletion        NaN   \n",
       "134        CDKN2A/B loss  CDKN2A      Copy Number        Deletion        NaN   \n",
       "472           TP53 V197G    TP53  Somatic Variant        Missense    p.V197G   \n",
       "399           SMAD4 loss   SMAD4      Copy Number        Deletion        NaN   \n",
       "\n",
       "    patient_id  \n",
       "398        101  \n",
       "75         101  \n",
       "120        101  \n",
       "121        101  \n",
       "6          101  \n",
       "..         ...  \n",
       "271       A045  \n",
       "135       A045  \n",
       "134       A045  \n",
       "472       A045  \n",
       "399       A045  \n",
       "\n",
       "[507 rows x 6 columns]"
      ]
     },
     "execution_count": 13,
     "metadata": {},
     "output_type": "execute_result"
    }
   ],
   "source": [
    "combined"
   ]
  },
  {
   "cell_type": "code",
   "execution_count": null,
   "metadata": {},
   "outputs": [],
   "source": []
  }
 ],
 "metadata": {
  "kernelspec": {
   "display_name": "moalmanac-paper",
   "language": "python",
   "name": "moalmanac-paper"
  },
  "language_info": {
   "codemirror_mode": {
    "name": "ipython",
    "version": 3
   },
   "file_extension": ".py",
   "mimetype": "text/x-python",
   "name": "python",
   "nbconvert_exporter": "python",
   "pygments_lexer": "ipython3",
   "version": "3.7.3"
  }
 },
 "nbformat": 4,
 "nbformat_minor": 4
}
