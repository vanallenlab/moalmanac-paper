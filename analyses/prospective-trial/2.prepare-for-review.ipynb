{
 "cells": [
  {
   "cell_type": "markdown",
   "metadata": {},
   "source": [
    "# Prepare for review\n",
    "In this notebook, we will process the results of processing patients through the Molecular Oncology Almanac with regard the molecular features and therapies."
   ]
  },
  {
   "cell_type": "code",
   "execution_count": 1,
   "metadata": {},
   "outputs": [],
   "source": [
    "import pandas as pd\n",
    "import glob\n",
    "\n",
    "handles = glob.glob('almanac_outputs/*/*.actionable.txt')\n",
    "actionable = pd.concat(pd.read_csv(handle, sep='\\t') for handle in handles)\n",
    "\n",
    "handles = glob.glob('formatted_variants/*.txt')\n",
    "variants = pd.concat(pd.read_csv(handle, sep='\\t') for handle in handles)\n",
    "\n",
    "supplement_0 = pd.read_excel('paper/2019-Sicklick-supplement.xlsx', sheet_name=0, header=2).loc[:82, :]\n",
    "supplement_0.set_index('Study ID', drop=True, inplace=True)\n",
    "supplement_0.index = supplement_0.index.astype(str)\n",
    "\n",
    "supplement_1 = pd.read_excel('paper/2019-Sicklick-supplement.xlsx', sheet_name=1, header=2).loc[:82, :]\n",
    "supplement_1.set_index('Study ID', drop=True, inplace=True)\n",
    "supplement_1.index = supplement_1.index.astype(str)\n",
    "\n",
    "supplement_2 = pd.read_excel('paper/2019-Sicklick-supplement.xlsx', sheet_name=2, header=2)"
   ]
  },
  {
   "cell_type": "markdown",
   "metadata": {},
   "source": [
    "## Concatenate molecular features and Molecular Oncology Almanac results\n",
    "This table will be used to create a scatter plot comparing the molecular features targeted by the study versus our methodology. Within the manual review we added TMB-Intermediate as a feature, as it was targeted in I-PREDICT, and renamed `High Mutational Burden` to be `TMB-High`. "
   ]
  },
  {
   "cell_type": "code",
   "execution_count": 2,
   "metadata": {},
   "outputs": [],
   "source": [
    "drop_columns = ['tumor_f', 'total_coverage', \n",
    "                'exac_af', 'exac_common', 'clinvar',\n",
    "                'number_germline_mutations_in_gene', \n",
    "                'validation_total_coverage', 'validation_tumor_f', 'validation_detection_power',\n",
    "                'feature_display', 'preclinical_efficacy_observed',\n",
    "                'tumor_sample_barcode', 'normal_sample_barcode']\n",
    "\n",
    "merged_features = (variants\n",
    " .merge(actionable, on=['feature', 'feature_type', 'alteration_type', 'alteration', 'patient_id'], how='left')\n",
    " .drop(drop_columns, axis=1)\n",
    ")\n",
    "\n",
    "merged_features['ipredict_targeted'] = ''\n",
    "merged_features['patient_id'] = merged_features['patient_id'].astype(str)\n",
    "merged_features.to_csv('merged-features.not_annotated.txt', sep='\\t', index=False)"
   ]
  },
  {
   "cell_type": "markdown",
   "metadata": {},
   "source": [
    "## Create a list of citations\n",
    "We will manually review citations to compare against what we cited in the Molecular Oncology Almanac. We'll characterize each citation by evidence level as well as grab the date which the citation became available. "
   ]
  },
  {
   "cell_type": "code",
   "execution_count": 3,
   "metadata": {},
   "outputs": [],
   "source": [
    "citations = supplement_2.rename(columns={'References': 'reference', 'Unnamed: 1': 'citation'})\n",
    "for column in ['year', 'month', 'day', 'date type', 'note', 'evidence', 'evidence note', 'ids used']:\n",
    "    citations[column] = ''\n",
    "citations.to_csv('citations.not_annotated.txt', sep='\\t', index=False)"
   ]
  },
  {
   "cell_type": "markdown",
   "metadata": {},
   "source": [
    "## Create a list of therapies used by the study and highlighted by the Molecular Oncology Almanac\n",
    "This will be the main table used by the clinical trial figure, as we are comparing the therapeutic strategies. Therapeutic combinations, designated with a `+`, were separated to properly compare between the trial and highlights by the Molecular Oncology Almanac."
   ]
  },
  {
   "cell_type": "code",
   "execution_count": 4,
   "metadata": {},
   "outputs": [
    {
     "data": {
      "text/plain": [
       "Index(['score_bin', 'sensitive_predictive_implication',\n",
       "       'resistance_predictive_implication',\n",
       "       'prognostic_predictive_implication', 'feature_type', 'feature',\n",
       "       'alteration_type', 'alteration', 'tumor_f', 'total_coverage', 'exac_af',\n",
       "       'exac_common', 'clinvar', 'sensitive_score_bin',\n",
       "       'sensitive_therapy_name', 'sensitive_therapy_strategy',\n",
       "       'sensitive_therapy_type', 'sensitive_description', 'sensitive_citation',\n",
       "       'sensitive_url', 'resistance_score_bin', 'resistance_therapy_name',\n",
       "       'resistance_therapy_strategy', 'resistance_therapy_type',\n",
       "       'resistance_description', 'resistance_citation', 'resistance_url',\n",
       "       'prognostic_score_bin', 'favorable_prognosis', 'prognostic_description',\n",
       "       'prognostic_citation', 'prognostic_url',\n",
       "       'number_germline_mutations_in_gene', 'validation_total_coverage',\n",
       "       'validation_tumor_f', 'validation_detection_power', 'feature_display',\n",
       "       'preclinical_efficacy_observed', 'patient_id', 'tumor_sample_barcode',\n",
       "       'normal_sample_barcode'],\n",
       "      dtype='object')"
      ]
     },
     "execution_count": 4,
     "metadata": {},
     "output_type": "execute_result"
    }
   ],
   "source": [
    "actionable.columns"
   ]
  },
  {
   "cell_type": "code",
   "execution_count": 11,
   "metadata": {},
   "outputs": [],
   "source": [
    "columns = ['Study ID',\n",
    "           'Matched Drug(s) / Agent(s) Administered',\n",
    "           'Drug(s) / Agent(s) Not Matched to Genomic Alteration for Patients with No Match',\n",
    "           'References'\n",
    "          ]\n",
    "study_therapies = supplement_1.reset_index().loc[:, columns].set_index('Study ID')\n",
    "study_therapies.index = study_therapies.index.astype(str)\n",
    "\n",
    "columns = ['patient_id', 'therapy', \n",
    "           'study-evidence-strongest', \n",
    "           'almanac-evidence-strongest',\n",
    "           'included-in-overlapping-strategy', \n",
    "           'strategy', \n",
    "           'study-gave-as-matched-therapy', \n",
    "           'study-citations-used-for-patient', \n",
    "           'comment-on-study-citation']\n",
    "\n",
    "bins = ['Putatively Actionable', \n",
    "        'Investigate Actionability']\n",
    "\n",
    "patients_list = []\n",
    "for patient in study_therapies.index:\n",
    "    patient = str(patient)\n",
    "    patient_dataframe = pd.DataFrame(columns=columns)\n",
    "    matched_list = study_therapies.fillna('').loc[patient, 'Matched Drug(s) / Agent(s) Administered'].split(', ')\n",
    "    non_matched_list = study_therapies.fillna('').loc[patient, 'Drug(s) / Agent(s) Not Matched to Genomic Alteration for Patients with No Match'].split(', ')\n",
    "    therapies_list = sorted(matched_list + non_matched_list)\n",
    "    therapies_list.remove('')\n",
    "\n",
    "    patient_dataframe['therapy'] = therapies_list\n",
    "\n",
    "    idx = patient_dataframe[patient_dataframe['therapy'].isin(non_matched_list)].index\n",
    "    patient_dataframe.loc[idx, 'study-gave-as-matched-therapy'] = 0\n",
    "    patient_dataframe.loc[patient_dataframe.index.difference(idx), 'study-gave-as-matched-therapy'] = 1\n",
    "    \n",
    "    idx = (merged_features['patient_id'].eq(patient) & merged_features['sensitive_score_bin'].isin(bins))\n",
    "    patient_features = merged_features[idx]\n",
    "    for index in patient_features.index:\n",
    "        therapy = patient_features.loc[index, 'sensitive_therapy_name'].lower()\n",
    "        therapy_stratgy = patient_features.loc[index, 'sensitive_therapy_name'].lower()\n",
    "        if therapy in patient_dataframe['therapy'].tolist():\n",
    "            index_patient = patient_dataframe['therapy'].eq(therapy)\n",
    "            patient_dataframe.loc[index_patient, 'almanac-evidence-strongest'] = patient_features.loc[index, 'sensitive_predictive_implication']\n",
    "            patient_dataframe.loc[index_patient, 'strategy'] = patient_features.loc[index, 'sensitive_therapy_strategy']\n",
    "        else:\n",
    "            almanac_unique_therapy = pd.DataFrame(columns=columns)\n",
    "            almanac_unique_therapy.loc[0, 'therapy'] = therapy\n",
    "            almanac_unique_therapy.loc[0, 'almanac-evidence-strongest'] = patient_features.loc[index, 'sensitive_predictive_implication']\n",
    "            almanac_unique_therapy.loc[0, 'strategy'] = patient_features.loc[index, 'sensitive_therapy_strategy']\n",
    "            patient_dataframe = pd.concat([patient_dataframe, almanac_unique_therapy], ignore_index=True)\n",
    "    \n",
    "    if study_therapies.loc[patient, 'References'] == 'Not applicable':\n",
    "        patient_dataframe['study-citations-used-for-patient'] = study_therapies.loc[patient, 'References']\n",
    "    else:\n",
    "        references = str(study_therapies.loc[patient, 'References']).split(',')\n",
    "        references_formatted = []\n",
    "        for reference in references:\n",
    "            if '-' in reference:\n",
    "                split=reference.split('-')\n",
    "                reference = [str(value) for value in range(int(split[0]), int(split[1]) + 1)]\n",
    "            references_formatted.extend(reference)\n",
    "        patient_dataframe['study-citations-used-for-patient'] = ','.join(references_formatted)\n",
    "    \n",
    "    patient_dataframe['patient_id'] = patient\n",
    "    patients_list.append(patient_dataframe)\n",
    "\n",
    "therapy_comparison = pd.concat(patients_list, ignore_index=True)\n",
    "therapy_comparison.to_csv('therapies.not_annotated.txt', sep='\\t', index=False)"
   ]
  },
  {
   "cell_type": "code",
   "execution_count": null,
   "metadata": {},
   "outputs": [],
   "source": []
  }
 ],
 "metadata": {
  "kernelspec": {
   "display_name": "moalmanac-paper",
   "language": "python",
   "name": "moalmanac-paper"
  },
  "language_info": {
   "codemirror_mode": {
    "name": "ipython",
    "version": 3
   },
   "file_extension": ".py",
   "mimetype": "text/x-python",
   "name": "python",
   "nbconvert_exporter": "python",
   "pygments_lexer": "ipython3",
   "version": "3.7.3"
  }
 },
 "nbformat": 4,
 "nbformat_minor": 4
}
