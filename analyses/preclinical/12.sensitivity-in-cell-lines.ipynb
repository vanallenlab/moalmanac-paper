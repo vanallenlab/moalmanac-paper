{
 "cells": [
  {
   "cell_type": "markdown",
   "metadata": {},
   "source": [
    "# Sensitivity across cancer cell lines\n",
    "We evaluated catalogued relationships in MOAlmanac across cancer cell lines. This notebook should be run from the MOAlmanac directory. "
   ]
  },
  {
   "cell_type": "code",
   "execution_count": 1,
   "metadata": {},
   "outputs": [],
   "source": [
    "import pandas as pd\n",
    "import tinydb\n",
    "\n",
    "almanac = tinydb.TinyDB('/Users/brendan/Github/moalmanac/moalmanac/datasources/moalmanac/moalmanac.json')\n",
    "almanac_genes = almanac.table('genes').all()[0]['genes']"
   ]
  },
  {
   "cell_type": "code",
   "execution_count": null,
   "metadata": {},
   "outputs": [],
   "source": [
    "paper_root = ''\n",
    "variant = pd.read_csv('datasources/preclinical/ccle.variants.evaluated.txt', sep='\\t')\n",
    "cna = pd.read_csv('datasources/preclinical/ccle.copy-numbers.evaluated.txt', sep='\\t')\n",
    "fusion = pd.read_csv('datasources/preclinical/sanger.fusions.evaluated.txt', sep='\\t')\n",
    "\n",
    "variant = variant.loc[:, ['feature', 'alteration_type', 'alteration']].drop_duplicates()\n",
    "variant['feature_type'] = 'Somatic Variant'\n",
    "variant = variant[variant['feature'].isin(almanac_genes)].reset_index(drop=True)\n",
    "\n",
    "cna = cna.loc[:, ['feature', 'alteration_type', 'alteration']].drop_duplicates()\n",
    "cna['feature_type'] = 'Copy Number'\n",
    "cna = cna[cna['feature'].isin(almanac_genes)].reset_index(drop=True)\n",
    "\n",
    "fusion = fusion.loc[:, ['feature', 'alteration_type', 'alteration']].drop_duplicates()\n",
    "fusion['feature_type'] = 'Rearrangement'\n",
    "fusion = fusion[fusion['feature'].isin(almanac_genes)].reset_index(drop=True)"
   ]
  },
  {
   "cell_type": "code",
   "execution_count": null,
   "metadata": {},
   "outputs": [],
   "source": [
    "%load_ext autoreload\n",
    "%autoreload 2\n",
    "\n",
    "from config import COLNAMES\n",
    "from config import CONFIG\n",
    "\n",
    "from annotator import Annotator, Almanac\n",
    "from datasources import Datasources\n",
    "from features import Features\n",
    "\n",
    "def annotate_somatic(df, dbs, ontology='Unknown'):\n",
    "    df[Annotator.score_bin] = Annotator.preallocate_bin(Annotator.score_bin, df.index)\n",
    "    df = Almanac.annotate(df, dbs, ontology)\n",
    "    return df\n",
    "\n",
    "dbs = Datasources.generate_db_dict(CONFIG)\n",
    "    \n",
    "variant = Features.preallocate_missing_columns(variant)\n",
    "annotated_variant = annotate_somatic(variant, dbs)"
   ]
  },
  {
   "cell_type": "code",
   "execution_count": null,
   "metadata": {},
   "outputs": [],
   "source": [
    "cna = Features.preallocate_missing_columns(cna)\n",
    "annotated_cna = annotate_somatic(cna, dbs)"
   ]
  },
  {
   "cell_type": "code",
   "execution_count": null,
   "metadata": {},
   "outputs": [],
   "source": [
    "fusion = Features.preallocate_missing_columns(fusion)\n",
    "annotated_fusion = annotate_somatic(fusion, dbs)"
   ]
  },
  {
   "cell_type": "code",
   "execution_count": null,
   "metadata": {},
   "outputs": [],
   "source": [
    "annotated_somatic = pd.concat([annotated_variant, annotated_cna, annotated_fusion], ignore_index=True)\n",
    "annotated_somatic.to_csv('annotated_somatic.ccle.txt', sep='\\t')"
   ]
  },
  {
   "cell_type": "code",
   "execution_count": null,
   "metadata": {},
   "outputs": [],
   "source": [
    "%load_ext autoreload\n",
    "%autoreload 2\n",
    "\n",
    "import evaluator"
   ]
  },
  {
   "cell_type": "code",
   "execution_count": null,
   "metadata": {},
   "outputs": [],
   "source": [
    "def evaluate_somatic(df):\n",
    "    df = evaluator.Evaluator.evaluate_almanac(df)\n",
    "    return df\n",
    "\n",
    "evaluated_somatic = evaluate_somatic(annotated_somatic)"
   ]
  },
  {
   "cell_type": "code",
   "execution_count": null,
   "metadata": {},
   "outputs": [],
   "source": [
    "evaluated_germline = Features.create_empty_dataframe()\n",
    "evaluated_ms_variants = Features.create_empty_dataframe()\n",
    "evaluated_ms_status = Features.create_empty_dataframe()\n",
    "evaluated_burden = Features.create_empty_dataframe()\n",
    "evaluated_burden.loc[0, 'a'] = ''\n",
    "evaluated_signatures = Features.create_empty_dataframe()\n",
    "evaluated_wgd = Features.create_empty_dataframe()\n",
    "\n",
    "actionable = evaluator.Actionable.evaluate(evaluated_somatic, \n",
    "                                           evaluated_germline,\n",
    "                                           evaluated_ms_variants,\n",
    "                                           evaluated_ms_status,\n",
    "                                           evaluated_burden,\n",
    "                                           evaluated_signatures,\n",
    "                                           evaluated_wgd\n",
    "                                          )"
   ]
  },
  {
   "cell_type": "code",
   "execution_count": null,
   "metadata": {},
   "outputs": [],
   "source": [
    "%load_ext autoreload\n",
    "%autoreload 2\n",
    "\n",
    "import annotator\n",
    "import datasources\n",
    "import investigator"
   ]
  },
  {
   "cell_type": "code",
   "execution_count": null,
   "metadata": {},
   "outputs": [],
   "source": [
    "actionable['alteration'].fillna('', inplace=True)"
   ]
  },
  {
   "cell_type": "code",
   "execution_count": null,
   "metadata": {},
   "outputs": [],
   "source": [
    "idx = actionable[actionable['feature_type'].eq('Rearrangement') & (actionable['alteration'].eq('') | actionable['alteration'].eq('None--None'))].index\n",
    "actionable.loc[idx, 'alteration'] = actionable.loc[idx, 'feature'] + '--None'"
   ]
  },
  {
   "cell_type": "code",
   "execution_count": null,
   "metadata": {},
   "outputs": [],
   "source": [
    "actionable[actionable['feature_type'].eq('Rearrangement')]"
   ]
  },
  {
   "cell_type": "code",
   "execution_count": null,
   "metadata": {
    "scrolled": false
   },
   "outputs": [],
   "source": [
    "dbs_preclinical = datasources.Preclinical.import_dbs()\n",
    "efficacy_dictionary = investigator.SensitivityDictionary.create(dbs_preclinical, actionable, 'cell lines')\n",
    "efficacy_summary = investigator.SummaryDataFrame.create(efficacy_dictionary, actionable, 'cell lines')\n",
    "#annotated_actionable = annotator.PreclinicalEfficacy.annotate(actionable, efficacy_summary)"
   ]
  },
  {
   "cell_type": "code",
   "execution_count": null,
   "metadata": {},
   "outputs": [],
   "source": [
    "efficacy_summary_all = efficacy_summary.copy(deep=True)\n",
    "efficacy_summary = efficacy_summary[~efficacy_summary['tested_subfeature'].str.contains(\"None\")]"
   ]
  },
  {
   "cell_type": "code",
   "execution_count": null,
   "metadata": {},
   "outputs": [],
   "source": [
    "efficacy_summary.to_csv('cell-lines.efficacy-summary.txt', sep='\\t', index=False)"
   ]
  },
  {
   "cell_type": "code",
   "execution_count": null,
   "metadata": {},
   "outputs": [],
   "source": [
    "annotated_actionable = annotator.PreclinicalEfficacy.annotate(actionable, efficacy_summary)\n",
    "annotated_actionable.to_csv('cell-lines.annotated.actionable.txt', sep='\\t', index=False)"
   ]
  },
  {
   "cell_type": "code",
   "execution_count": null,
   "metadata": {},
   "outputs": [],
   "source": [
    "efficacy_summary['pvalue_mww'].astype(float).le(0.05).value_counts()"
   ]
  },
  {
   "cell_type": "code",
   "execution_count": null,
   "metadata": {},
   "outputs": [],
   "source": [
    "efficacy_summary['pvalue_mww_float'] = efficacy_summary['pvalue_mww'].astype(float)\n",
    "tmp = (efficacy_summary\n",
    " .loc[:, ['feature_display', 'therapy_name', 'pvalue_mww_float']]\n",
    " .sort_values('pvalue_mww_float')\n",
    " .drop_duplicates(['feature_display', 'therapy_name'])\n",
    ")\n",
    "\n",
    "tmp[tmp['pvalue_mww_float'].lt(0.05)]#.index"
   ]
  },
  {
   "cell_type": "code",
   "execution_count": null,
   "metadata": {},
   "outputs": [],
   "source": [
    "tmp_sig = (efficacy_summary\n",
    " .loc[tmp[tmp['pvalue_mww_float'].lt(0.05)].index, :]\n",
    " .loc[:, ['tested_subfeature', 'therapy_name', 'pvalue_mww_float']]\n",
    " .drop_duplicates(['tested_subfeature', 'therapy_name'])\n",
    ")"
   ]
  },
  {
   "cell_type": "code",
   "execution_count": null,
   "metadata": {},
   "outputs": [],
   "source": [
    "tmp_sig['therapy_name'].drop_duplicates().shape"
   ]
  },
  {
   "cell_type": "code",
   "execution_count": null,
   "metadata": {},
   "outputs": [],
   "source": [
    "tmp_sig[tmp_sig['tested_subfeature'].str.contains('p.D594G')]"
   ]
  },
  {
   "cell_type": "code",
   "execution_count": null,
   "metadata": {},
   "outputs": [],
   "source": [
    "efficacy_summary[efficacy_summary['feature_display'].str.contains('D594G')]"
   ]
  },
  {
   "cell_type": "code",
   "execution_count": null,
   "metadata": {},
   "outputs": [],
   "source": [
    "efficacy_summary.loc[5710, :]"
   ]
  },
  {
   "cell_type": "code",
   "execution_count": null,
   "metadata": {},
   "outputs": [],
   "source": [
    "import openpyxl\n",
    "!mkdir -p ~/Github/moalmanac-paper/tables/supplementary-table-04\n",
    "efficacy_summary.to_excel('~/Github/moalmanac-paper/tables/supplementary-table-04/supplementary-table-4.xlsx', index=False)"
   ]
  },
  {
   "cell_type": "markdown",
   "metadata": {},
   "source": [
    "## Calculations"
   ]
  },
  {
   "cell_type": "code",
   "execution_count": 1,
   "metadata": {},
   "outputs": [],
   "source": [
    "import pandas as pd\n",
    "summary = pd.read_csv('tables/sensitivity/cell-lines.efficacy-summary.txt', sep='\\t', low_memory=False)"
   ]
  },
  {
   "cell_type": "code",
   "execution_count": 6,
   "metadata": {},
   "outputs": [
    {
     "data": {
      "text/plain": [
       "(18,)"
      ]
     },
     "execution_count": 6,
     "metadata": {},
     "output_type": "execute_result"
    }
   ],
   "source": [
    "summary[summary['pvalue_mww'].le(0.05)]['therapy_name'].drop_duplicates().sort_values().shape"
   ]
  },
  {
   "cell_type": "code",
   "execution_count": 3,
   "metadata": {},
   "outputs": [
    {
     "data": {
      "text/plain": [
       "['AZD8186',\n",
       " 'Afatinib',\n",
       " 'Alectinib',\n",
       " 'Alpelisib',\n",
       " 'Bortezomib',\n",
       " 'Bosutinib',\n",
       " 'Buparlisib',\n",
       " 'Dabrafenib',\n",
       " 'Gefitinib',\n",
       " 'KRAS (G12C) Inhibitor-12',\n",
       " 'Olaparib',\n",
       " 'Osimertinib',\n",
       " 'Palbociclib',\n",
       " 'Pictilisib',\n",
       " 'Selumetinib',\n",
       " 'Sorafenib',\n",
       " 'Sunitinib',\n",
       " 'Trametinib']"
      ]
     },
     "execution_count": 3,
     "metadata": {},
     "output_type": "execute_result"
    }
   ],
   "source": [
    "summary[summary['pvalue_mww'].le(0.05)]['therapy_name'].drop_duplicates().sort_values().tolist()"
   ]
  },
  {
   "cell_type": "code",
   "execution_count": null,
   "metadata": {},
   "outputs": [],
   "source": []
  }
 ],
 "metadata": {
  "kernelspec": {
   "display_name": "moalmanac",
   "language": "python",
   "name": "moalmanac"
  },
  "language_info": {
   "codemirror_mode": {
    "name": "ipython",
    "version": 3
   },
   "file_extension": ".py",
   "mimetype": "text/x-python",
   "name": "python",
   "nbconvert_exporter": "python",
   "pygments_lexer": "ipython3",
   "version": "3.6.7"
  }
 },
 "nbformat": 4,
 "nbformat_minor": 4
}
