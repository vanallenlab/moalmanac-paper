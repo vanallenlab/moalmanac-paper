{
 "cells": [
  {
   "cell_type": "markdown",
   "metadata": {},
   "source": [
    "# Create a mapping between therapies catalogued in the Molecular Oncology Almanac and those profiles in GDSC\n",
    "We read the fitted dose response curves from GDSC2 and create a dictionary, mapping almanac therapies of keys to a list of GDSC therapies. \n",
    "\n",
    "In summary,\n",
    "- The Molecular Oncology Almanac contains 137 therapies. \n",
    "- GDSC2 tested 192 therapies and GDSC1 tested 345, 257 of which do not appear in GDSC1.\n",
    "- We mapped almanac therapies to GDSC, with GDSC2 measurements taking priority. \n",
    "- In all, 59 therapies were mapped to GDSC therapies"
   ]
  },
  {
   "cell_type": "code",
   "execution_count": 1,
   "metadata": {},
   "outputs": [
    {
     "data": {
      "text/plain": [
       "(137, 2)"
      ]
     },
     "execution_count": 1,
     "metadata": {},
     "output_type": "execute_result"
    }
   ],
   "source": [
    "import glob\n",
    "import pandas as pd\n",
    "import json\n",
    "\n",
    "gdsc1 = pd.read_excel('source/gdsc/GDSC1_fitted_dose_response_25Feb20.xlsx')\n",
    "gdsc1 = gdsc1['DRUG_NAME'].drop_duplicates().sort_values()\n",
    "\n",
    "gdsc2 = pd.read_excel('source/gdsc/GDSC2_fitted_dose_response_25Feb20.xlsx')\n",
    "gdsc2 = gdsc2['DRUG_NAME'].drop_duplicates().sort_values()\n",
    "\n",
    "gdsc1 = gdsc1[~gdsc1.isin(gdsc2)]\n",
    "\n",
    "handles = glob.glob('/Users/brendan/Github/moalmanac-paper/analyses/knowledge-bases/moalmanac-db/content/*')\n",
    "almanac = []\n",
    "\n",
    "columns = ['therapy_name', 'therapy_type']\n",
    "\n",
    "for handle in handles:\n",
    "    dtype = handle.split('/')[-1].split('.tsv')[0]\n",
    "    tmp = pd.read_csv(handle, sep='\\t')\n",
    "    tmp['dtype'] = dtype\n",
    "    almanac.append(tmp.loc[:, columns])\n",
    "    \n",
    "almanac = pd.concat(almanac, ignore_index=True)\n",
    "almanac = almanac[~almanac['therapy_name'].isnull()].sort_values('therapy_name')\n",
    "almanac.drop_duplicates(inplace=True)\n",
    "almanac.shape"
   ]
  },
  {
   "cell_type": "code",
   "execution_count": 2,
   "metadata": {},
   "outputs": [
    {
     "data": {
      "text/html": [
       "<div>\n",
       "<style scoped>\n",
       "    .dataframe tbody tr th:only-of-type {\n",
       "        vertical-align: middle;\n",
       "    }\n",
       "\n",
       "    .dataframe tbody tr th {\n",
       "        vertical-align: top;\n",
       "    }\n",
       "\n",
       "    .dataframe thead th {\n",
       "        text-align: right;\n",
       "    }\n",
       "</style>\n",
       "<table border=\"1\" class=\"dataframe\">\n",
       "  <thead>\n",
       "    <tr style=\"text-align: right;\">\n",
       "      <th></th>\n",
       "      <th>therapy_name</th>\n",
       "      <th>therapy_type</th>\n",
       "    </tr>\n",
       "  </thead>\n",
       "  <tbody>\n",
       "    <tr>\n",
       "      <th>198</th>\n",
       "      <td>5-Fluorouracil</td>\n",
       "      <td>Chemotherapy</td>\n",
       "    </tr>\n",
       "    <tr>\n",
       "      <th>514</th>\n",
       "      <td>AMG 510</td>\n",
       "      <td>Targeted therapy</td>\n",
       "    </tr>\n",
       "    <tr>\n",
       "      <th>405</th>\n",
       "      <td>AZD3759</td>\n",
       "      <td>Targeted therapy</td>\n",
       "    </tr>\n",
       "    <tr>\n",
       "      <th>784</th>\n",
       "      <td>AZD8186</td>\n",
       "      <td>Targeted therapy</td>\n",
       "    </tr>\n",
       "    <tr>\n",
       "      <th>259</th>\n",
       "      <td>Abiraterone</td>\n",
       "      <td>Hormone therapy</td>\n",
       "    </tr>\n",
       "    <tr>\n",
       "      <th>...</th>\n",
       "      <td>...</td>\n",
       "      <td>...</td>\n",
       "    </tr>\n",
       "    <tr>\n",
       "      <th>685</th>\n",
       "      <td>VX-680</td>\n",
       "      <td>Targeted therapy</td>\n",
       "    </tr>\n",
       "    <tr>\n",
       "      <th>180</th>\n",
       "      <td>Vandetanib</td>\n",
       "      <td>Targeted therapy</td>\n",
       "    </tr>\n",
       "    <tr>\n",
       "      <th>206</th>\n",
       "      <td>Veliparib</td>\n",
       "      <td>Targeted therapy</td>\n",
       "    </tr>\n",
       "    <tr>\n",
       "      <th>723</th>\n",
       "      <td>Vemurafenib</td>\n",
       "      <td>Targeted therapy</td>\n",
       "    </tr>\n",
       "    <tr>\n",
       "      <th>697</th>\n",
       "      <td>nutlin-3</td>\n",
       "      <td>Targeted therapy</td>\n",
       "    </tr>\n",
       "  </tbody>\n",
       "</table>\n",
       "<p>137 rows × 2 columns</p>\n",
       "</div>"
      ],
      "text/plain": [
       "       therapy_name      therapy_type\n",
       "198  5-Fluorouracil      Chemotherapy\n",
       "514         AMG 510  Targeted therapy\n",
       "405         AZD3759  Targeted therapy\n",
       "784         AZD8186  Targeted therapy\n",
       "259     Abiraterone   Hormone therapy\n",
       "..              ...               ...\n",
       "685          VX-680  Targeted therapy\n",
       "180      Vandetanib  Targeted therapy\n",
       "206       Veliparib  Targeted therapy\n",
       "723     Vemurafenib  Targeted therapy\n",
       "697        nutlin-3  Targeted therapy\n",
       "\n",
       "[137 rows x 2 columns]"
      ]
     },
     "execution_count": 2,
     "metadata": {},
     "output_type": "execute_result"
    }
   ],
   "source": [
    "almanac"
   ]
  },
  {
   "cell_type": "code",
   "execution_count": 3,
   "metadata": {},
   "outputs": [],
   "source": [
    "dictionary = {}\n",
    "for idx in almanac.index:\n",
    "    therapy = almanac.loc[idx, 'therapy_name']\n",
    "    therapy_type = almanac.loc[idx, 'therapy_type']\n",
    "    dictionary[therapy] = {}\n",
    "    dictionary[therapy]['type'] = therapy_type\n",
    "    dictionary[therapy]['gdsc'] = []"
   ]
  },
  {
   "cell_type": "markdown",
   "metadata": {},
   "source": [
    "## Map GDSC1\n",
    "Earlier in the notebook we subset GDSC1 for therapies that do not appear in GDSC2. We map any almanac therapies to these drugs."
   ]
  },
  {
   "cell_type": "code",
   "execution_count": 4,
   "metadata": {},
   "outputs": [
    {
     "data": {
      "text/plain": [
       "137       Alectinib\n",
       "312       Bleomycin\n",
       "246       Bosutinib\n",
       "181    Cabozantinib\n",
       "507       Cetuximab\n",
       "131        Imatinib\n",
       "693    Lenalidomide\n",
       "310      Omipalisib\n",
       "44        Pazopanib\n",
       "156       Ponatinib\n",
       "454     Quizartinib\n",
       "336       Rucaparib\n",
       "539         SU11274\n",
       "790       Sunitinib\n",
       "206       Veliparib\n",
       "Name: therapy_name, dtype: object"
      ]
     },
     "execution_count": 4,
     "metadata": {},
     "output_type": "execute_result"
    }
   ],
   "source": [
    "almanac['therapy_name'][almanac['therapy_name'].isin(gdsc1)].sort_values()"
   ]
  },
  {
   "cell_type": "code",
   "execution_count": 5,
   "metadata": {},
   "outputs": [],
   "source": [
    "for therapy in almanac['therapy_name'][almanac['therapy_name'].isin(gdsc1)].sort_values().tolist():\n",
    "    dictionary[therapy]['gdsc'] = [therapy]"
   ]
  },
  {
   "cell_type": "markdown",
   "metadata": {},
   "source": [
    "## Map GDSC2\n",
    "Likewise, we map any almanac therapies to GDSC2 therapies"
   ]
  },
  {
   "cell_type": "code",
   "execution_count": 6,
   "metadata": {},
   "outputs": [
    {
     "data": {
      "text/plain": [
       "198    5-Fluorouracil\n",
       "405           AZD3759\n",
       "784           AZD8186\n",
       "417          Afatinib\n",
       "587         Alpelisib\n",
       "161        Bortezomib\n",
       "429         Cisplatin\n",
       "145        Crizotinib\n",
       "303        Dabrafenib\n",
       "226         Dasatinib\n",
       "394         Erlotinib\n",
       "395         Gefitinib\n",
       "146               JQ1\n",
       "743         Lapatinib\n",
       "250           MK-2206\n",
       "219         Nilotinib\n",
       "13          Niraparib\n",
       "15           Olaparib\n",
       "411       Osimertinib\n",
       "149       Palbociclib\n",
       "600        Pictilisib\n",
       "474       Ruxolitinib\n",
       "573       Selumetinib\n",
       "189         Sorafenib\n",
       "22        Talazoparib\n",
       "781         Tamoxifen\n",
       "536        Trametinib\n",
       "Name: therapy_name, dtype: object"
      ]
     },
     "execution_count": 6,
     "metadata": {},
     "output_type": "execute_result"
    }
   ],
   "source": [
    "almanac['therapy_name'][almanac['therapy_name'].isin(gdsc2)].sort_values()"
   ]
  },
  {
   "cell_type": "code",
   "execution_count": 7,
   "metadata": {},
   "outputs": [
    {
     "data": {
      "text/plain": [
       "19581     5-Fluorouracil\n",
       "105110            ABT737\n",
       "107352          AGI-5198\n",
       "70082           AGI-6780\n",
       "126888           AMG-319\n",
       "               ...      \n",
       "64214            Wnt-C59\n",
       "38410             XAV939\n",
       "35075           YK-4-279\n",
       "14067           ZM447439\n",
       "84651        Zoledronate\n",
       "Name: DRUG_NAME, Length: 192, dtype: object"
      ]
     },
     "execution_count": 7,
     "metadata": {},
     "output_type": "execute_result"
    }
   ],
   "source": [
    "gdsc2"
   ]
  },
  {
   "cell_type": "code",
   "execution_count": 8,
   "metadata": {},
   "outputs": [],
   "source": [
    "for therapy in almanac['therapy_name'][almanac['therapy_name'].isin(gdsc2)].sort_values().tolist():\n",
    "    dictionary[therapy]['gdsc'] = [therapy]\n",
    "\n",
    "dictionary['AMG 510']['gdsc'] = ['KRAS (G12C) Inhibitor-12']\n",
    "dictionary['nutlin-3']['gdsc'] = ['Nutlin-3a (-)']\n",
    "dictionary['Vemurafenib']['gdsc'] = ['PLX-4720']"
   ]
  },
  {
   "cell_type": "markdown",
   "metadata": {},
   "source": [
    "## Combination therapies\n",
    "Some therapies catalogued in the Molecular Oncology Almanac are cocktails, we catalogue them here."
   ]
  },
  {
   "cell_type": "code",
   "execution_count": 9,
   "metadata": {},
   "outputs": [
    {
     "data": {
      "text/plain": [
       "188                           Azacitidine + Panobinostat\n",
       "346                               Bevacizumab + Olaparib\n",
       "506                              Buparlisib + Trametinib\n",
       "751               Capecitabine + Trastuzumab + Tucatinib\n",
       "767            Carbogen and nicotinamide  + radiotherapy\n",
       "298                              Cetuximab + Encorafenib\n",
       "331                              Cetuximab + Vemurafenib\n",
       "754    Chemotherapy + Hyaluronidase-zzxf + Pertuzumab...\n",
       "730                         Chemotherapy + Pembrolizumab\n",
       "750                           Chemotherapy + Trastuzumab\n",
       "304                            Cobimetinib + Vemurafenib\n",
       "293                              Dabrafenib + Trametinib\n",
       "755    Docetaxel + Hyaluronidase-zzxf + Pertuzumab + ...\n",
       "401                               Durvalumab + Gefitinib\n",
       "400                             Durvalumab + Osimertinib\n",
       "520                         FGFR1 inhibitor + Trametinib\n",
       "521                        FGFR1 inhibitor + Trametinib \n",
       "322                                   GANT61 + Obatoclax\n",
       "320                          Interferon-alpha + Ixazomib\n",
       "104                               Ipilimumab + Nivolumab\n",
       "307                             Ipilimumab + Vemurafenib\n",
       "744                              Lapatinib + Trastuzumab\n",
       "432                                Letrozole + Tamoxifen\n",
       "756                     Margetuximab-cmkb + Chemotherapy\n",
       "776                   Neoadjuvant chemotherapy + surgery\n",
       "328                              Neratinib + Vemurafenib\n",
       "361                            Nivolumab + Pembrolizumab\n",
       "505                             Palbociclib + Trametinib\n",
       "746                             Pertuzumab + Trastuzumab\n",
       "311                            Selumetinib + Vemurafenib\n",
       "319                             Trametinib + Vemurafenib\n",
       "Name: therapy_name, dtype: object"
      ]
     },
     "execution_count": 9,
     "metadata": {},
     "output_type": "execute_result"
    }
   ],
   "source": [
    "almanac['therapy_name'][almanac['therapy_name'].str.contains('\\+')]"
   ]
  },
  {
   "cell_type": "code",
   "execution_count": 10,
   "metadata": {},
   "outputs": [],
   "source": [
    "dictionary['Buparlisib + Trametinib']['gdsc'] = ['Buparlisib', 'Trametinib']\n",
    "dictionary['Cetuximab + Vemurafenib']['gdsc'] = ['PLX-4720', 'Cetuximab']\n",
    "dictionary['Cobimetinib + Vemurafenib']['gdsc'] = ['PLX-4720']\n",
    "dictionary['Dabrafenib + Trametinib']['gdsc'] = ['Dabrafenib', 'Trametinib']\n",
    "dictionary['Durvalumab + Osimertinib']['gdsc'] = ['Osimertinib']\n",
    "dictionary['FGFR1 inhibitor + Trametinib']['gdsc'] = ['Trametinib']\n",
    "dictionary['GANT61 + Obatoclax']['gdsc'] = ['Obatoclax Mesylate']\n",
    "dictionary['Ipilimumab + Vemurafenib']['gdsc'] = ['PLX-4720']\n",
    "dictionary['Lapatinib + Trastuzumab']['gdsc'] = ['Lapatinib']\n",
    "dictionary['Letrozole + Tamoxifen']['gdsc'] = ['Tamoxifen']\n",
    "dictionary['Neratinib + Vemurafenib']['gdsc'] = ['PLX-4720']\n",
    "dictionary['Selumetinib + Vemurafenib']['gdsc'] = ['PLX-4720', 'Selumetinib']\n",
    "dictionary['Palbociclib + Trametinib']['gdsc'] = ['Palbociclib', 'Trametinib']\n",
    "dictionary['Trametinib + Vemurafenib']['gdsc'] = ['PLX-4720', 'Trametinib']"
   ]
  },
  {
   "cell_type": "code",
   "execution_count": 27,
   "metadata": {},
   "outputs": [
    {
     "name": "stdout",
     "output_type": "stream",
     "text": [
      "5-Fluorouracil\n",
      "AMG 510\n",
      "AZD3759\n",
      "AZD8186\n",
      "Afatinib\n",
      "Alectinib\n",
      "Alpelisib\n",
      "Bleomycin\n",
      "Bortezomib\n",
      "Bosutinib\n",
      "Buparlisib + Trametinib\n",
      "Cabozantinib\n",
      "Cetuximab\n",
      "Cetuximab + Vemurafenib\n",
      "Cisplatin\n",
      "Cobimetinib + Vemurafenib\n",
      "Crizotinib\n",
      "Dabrafenib\n",
      "Dabrafenib + Trametinib\n",
      "Dasatinib\n",
      "Durvalumab + Osimertinib\n",
      "Erlotinib\n",
      "FGFR1 inhibitor + Trametinib\n",
      "GANT61 + Obatoclax\n",
      "Gefitinib\n",
      "Imatinib\n",
      "Ipilimumab + Vemurafenib\n",
      "JQ1\n",
      "Lapatinib\n",
      "Lapatinib + Trastuzumab\n",
      "Lenalidomide\n",
      "Letrozole + Tamoxifen\n",
      "MK-2206\n",
      "Neratinib + Vemurafenib\n",
      "Nilotinib\n",
      "Niraparib\n",
      "Olaparib\n",
      "Omipalisib\n",
      "Osimertinib\n",
      "Palbociclib\n",
      "Palbociclib + Trametinib\n",
      "Pazopanib\n",
      "Pictilisib\n",
      "Ponatinib\n",
      "Quizartinib\n",
      "Rucaparib\n",
      "Ruxolitinib\n",
      "SU11274\n",
      "Selumetinib\n",
      "Selumetinib + Vemurafenib\n",
      "Sorafenib\n",
      "Sunitinib\n",
      "Talazoparib\n",
      "Tamoxifen\n",
      "Trametinib\n",
      "Trametinib + Vemurafenib\n",
      "Veliparib\n",
      "Vemurafenib\n",
      "nutlin-3\n"
     ]
    },
    {
     "data": {
      "text/plain": [
       "59"
      ]
     },
     "execution_count": 27,
     "metadata": {},
     "output_type": "execute_result"
    }
   ],
   "source": [
    "catalogued_therapies = []\n",
    "count = 0\n",
    "for key in list(dictionary.keys()):\n",
    "    if dictionary[key]['gdsc']:\n",
    "        print(key)\n",
    "        count += 1\n",
    "        catalogued_therapies.append(key)\n",
    "count"
   ]
  },
  {
   "cell_type": "markdown",
   "metadata": {},
   "source": [
    "## Export"
   ]
  },
  {
   "cell_type": "code",
   "execution_count": 12,
   "metadata": {},
   "outputs": [],
   "source": [
    "def write(handle, dictionary):\n",
    "    with open(handle, 'w') as json_handle:\n",
    "        json.dump(dictionary, json_handle, sort_keys=True, indent=4)\n",
    "\n",
    "write('almanac-gdsc-mappings.json', dictionary)"
   ]
  },
  {
   "cell_type": "markdown",
   "metadata": {},
   "source": [
    "## Count"
   ]
  },
  {
   "cell_type": "code",
   "execution_count": 36,
   "metadata": {},
   "outputs": [],
   "source": [
    "columns = ['therapy_name', 'therapy_type', 'therapy_sensitivity', 'therapy_resistance']\n",
    "\n",
    "almanac = []\n",
    "for handle in handles:\n",
    "    dtype = handle.split('/')[-1].split('.tsv')[0]\n",
    "    tmp = pd.read_csv(handle, sep='\\t')\n",
    "    tmp['dtype'] = dtype\n",
    "    almanac.append(tmp.loc[:, columns])\n",
    "    \n",
    "almanac = pd.concat(almanac, ignore_index=True)\n",
    "almanac = almanac[~almanac['therapy_name'].isnull()].sort_values('therapy_name')"
   ]
  },
  {
   "cell_type": "code",
   "execution_count": 34,
   "metadata": {},
   "outputs": [
    {
     "data": {
      "text/plain": [
       "False    336\n",
       "True     274\n",
       "dtype: int64"
      ]
     },
     "execution_count": 34,
     "metadata": {},
     "output_type": "execute_result"
    }
   ],
   "source": [
    "(almanac['therapy_name'].isin(catalogued_therapies) & ~almanac['therapy_sensitivity'].isnull()).value_counts()"
   ]
  },
  {
   "cell_type": "code",
   "execution_count": null,
   "metadata": {},
   "outputs": [],
   "source": []
  }
 ],
 "metadata": {
  "kernelspec": {
   "display_name": "moalmanac",
   "language": "python",
   "name": "moalmanac"
  },
  "language_info": {
   "codemirror_mode": {
    "name": "ipython",
    "version": 3
   },
   "file_extension": ".py",
   "mimetype": "text/x-python",
   "name": "python",
   "nbconvert_exporter": "python",
   "pygments_lexer": "ipython3",
   "version": "3.6.7"
  }
 },
 "nbformat": 4,
 "nbformat_minor": 4
}
