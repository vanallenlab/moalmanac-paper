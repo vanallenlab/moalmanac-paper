{
 "cells": [
  {
   "cell_type": "markdown",
   "metadata": {},
   "source": [
    "What features are shared between nearest neighbors? Is it dominated by SNVs? CNAs? FDA approvals?"
   ]
  },
  {
   "cell_type": "code",
   "execution_count": 1,
   "metadata": {},
   "outputs": [],
   "source": [
    "import sys\n",
    "sys.path.append('../../common/')\n",
    "import settings\n",
    "settings.set_arial_as_font()\n",
    "\n",
    "from settings import Colors\n",
    "\n",
    "import pandas as pd\n",
    "\n",
    "distances = pd.read_csv('tables/distances/snf_fda-cgc.stacked.txt', sep='\\t', index_col=0)\n",
    "distances = distances[~distances['case'].eq(distances['comparison'])]\n",
    "distances.sort_values('snf_fda-cgc', ascending=True, inplace=True)"
   ]
  },
  {
   "cell_type": "code",
   "execution_count": 2,
   "metadata": {},
   "outputs": [],
   "source": [
    "fda = pd.read_csv('tables/features/fda-features.boolean.txt', sep='\\t', index_col='model_id')\n",
    "cgc = pd.read_csv('tables/features/jaccard-cgc-feature-types.boolean.txt', sep='\\t', index_col='model_id')\n",
    "\n",
    "somatic = cgc.loc[:, cgc.columns[cgc.columns.str.contains('Somatic Variant')]]\n",
    "cn = cgc.loc[:, cgc.columns[cgc.columns.str.contains('Copy Number')]]\n",
    "fusion = cgc.loc[:, cgc.columns[cgc.columns.str.contains('Rearrangement')]]"
   ]
  },
  {
   "cell_type": "code",
   "execution_count": 3,
   "metadata": {},
   "outputs": [],
   "source": [
    "items = []\n",
    "columns = [\n",
    "          'case', 'comparison',\n",
    "          'n_fda', 'n_fda_shared_w_neighbor',\n",
    "          'n_somatic', 'n_somatic_shared_w_neighbor',\n",
    "          'n_cn', 'n_cn_shared_w_neighbor',\n",
    "          'n_fusion', 'n_fusion_shared_w_neighbor'\n",
    "          ]\n",
    "\n",
    "for label, group in distances.groupby('case'):\n",
    "    comparison = group.loc[group.index[0], 'comparison']\n",
    "    \n",
    "    series = pd.Series('', index=columns)\n",
    "    series.loc['case'] = label\n",
    "    series.loc['comparison'] = comparison\n",
    "    series.loc['n_fda'] = fda.loc[label].sum()\n",
    "    series.loc['n_somatic'] = somatic.loc[label].sum()\n",
    "    series.loc['n_cn'] = cn.loc[label].sum()\n",
    "    series.loc['n_fusion'] = fusion.loc[label].sum()\n",
    "    \n",
    "    series.loc['n_fda_shared_w_neighbor'] = fda.loc[[label, comparison]].sum().eq(2).sum()\n",
    "    series.loc['n_somatic_shared_w_neighbor'] = somatic.loc[[label, comparison]].sum().eq(2).sum()\n",
    "    series.loc['n_cn_shared_w_neighbor'] = cn.loc[[label, comparison]].sum().eq(2).sum()\n",
    "    series.loc['n_fusion_shared_w_neighbor'] = fusion.loc[[label, comparison]].sum().eq(2).sum()\n",
    "    \n",
    "    series.loc['n'] = (\n",
    "        series.loc[['n_fda', 'n_somatic', 'n_cn', 'n_fusion']].sum()\n",
    "    )\n",
    "      \n",
    "    items.append(series)"
   ]
  },
  {
   "cell_type": "code",
   "execution_count": 4,
   "metadata": {},
   "outputs": [
    {
     "data": {
      "text/html": [
       "<div>\n",
       "<style scoped>\n",
       "    .dataframe tbody tr th:only-of-type {\n",
       "        vertical-align: middle;\n",
       "    }\n",
       "\n",
       "    .dataframe tbody tr th {\n",
       "        vertical-align: top;\n",
       "    }\n",
       "\n",
       "    .dataframe thead th {\n",
       "        text-align: right;\n",
       "    }\n",
       "</style>\n",
       "<table border=\"1\" class=\"dataframe\">\n",
       "  <thead>\n",
       "    <tr style=\"text-align: right;\">\n",
       "      <th></th>\n",
       "      <th>case</th>\n",
       "      <th>comparison</th>\n",
       "      <th>snf_fda-cgc</th>\n",
       "    </tr>\n",
       "  </thead>\n",
       "  <tbody>\n",
       "    <tr>\n",
       "      <th>142026</th>\n",
       "      <td>ACH-001190</td>\n",
       "      <td>ACH-000759</td>\n",
       "      <td>0.996835</td>\n",
       "    </tr>\n",
       "    <tr>\n",
       "      <th>141965</th>\n",
       "      <td>ACH-001190</td>\n",
       "      <td>ACH-000615</td>\n",
       "      <td>0.996912</td>\n",
       "    </tr>\n",
       "    <tr>\n",
       "      <th>142021</th>\n",
       "      <td>ACH-001190</td>\n",
       "      <td>ACH-000748</td>\n",
       "      <td>0.996916</td>\n",
       "    </tr>\n",
       "    <tr>\n",
       "      <th>142035</th>\n",
       "      <td>ACH-001190</td>\n",
       "      <td>ACH-000783</td>\n",
       "      <td>0.996956</td>\n",
       "    </tr>\n",
       "    <tr>\n",
       "      <th>142023</th>\n",
       "      <td>ACH-001190</td>\n",
       "      <td>ACH-000752</td>\n",
       "      <td>0.997005</td>\n",
       "    </tr>\n",
       "  </tbody>\n",
       "</table>\n",
       "</div>"
      ],
      "text/plain": [
       "              case  comparison  snf_fda-cgc\n",
       "142026  ACH-001190  ACH-000759     0.996835\n",
       "141965  ACH-001190  ACH-000615     0.996912\n",
       "142021  ACH-001190  ACH-000748     0.996916\n",
       "142035  ACH-001190  ACH-000783     0.996956\n",
       "142023  ACH-001190  ACH-000752     0.997005"
      ]
     },
     "execution_count": 4,
     "metadata": {},
     "output_type": "execute_result"
    }
   ],
   "source": [
    "group.head()"
   ]
  },
  {
   "cell_type": "code",
   "execution_count": 5,
   "metadata": {},
   "outputs": [],
   "source": [
    "df = pd.concat(items, axis=1).T\n",
    "df.set_index('case', inplace=True)"
   ]
  },
  {
   "cell_type": "code",
   "execution_count": 6,
   "metadata": {},
   "outputs": [
    {
     "data": {
      "text/html": [
       "<div>\n",
       "<style scoped>\n",
       "    .dataframe tbody tr th:only-of-type {\n",
       "        vertical-align: middle;\n",
       "    }\n",
       "\n",
       "    .dataframe tbody tr th {\n",
       "        vertical-align: top;\n",
       "    }\n",
       "\n",
       "    .dataframe thead th {\n",
       "        text-align: right;\n",
       "    }\n",
       "</style>\n",
       "<table border=\"1\" class=\"dataframe\">\n",
       "  <thead>\n",
       "    <tr style=\"text-align: right;\">\n",
       "      <th></th>\n",
       "      <th>comparison</th>\n",
       "      <th>n_fda</th>\n",
       "      <th>n_fda_shared_w_neighbor</th>\n",
       "      <th>n_somatic</th>\n",
       "      <th>n_somatic_shared_w_neighbor</th>\n",
       "      <th>n_cn</th>\n",
       "      <th>n_cn_shared_w_neighbor</th>\n",
       "      <th>n_fusion</th>\n",
       "      <th>n_fusion_shared_w_neighbor</th>\n",
       "      <th>n</th>\n",
       "    </tr>\n",
       "    <tr>\n",
       "      <th>case</th>\n",
       "      <th></th>\n",
       "      <th></th>\n",
       "      <th></th>\n",
       "      <th></th>\n",
       "      <th></th>\n",
       "      <th></th>\n",
       "      <th></th>\n",
       "      <th></th>\n",
       "      <th></th>\n",
       "      <th></th>\n",
       "    </tr>\n",
       "  </thead>\n",
       "  <tbody>\n",
       "    <tr>\n",
       "      <th>ACH-000001</th>\n",
       "      <td>ACH-000893</td>\n",
       "      <td>1</td>\n",
       "      <td>1</td>\n",
       "      <td>13</td>\n",
       "      <td>3</td>\n",
       "      <td>188</td>\n",
       "      <td>24</td>\n",
       "      <td>9</td>\n",
       "      <td>0</td>\n",
       "      <td>211</td>\n",
       "    </tr>\n",
       "    <tr>\n",
       "      <th>ACH-000007</th>\n",
       "      <td>ACH-000504</td>\n",
       "      <td>0</td>\n",
       "      <td>0</td>\n",
       "      <td>30</td>\n",
       "      <td>0</td>\n",
       "      <td>22</td>\n",
       "      <td>6</td>\n",
       "      <td>0</td>\n",
       "      <td>0</td>\n",
       "      <td>52</td>\n",
       "    </tr>\n",
       "    <tr>\n",
       "      <th>ACH-000008</th>\n",
       "      <td>ACH-000450</td>\n",
       "      <td>1</td>\n",
       "      <td>1</td>\n",
       "      <td>17</td>\n",
       "      <td>2</td>\n",
       "      <td>29</td>\n",
       "      <td>16</td>\n",
       "      <td>0</td>\n",
       "      <td>0</td>\n",
       "      <td>47</td>\n",
       "    </tr>\n",
       "    <tr>\n",
       "      <th>ACH-000009</th>\n",
       "      <td>ACH-000759</td>\n",
       "      <td>0</td>\n",
       "      <td>0</td>\n",
       "      <td>22</td>\n",
       "      <td>2</td>\n",
       "      <td>84</td>\n",
       "      <td>43</td>\n",
       "      <td>1</td>\n",
       "      <td>0</td>\n",
       "      <td>107</td>\n",
       "    </tr>\n",
       "    <tr>\n",
       "      <th>ACH-000012</th>\n",
       "      <td>ACH-000491</td>\n",
       "      <td>3</td>\n",
       "      <td>2</td>\n",
       "      <td>9</td>\n",
       "      <td>2</td>\n",
       "      <td>15</td>\n",
       "      <td>3</td>\n",
       "      <td>2</td>\n",
       "      <td>1</td>\n",
       "      <td>29</td>\n",
       "    </tr>\n",
       "  </tbody>\n",
       "</table>\n",
       "</div>"
      ],
      "text/plain": [
       "            comparison n_fda n_fda_shared_w_neighbor n_somatic  \\\n",
       "case                                                             \n",
       "ACH-000001  ACH-000893     1                       1        13   \n",
       "ACH-000007  ACH-000504     0                       0        30   \n",
       "ACH-000008  ACH-000450     1                       1        17   \n",
       "ACH-000009  ACH-000759     0                       0        22   \n",
       "ACH-000012  ACH-000491     3                       2         9   \n",
       "\n",
       "           n_somatic_shared_w_neighbor n_cn n_cn_shared_w_neighbor n_fusion  \\\n",
       "case                                                                          \n",
       "ACH-000001                           3  188                     24        9   \n",
       "ACH-000007                           0   22                      6        0   \n",
       "ACH-000008                           2   29                     16        0   \n",
       "ACH-000009                           2   84                     43        1   \n",
       "ACH-000012                           2   15                      3        2   \n",
       "\n",
       "           n_fusion_shared_w_neighbor    n  \n",
       "case                                        \n",
       "ACH-000001                          0  211  \n",
       "ACH-000007                          0   52  \n",
       "ACH-000008                          0   47  \n",
       "ACH-000009                          0  107  \n",
       "ACH-000012                          1   29  "
      ]
     },
     "execution_count": 6,
     "metadata": {},
     "output_type": "execute_result"
    }
   ],
   "source": [
    "df.head()"
   ]
  },
  {
   "cell_type": "code",
   "execution_count": 9,
   "metadata": {},
   "outputs": [
    {
     "data": {
      "image/png": "[encoded data removed]",
      "text/plain": [
       "<Figure size 2125.98x1417.32 with 4 Axes>"
      ]
     },
     "metadata": {
      "needs_background": "light"
     },
     "output_type": "display_data"
    }
   ],
   "source": [
    "import matplotlib.pyplot as plt\n",
    "import matplotlib.gridspec as gridspec\n",
    "%matplotlib inline\n",
    "\n",
    "BLUE = '#4e79a7'\n",
    "ORANGE = '#f28e2b'\n",
    "\n",
    "cm = 1/2.54\n",
    "fig = plt.figure(figsize=(18*cm, 12*cm), dpi=300)\n",
    "spec = gridspec.GridSpec(ncols=2, nrows=2, figure=fig)\n",
    "\n",
    "f_ax1 = fig.add_subplot(spec[0, 0])\n",
    "p1 = df.loc[:, 'n_fda_shared_w_neighbor'].plot.bar(ax=f_ax1, color=ORANGE, label='shared')\n",
    "p2 = df.loc[:, 'n_fda'].subtract(df.loc[:, 'n_fda_shared_w_neighbor']).plot.bar(ax=f_ax1, bottom=df.loc[:, 'n_fda_shared_w_neighbor'], color=BLUE, label='not shared')\n",
    "f_ax1.axes.get_xaxis().set_visible(False)\n",
    "f_ax1.set_title('FDA features unique\\nand shared with nearest neighbor (n = 377 cell lines)', fontsize=7)\n",
    "plt.legend(fontsize=6)\n",
    "plt.ylabel('Counts of FDA features shared\\nwith nearest neighbor', fontsize=6)\n",
    "\n",
    "f_ax2 = fig.add_subplot(spec[0, 1])\n",
    "p3 = df.loc[:, 'n_somatic_shared_w_neighbor'].plot.bar(ax=f_ax2, color=ORANGE, label='shared')\n",
    "p4 = df.loc[:, 'n_somatic'].subtract(df.loc[:, 'n_somatic_shared_w_neighbor']).plot.bar(ax=f_ax2, bottom=df.loc[:, 'n_somatic_shared_w_neighbor'], color=BLUE, label='not shared')\n",
    "f_ax2.axes.get_xaxis().set_visible(False)\n",
    "f_ax2.set_title('CGC genes w/ somatic variants unique\\nand shared with nearest neighbor (n = 377 cell lines)', fontsize=7)\n",
    "plt.ylabel('Counts of somatic variants shared\\nwith nearest neighbor', fontsize=6)\n",
    "plt.legend(fontsize=6)\n",
    "\n",
    "f_ax3 = fig.add_subplot(spec[1, 0])\n",
    "p5 = df.loc[:, 'n_cn_shared_w_neighbor'].plot.bar(ax=f_ax3, color=ORANGE, label='shared')\n",
    "p6 = df.loc[:, 'n_cn'].subtract(df.loc[:, 'n_cn_shared_w_neighbor']).plot.bar(ax=f_ax3, bottom=df.loc[:, 'n_cn_shared_w_neighbor'], color=BLUE, label='not shared')\n",
    "f_ax3.axes.get_xaxis().set_visible(False)\n",
    "f_ax3.set_title('CGC genes w/ copy number alterations unique\\nand shared with nearest neighbor (n = 377 cell lines)', fontsize=7)\n",
    "plt.ylabel('Counts of copy number alterations shared\\nwith nearest neighbor', fontsize=6)\n",
    "plt.legend(fontsize=6)\n",
    "\n",
    "f_ax4 = fig.add_subplot(spec[1, 1])\n",
    "p7 = df.loc[:, 'n_fusion_shared_w_neighbor'].plot.bar(ax=f_ax4, color=ORANGE, label='shared')\n",
    "p8 = df.loc[:, 'n_fusion'].subtract(df.loc[:, 'n_fusion_shared_w_neighbor']).plot.bar(ax=f_ax4, bottom=df.loc[:, 'n_fusion_shared_w_neighbor'], color=BLUE, label='not shared')\n",
    "f_ax4.axes.get_xaxis().set_visible(False)\n",
    "f_ax4.set_title('CGC genes w/ fusions unique\\nand shared with nearest neighbor (n = 377 cell lines)', fontsize=7)\n",
    "plt.ylabel('Counts of fusions shared\\nwith nearest neighbor', fontsize=6)\n",
    "plt.legend(fontsize=6)\n",
    "\n",
    "def remove_spines(ax):\n",
    "    for spine in ['top', 'bottom', 'left', 'right']:\n",
    "        ax.spines[spine].set_visible(False)\n",
    "\n",
    "for ax in [f_ax1, f_ax2, f_ax3, f_ax4]:\n",
    "    remove_spines(ax)\n",
    "    ax.tick_params(axis='both', which='major', labelsize=6)\n",
    "    ax.tick_params(axis='both', which='minor', labelsize=6)\n",
    "\n",
    "filename = 'extended-data-fig-3'\n",
    "folder = f'../../extended-data-figures/extended-data-fig-3'\n",
    "!mkdir -p $folder\n",
    "for suffix in ['eps', 'pdf', 'png', 'svg']:\n",
    "    outname = f'{folder}/{filename}.{suffix}'\n",
    "    plt.savefig(outname, format=suffix, bbox_inches='tight', dpi=300)\n",
    "    \n",
    "df.to_excel(f'{folder}/source-data-{filename}.xlsx', index_label='case_model',\n",
    "           sheet_name='Extended Data Fig. 3')\n",
    "\n",
    "plt.show()"
   ]
  },
  {
   "cell_type": "code",
   "execution_count": 8,
   "metadata": {},
   "outputs": [
    {
     "data": {
      "text/plain": [
       "count    377.000000\n",
       "mean       0.827586\n",
       "std        1.043971\n",
       "min        0.000000\n",
       "25%        0.000000\n",
       "50%        1.000000\n",
       "75%        1.000000\n",
       "max        6.000000\n",
       "Name: n_fda, dtype: float64"
      ]
     },
     "execution_count": 8,
     "metadata": {},
     "output_type": "execute_result"
    }
   ],
   "source": [
    "df['n_fda'].astype(int).describe()"
   ]
  },
  {
   "cell_type": "code",
   "execution_count": 9,
   "metadata": {},
   "outputs": [
    {
     "data": {
      "text/plain": [
       "count    377.000000\n",
       "mean       0.663130\n",
       "std        0.825487\n",
       "min        0.000000\n",
       "25%        0.000000\n",
       "50%        0.000000\n",
       "75%        1.000000\n",
       "max        4.000000\n",
       "Name: n_fda_shared_w_neighbor, dtype: float64"
      ]
     },
     "execution_count": 9,
     "metadata": {},
     "output_type": "execute_result"
    }
   ],
   "source": [
    "df['n_fda_shared_w_neighbor'].astype(int).describe()"
   ]
  },
  {
   "cell_type": "code",
   "execution_count": 10,
   "metadata": {},
   "outputs": [
    {
     "data": {
      "text/plain": [
       "0.0"
      ]
     },
     "execution_count": 10,
     "metadata": {},
     "output_type": "execute_result"
    }
   ],
   "source": [
    "df['n_fda_shared_w_neighbor'].median()"
   ]
  },
  {
   "cell_type": "code",
   "execution_count": 11,
   "metadata": {},
   "outputs": [
    {
     "data": {
      "text/plain": [
       "1.0"
      ]
     },
     "execution_count": 11,
     "metadata": {},
     "output_type": "execute_result"
    }
   ],
   "source": [
    "df['n_fda'].median()"
   ]
  },
  {
   "cell_type": "markdown",
   "metadata": {},
   "source": [
    "## What is the fraction of total somatic variants, rearrangements, and copy number alterations shared between nearest neighbors?"
   ]
  },
  {
   "cell_type": "code",
   "execution_count": 12,
   "metadata": {},
   "outputs": [
    {
     "data": {
      "text/html": [
       "<div>\n",
       "<style scoped>\n",
       "    .dataframe tbody tr th:only-of-type {\n",
       "        vertical-align: middle;\n",
       "    }\n",
       "\n",
       "    .dataframe tbody tr th {\n",
       "        vertical-align: top;\n",
       "    }\n",
       "\n",
       "    .dataframe thead th {\n",
       "        text-align: right;\n",
       "    }\n",
       "</style>\n",
       "<table border=\"1\" class=\"dataframe\">\n",
       "  <thead>\n",
       "    <tr style=\"text-align: right;\">\n",
       "      <th></th>\n",
       "      <th>comparison</th>\n",
       "      <th>n_fda</th>\n",
       "      <th>n_fda_shared_w_neighbor</th>\n",
       "      <th>n_somatic</th>\n",
       "      <th>n_somatic_shared_w_neighbor</th>\n",
       "      <th>n_cn</th>\n",
       "      <th>n_cn_shared_w_neighbor</th>\n",
       "      <th>n_fusion</th>\n",
       "      <th>n_fusion_shared_w_neighbor</th>\n",
       "      <th>n</th>\n",
       "    </tr>\n",
       "    <tr>\n",
       "      <th>case</th>\n",
       "      <th></th>\n",
       "      <th></th>\n",
       "      <th></th>\n",
       "      <th></th>\n",
       "      <th></th>\n",
       "      <th></th>\n",
       "      <th></th>\n",
       "      <th></th>\n",
       "      <th></th>\n",
       "      <th></th>\n",
       "    </tr>\n",
       "  </thead>\n",
       "  <tbody>\n",
       "    <tr>\n",
       "      <th>ACH-000001</th>\n",
       "      <td>ACH-000893</td>\n",
       "      <td>1</td>\n",
       "      <td>1</td>\n",
       "      <td>13</td>\n",
       "      <td>3</td>\n",
       "      <td>188</td>\n",
       "      <td>24</td>\n",
       "      <td>9</td>\n",
       "      <td>0</td>\n",
       "      <td>211</td>\n",
       "    </tr>\n",
       "    <tr>\n",
       "      <th>ACH-000007</th>\n",
       "      <td>ACH-000504</td>\n",
       "      <td>0</td>\n",
       "      <td>0</td>\n",
       "      <td>30</td>\n",
       "      <td>0</td>\n",
       "      <td>22</td>\n",
       "      <td>6</td>\n",
       "      <td>0</td>\n",
       "      <td>0</td>\n",
       "      <td>52</td>\n",
       "    </tr>\n",
       "    <tr>\n",
       "      <th>ACH-000008</th>\n",
       "      <td>ACH-000450</td>\n",
       "      <td>1</td>\n",
       "      <td>1</td>\n",
       "      <td>17</td>\n",
       "      <td>2</td>\n",
       "      <td>29</td>\n",
       "      <td>16</td>\n",
       "      <td>0</td>\n",
       "      <td>0</td>\n",
       "      <td>47</td>\n",
       "    </tr>\n",
       "    <tr>\n",
       "      <th>ACH-000009</th>\n",
       "      <td>ACH-000759</td>\n",
       "      <td>0</td>\n",
       "      <td>0</td>\n",
       "      <td>22</td>\n",
       "      <td>2</td>\n",
       "      <td>84</td>\n",
       "      <td>43</td>\n",
       "      <td>1</td>\n",
       "      <td>0</td>\n",
       "      <td>107</td>\n",
       "    </tr>\n",
       "    <tr>\n",
       "      <th>ACH-000012</th>\n",
       "      <td>ACH-000491</td>\n",
       "      <td>3</td>\n",
       "      <td>2</td>\n",
       "      <td>9</td>\n",
       "      <td>2</td>\n",
       "      <td>15</td>\n",
       "      <td>3</td>\n",
       "      <td>2</td>\n",
       "      <td>1</td>\n",
       "      <td>29</td>\n",
       "    </tr>\n",
       "  </tbody>\n",
       "</table>\n",
       "</div>"
      ],
      "text/plain": [
       "            comparison n_fda n_fda_shared_w_neighbor n_somatic  \\\n",
       "case                                                             \n",
       "ACH-000001  ACH-000893     1                       1        13   \n",
       "ACH-000007  ACH-000504     0                       0        30   \n",
       "ACH-000008  ACH-000450     1                       1        17   \n",
       "ACH-000009  ACH-000759     0                       0        22   \n",
       "ACH-000012  ACH-000491     3                       2         9   \n",
       "\n",
       "           n_somatic_shared_w_neighbor n_cn n_cn_shared_w_neighbor n_fusion  \\\n",
       "case                                                                          \n",
       "ACH-000001                           3  188                     24        9   \n",
       "ACH-000007                           0   22                      6        0   \n",
       "ACH-000008                           2   29                     16        0   \n",
       "ACH-000009                           2   84                     43        1   \n",
       "ACH-000012                           2   15                      3        2   \n",
       "\n",
       "           n_fusion_shared_w_neighbor    n  \n",
       "case                                        \n",
       "ACH-000001                          0  211  \n",
       "ACH-000007                          0   52  \n",
       "ACH-000008                          0   47  \n",
       "ACH-000009                          0  107  \n",
       "ACH-000012                          1   29  "
      ]
     },
     "execution_count": 12,
     "metadata": {},
     "output_type": "execute_result"
    }
   ],
   "source": [
    "df.head()"
   ]
  },
  {
   "cell_type": "code",
   "execution_count": 13,
   "metadata": {},
   "outputs": [
    {
     "data": {
      "text/plain": [
       "count    377.000000\n",
       "mean      88.066313\n",
       "std       44.630318\n",
       "min       11.000000\n",
       "25%       55.000000\n",
       "50%       79.000000\n",
       "75%      113.000000\n",
       "max      274.000000\n",
       "dtype: float64"
      ]
     },
     "execution_count": 13,
     "metadata": {},
     "output_type": "execute_result"
    }
   ],
   "source": [
    "columns_total = ['n_somatic', 'n_cn', 'n_fusion']\n",
    "columns_neighbors = ['n_somatic_shared_w_neighbor', 'n_cn_shared_w_neighbor', 'n_fusion_shared_w_neighbor']\n",
    "df.loc[:, columns_total].sum(axis=1).describe()"
   ]
  },
  {
   "cell_type": "code",
   "execution_count": 14,
   "metadata": {},
   "outputs": [
    {
     "data": {
      "text/plain": [
       "79.0"
      ]
     },
     "execution_count": 14,
     "metadata": {},
     "output_type": "execute_result"
    }
   ],
   "source": [
    "df.loc[:, columns_total].sum(axis=1).median()"
   ]
  },
  {
   "cell_type": "code",
   "execution_count": 15,
   "metadata": {},
   "outputs": [
    {
     "data": {
      "text/plain": [
       "count    377.000000\n",
       "mean      21.034483\n",
       "std       17.446922\n",
       "min        2.000000\n",
       "25%        9.000000\n",
       "50%       17.000000\n",
       "75%       26.000000\n",
       "max      141.000000\n",
       "dtype: float64"
      ]
     },
     "execution_count": 15,
     "metadata": {},
     "output_type": "execute_result"
    }
   ],
   "source": [
    "df.loc[:, columns_neighbors].sum(axis=1).describe()"
   ]
  },
  {
   "cell_type": "code",
   "execution_count": 16,
   "metadata": {},
   "outputs": [
    {
     "data": {
      "text/plain": [
       "17.0"
      ]
     },
     "execution_count": 16,
     "metadata": {},
     "output_type": "execute_result"
    }
   ],
   "source": [
    "df.loc[:, columns_neighbors].sum(axis=1).median()"
   ]
  },
  {
   "cell_type": "code",
   "execution_count": 17,
   "metadata": {},
   "outputs": [
    {
     "data": {
      "text/plain": [
       "count    377.000000\n",
       "mean       0.237613\n",
       "std        0.126351\n",
       "min        0.023077\n",
       "25%        0.142857\n",
       "50%        0.225000\n",
       "75%        0.310345\n",
       "max        0.685185\n",
       "dtype: float64"
      ]
     },
     "execution_count": 17,
     "metadata": {},
     "output_type": "execute_result"
    }
   ],
   "source": [
    "df.loc[:, columns_neighbors].sum(axis=1).divide(df.loc[:, columns_total].sum(axis=1)).describe()"
   ]
  },
  {
   "cell_type": "code",
   "execution_count": 18,
   "metadata": {},
   "outputs": [
    {
     "name": "stdout",
     "output_type": "stream",
     "text": [
      "somatic\n",
      "0.18181818181818182\n",
      "count    377.000000\n",
      "mean       0.191874\n",
      "std        0.098788\n",
      "min        0.000000\n",
      "25%        0.121212\n",
      "50%        0.181818\n",
      "75%        0.250000\n",
      "max        0.590717\n",
      "dtype: float64\n",
      "\n",
      "cn\n",
      "0.24242424242424243\n",
      "count    377.000000\n",
      "mean       0.259363\n",
      "std        0.185723\n",
      "min        0.000000\n",
      "25%        0.105263\n",
      "50%        0.242424\n",
      "75%        0.358974\n",
      "max        0.857143\n",
      "dtype: float64\n",
      "\n",
      "fusion\n",
      "0.0\n",
      "count    221.000000\n",
      "mean       0.098039\n",
      "std        0.279684\n",
      "min        0.000000\n",
      "25%        0.000000\n",
      "50%        0.000000\n",
      "75%        0.000000\n",
      "max        1.000000\n",
      "dtype: float64\n",
      "\n"
     ]
    }
   ],
   "source": [
    "for dtype in ['somatic', 'cn', 'fusion']:\n",
    "    tmp = df.loc[:, f'n_{dtype}_shared_w_neighbor'].divide(df.loc[:, f'n_{dtype}'])\n",
    "    print(dtype)\n",
    "    print(tmp.median())\n",
    "    print(tmp.astype(float).describe())\n",
    "    print('')"
   ]
  },
  {
   "cell_type": "code",
   "execution_count": 19,
   "metadata": {},
   "outputs": [
    {
     "data": {
      "text/plain": [
       "22.0"
      ]
     },
     "execution_count": 19,
     "metadata": {},
     "output_type": "execute_result"
    }
   ],
   "source": [
    "df['n_somatic'].median()"
   ]
  },
  {
   "cell_type": "code",
   "execution_count": 20,
   "metadata": {},
   "outputs": [
    {
     "data": {
      "text/plain": [
       "1.0"
      ]
     },
     "execution_count": 20,
     "metadata": {},
     "output_type": "execute_result"
    }
   ],
   "source": [
    "df['n_fusion'].median()"
   ]
  },
  {
   "cell_type": "code",
   "execution_count": 21,
   "metadata": {},
   "outputs": [
    {
     "data": {
      "text/plain": [
       "48.0"
      ]
     },
     "execution_count": 21,
     "metadata": {},
     "output_type": "execute_result"
    }
   ],
   "source": [
    "df['n_cn'].median()"
   ]
  },
  {
   "cell_type": "code",
   "execution_count": 22,
   "metadata": {},
   "outputs": [
    {
     "data": {
      "text/plain": [
       "1.0"
      ]
     },
     "execution_count": 22,
     "metadata": {},
     "output_type": "execute_result"
    }
   ],
   "source": [
    "df['n_fda'].median()"
   ]
  },
  {
   "cell_type": "code",
   "execution_count": 23,
   "metadata": {},
   "outputs": [
    {
     "name": "stdout",
     "output_type": "stream",
     "text": [
      "205 172\n"
     ]
    }
   ],
   "source": [
    "w_fda = df[~df['n_fda'].eq(0)]\n",
    "wo_fda = df[df['n_fda'].eq(0)]\n",
    "print(w_fda.shape[0], wo_fda.shape[0])"
   ]
  },
  {
   "cell_type": "code",
   "execution_count": 24,
   "metadata": {},
   "outputs": [
    {
     "name": "stdout",
     "output_type": "stream",
     "text": [
      "1.5219512195121951 6 0.9730466091052128\n"
     ]
    }
   ],
   "source": [
    "print(w_fda['n_fda'].mean(), w_fda['n_fda'].max(), w_fda['n_fda'].std())"
   ]
  },
  {
   "cell_type": "code",
   "execution_count": 25,
   "metadata": {},
   "outputs": [
    {
     "data": {
      "text/plain": [
       "1.0"
      ]
     },
     "execution_count": 25,
     "metadata": {},
     "output_type": "execute_result"
    }
   ],
   "source": [
    "w_fda['n_fda_shared_w_neighbor'].divide(w_fda['n_fda']).median()"
   ]
  },
  {
   "cell_type": "code",
   "execution_count": 26,
   "metadata": {},
   "outputs": [
    {
     "data": {
      "text/plain": [
       "1.000000    154\n",
       "0.500000     22\n",
       "0.000000     17\n",
       "0.666667      8\n",
       "0.333333      1\n",
       "0.800000      1\n",
       "0.750000      1\n",
       "0.400000      1\n",
       "dtype: int64"
      ]
     },
     "execution_count": 26,
     "metadata": {},
     "output_type": "execute_result"
    }
   ],
   "source": [
    "w_fda['n_fda_shared_w_neighbor'].divide(w_fda['n_fda']).value_counts()"
   ]
  },
  {
   "cell_type": "code",
   "execution_count": 27,
   "metadata": {},
   "outputs": [
    {
     "data": {
      "text/plain": [
       "0.751219512195122"
      ]
     },
     "execution_count": 27,
     "metadata": {},
     "output_type": "execute_result"
    }
   ],
   "source": [
    "154/205"
   ]
  },
  {
   "cell_type": "markdown",
   "metadata": {},
   "source": [
    "### For the FDA approvals that are not "
   ]
  },
  {
   "cell_type": "code",
   "execution_count": 28,
   "metadata": {},
   "outputs": [
    {
     "name": "stdout",
     "output_type": "stream",
     "text": [
      "somatic\n",
      "0.1702127659574468\n",
      "count    17.000000\n",
      "mean      0.184398\n",
      "std       0.075493\n",
      "min       0.086957\n",
      "25%       0.133333\n",
      "50%       0.170213\n",
      "75%       0.208333\n",
      "max       0.312500\n",
      "dtype: float64\n",
      "\n",
      "cn\n",
      "0.13636363636363635\n",
      "count    17.000000\n",
      "mean      0.226606\n",
      "std       0.211358\n",
      "min       0.008929\n",
      "25%       0.071429\n",
      "50%       0.136364\n",
      "75%       0.333333\n",
      "max       0.714286\n",
      "dtype: float64\n",
      "\n",
      "fusion\n",
      "0.0\n",
      "count    14.000000\n",
      "mean      0.214286\n",
      "std       0.425815\n",
      "min       0.000000\n",
      "25%       0.000000\n",
      "50%       0.000000\n",
      "75%       0.000000\n",
      "max       1.000000\n",
      "dtype: float64\n",
      "\n"
     ]
    }
   ],
   "source": [
    "fda_not_shared = df[~df['n_fda'].eq(0) & df['n_fda_shared_w_neighbor'].eq(0)]\n",
    "for dtype in ['somatic', 'cn', 'fusion']:\n",
    "    tmp = fda_not_shared.loc[:, f'n_{dtype}_shared_w_neighbor'].divide(fda_not_shared.loc[:, f'n_{dtype}'])\n",
    "    print(dtype)\n",
    "    print(tmp.median())\n",
    "    print(tmp.astype(float).describe())\n",
    "    print('')"
   ]
  },
  {
   "cell_type": "markdown",
   "metadata": {},
   "source": [
    "### Those w/o an approval"
   ]
  },
  {
   "cell_type": "code",
   "execution_count": 29,
   "metadata": {},
   "outputs": [
    {
     "name": "stdout",
     "output_type": "stream",
     "text": [
      "somatic\n",
      "0.17752100840336135\n",
      "count    172.000000\n",
      "mean       0.186210\n",
      "std        0.097334\n",
      "min        0.000000\n",
      "25%        0.110119\n",
      "50%        0.177521\n",
      "75%        0.250000\n",
      "max        0.500000\n",
      "dtype: float64\n",
      "\n",
      "cn\n",
      "0.2922201138519924\n",
      "count    172.000000\n",
      "mean       0.308707\n",
      "std        0.188284\n",
      "min        0.000000\n",
      "25%        0.182467\n",
      "50%        0.292220\n",
      "75%        0.418575\n",
      "max        0.807692\n",
      "dtype: float64\n",
      "\n",
      "fusion\n",
      "0.0\n",
      "count    89.000000\n",
      "mean      0.170412\n",
      "std       0.355315\n",
      "min       0.000000\n",
      "25%       0.000000\n",
      "50%       0.000000\n",
      "75%       0.000000\n",
      "max       1.000000\n",
      "dtype: float64\n",
      "\n"
     ]
    }
   ],
   "source": [
    "for dtype in ['somatic', 'cn', 'fusion']:\n",
    "    tmp = wo_fda.loc[:, f'n_{dtype}_shared_w_neighbor'].divide(wo_fda.loc[:, f'n_{dtype}'])\n",
    "    print(dtype)\n",
    "    print(tmp.median())\n",
    "    print(tmp.astype(float).describe())\n",
    "    print('')"
   ]
  },
  {
   "cell_type": "code",
   "execution_count": null,
   "metadata": {},
   "outputs": [],
   "source": []
  },
  {
   "cell_type": "code",
   "execution_count": null,
   "metadata": {},
   "outputs": [],
   "source": []
  }
 ],
 "metadata": {
  "kernelspec": {
   "display_name": "moalmanac-paper",
   "language": "python",
   "name": "moalmanac-paper"
  },
  "language_info": {
   "codemirror_mode": {
    "name": "ipython",
    "version": 3
   },
   "file_extension": ".py",
   "mimetype": "text/x-python",
   "name": "python",
   "nbconvert_exporter": "python",
   "pygments_lexer": "ipython3",
   "version": "3.7.3"
  }
 },
 "nbformat": 4,
 "nbformat_minor": 4
}
