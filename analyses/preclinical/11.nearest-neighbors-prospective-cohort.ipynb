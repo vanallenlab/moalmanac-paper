{
 "cells": [
  {
   "cell_type": "markdown",
   "metadata": {},
   "source": [
    "# Nearest neighbors from prospective cohorts\n",
    "We applied matchmaking to the prospective clinical trial (I-PREDICT). In this notebook, we look at the results; specifically...."
   ]
  },
  {
   "cell_type": "code",
   "execution_count": 2,
   "metadata": {},
   "outputs": [],
   "source": [
    "import glob\n",
    "import matplotlib.gridspec as gridspec\n",
    "import matplotlib.pyplot as plt\n",
    "import pandas as pd\n",
    "\n",
    "import sys\n",
    "sys.path.append('../../common/')\n",
    "import settings\n",
    "settings.set_arial_as_font()\n",
    "\n",
    "from settings import Colors\n",
    "tableau10 = Colors.tableau10\n",
    "\n",
    "%matplotlib inline"
   ]
  },
  {
   "cell_type": "code",
   "execution_count": 3,
   "metadata": {},
   "outputs": [
    {
     "name": "stderr",
     "output_type": "stream",
     "text": [
      "/miniconda3/envs/moalmanac-paper/lib/python3.7/site-packages/ipykernel_launcher.py:17: DeprecationWarning: The default dtype for empty Series will be 'object' instead of 'float64' in a future version. Specify a dtype explicitly to silence this warning.\n"
     ]
    }
   ],
   "source": [
    "handles = glob.glob('../prospective-trial/almanac_outputs/*/*.matchmaker.txt')\n",
    "\n",
    "summary = pd.read_csv('formatted/cell-lines.summary.txt', sep='\\t')\n",
    "zscores = pd.read_csv('formatted/sanger.gdsc.txt', sep='\\t')\n",
    "\n",
    "df = pd.concat([pd.read_csv(handle, sep='\\t', index_col=0) for handle in handles])\n",
    "df = df[~df['comparison'].eq('case-profile')]\n",
    "df.sort_values(['SNF: FDA & CGC'], ascending=True, inplace=True)\n",
    "df.reset_index(inplace=True)\n",
    "df['case'] = df['case'].astype(str)\n",
    "\n",
    "broad_to_ccle_map = summary.set_index('broad')['ccle_name'].dropna().to_dict()\n",
    "sanger_to_ccle_map = summary.set_index('sanger')['ccle_name'].dropna().to_dict()\n",
    "\n",
    "zscores['ccle_name'] = zscores['model_id'].replace(sanger_to_ccle_map)\n",
    "\n",
    "first_neighbors = pd.Series(index=df['case'].astype(str).sort_values().drop_duplicates())\n",
    "for label, group in df.groupby('case'):\n",
    "    nearest = group['comparison'].replace(broad_to_ccle_map).tolist()[0]\n",
    "    first_neighbors.loc[label] = nearest\n",
    "first_neighbors.name = 'nearest neighbor'\n",
    "first_neighbors = first_neighbors.to_frame().reset_index()\n"
   ]
  },
  {
   "cell_type": "code",
   "execution_count": 4,
   "metadata": {},
   "outputs": [],
   "source": [
    "for index in first_neighbors.index: \n",
    "    cell_line = first_neighbors.loc[index, 'nearest neighbor']\n",
    "    therapies = zscores[zscores['ccle_name'].eq(cell_line) & zscores['z_score'].le(-2)]['therapy_name'].tolist()\n",
    "    n = len(therapies)\n",
    "    first_neighbors.loc[index, 'sensitive therapies'] = ', '.join(therapies)\n",
    "    first_neighbors.loc[index, 'n'] = n"
   ]
  },
  {
   "cell_type": "code",
   "execution_count": 5,
   "metadata": {},
   "outputs": [
    {
     "data": {
      "text/plain": [
       "2.0     19\n",
       "1.0     17\n",
       "0.0     14\n",
       "6.0      8\n",
       "5.0      5\n",
       "8.0      4\n",
       "4.0      4\n",
       "13.0     4\n",
       "11.0     2\n",
       "16.0     2\n",
       "7.0      1\n",
       "12.0     1\n",
       "9.0      1\n",
       "3.0      1\n",
       "Name: n, dtype: int64"
      ]
     },
     "execution_count": 5,
     "metadata": {},
     "output_type": "execute_result"
    }
   ],
   "source": [
    "first_neighbors['n'].value_counts()"
   ]
  },
  {
   "cell_type": "code",
   "execution_count": 6,
   "metadata": {},
   "outputs": [
    {
     "data": {
      "text/plain": [
       "313.0"
      ]
     },
     "execution_count": 6,
     "metadata": {},
     "output_type": "execute_result"
    }
   ],
   "source": [
    "first_neighbors['n'].sum()"
   ]
  },
  {
   "cell_type": "code",
   "execution_count": 7,
   "metadata": {},
   "outputs": [
    {
     "data": {
      "text/plain": [
       "count    83.000000\n",
       "mean      3.771084\n",
       "std       4.070493\n",
       "min       0.000000\n",
       "25%       1.000000\n",
       "50%       2.000000\n",
       "75%       6.000000\n",
       "max      16.000000\n",
       "Name: n, dtype: float64"
      ]
     },
     "execution_count": 7,
     "metadata": {},
     "output_type": "execute_result"
    }
   ],
   "source": [
    "first_neighbors['n'].describe()"
   ]
  },
  {
   "cell_type": "code",
   "execution_count": 14,
   "metadata": {},
   "outputs": [],
   "source": [
    "first_neighbors['case'] = first_neighbors['case'].astype(str)\n",
    "(first_neighbors\n",
    " .sort_values(['case'])\n",
    " .to_csv('tables/ipredict/ipredict.nearest_neighbors.txt', sep='\\t', index=False)\n",
    ")"
   ]
  },
  {
   "cell_type": "code",
   "execution_count": 15,
   "metadata": {},
   "outputs": [
    {
     "data": {
      "text/html": [
       "<div>\n",
       "<style scoped>\n",
       "    .dataframe tbody tr th:only-of-type {\n",
       "        vertical-align: middle;\n",
       "    }\n",
       "\n",
       "    .dataframe tbody tr th {\n",
       "        vertical-align: top;\n",
       "    }\n",
       "\n",
       "    .dataframe thead th {\n",
       "        text-align: right;\n",
       "    }\n",
       "</style>\n",
       "<table border=\"1\" class=\"dataframe\">\n",
       "  <thead>\n",
       "    <tr style=\"text-align: right;\">\n",
       "      <th></th>\n",
       "      <th>case</th>\n",
       "      <th>nearest neighbor</th>\n",
       "      <th>sensitive therapies</th>\n",
       "      <th>n</th>\n",
       "    </tr>\n",
       "  </thead>\n",
       "  <tbody>\n",
       "    <tr>\n",
       "      <th>0</th>\n",
       "      <td>101</td>\n",
       "      <td>U118MG_CENTRAL_NERVOUS_SYSTEM</td>\n",
       "      <td>Fludarabine, Rucaparib</td>\n",
       "      <td>2.0</td>\n",
       "    </tr>\n",
       "    <tr>\n",
       "      <th>1</th>\n",
       "      <td>102</td>\n",
       "      <td>A375_SKIN</td>\n",
       "      <td>SB590885, Dabrafenib, LIMK1 inhibitor BMS4, (5...</td>\n",
       "      <td>13.0</td>\n",
       "    </tr>\n",
       "    <tr>\n",
       "      <th>2</th>\n",
       "      <td>105</td>\n",
       "      <td>CAL29_URINARY_TRACT</td>\n",
       "      <td>AZD8835, PI3Ka_4409, Taselisib, Alpelisib</td>\n",
       "      <td>4.0</td>\n",
       "    </tr>\n",
       "    <tr>\n",
       "      <th>3</th>\n",
       "      <td>112</td>\n",
       "      <td>A549_LUNG</td>\n",
       "      <td>Tanespimycin, BPTES</td>\n",
       "      <td>2.0</td>\n",
       "    </tr>\n",
       "    <tr>\n",
       "      <th>4</th>\n",
       "      <td>115</td>\n",
       "      <td>SW948_LARGE_INTESTINE</td>\n",
       "      <td>Bicalutamide</td>\n",
       "      <td>1.0</td>\n",
       "    </tr>\n",
       "    <tr>\n",
       "      <th>...</th>\n",
       "      <td>...</td>\n",
       "      <td>...</td>\n",
       "      <td>...</td>\n",
       "      <td>...</td>\n",
       "    </tr>\n",
       "    <tr>\n",
       "      <th>78</th>\n",
       "      <td>A041</td>\n",
       "      <td>MHHNB11_AUTONOMIC_GANGLIA</td>\n",
       "      <td>CX-5461</td>\n",
       "      <td>1.0</td>\n",
       "    </tr>\n",
       "    <tr>\n",
       "      <th>79</th>\n",
       "      <td>A042</td>\n",
       "      <td>HT144_SKIN</td>\n",
       "      <td>SB590885, Dabrafenib, AZ628, PLX-4720, Voxtali...</td>\n",
       "      <td>13.0</td>\n",
       "    </tr>\n",
       "    <tr>\n",
       "      <th>80</th>\n",
       "      <td>A043</td>\n",
       "      <td>NCIH1792_LUNG</td>\n",
       "      <td>UNC0642, Avagacestat, CHIR-99021, FMK</td>\n",
       "      <td>4.0</td>\n",
       "    </tr>\n",
       "    <tr>\n",
       "      <th>81</th>\n",
       "      <td>A044</td>\n",
       "      <td>GMS10_CENTRAL_NERVOUS_SYSTEM</td>\n",
       "      <td>IAP_5620, AZD5582, LCL161, MCT4_1422, IAP_7638...</td>\n",
       "      <td>6.0</td>\n",
       "    </tr>\n",
       "    <tr>\n",
       "      <th>82</th>\n",
       "      <td>A045</td>\n",
       "      <td>ASPC1_PANCREAS</td>\n",
       "      <td></td>\n",
       "      <td>0.0</td>\n",
       "    </tr>\n",
       "  </tbody>\n",
       "</table>\n",
       "<p>83 rows × 4 columns</p>\n",
       "</div>"
      ],
      "text/plain": [
       "    case               nearest neighbor  \\\n",
       "0    101  U118MG_CENTRAL_NERVOUS_SYSTEM   \n",
       "1    102                      A375_SKIN   \n",
       "2    105            CAL29_URINARY_TRACT   \n",
       "3    112                      A549_LUNG   \n",
       "4    115          SW948_LARGE_INTESTINE   \n",
       "..   ...                            ...   \n",
       "78  A041      MHHNB11_AUTONOMIC_GANGLIA   \n",
       "79  A042                     HT144_SKIN   \n",
       "80  A043                  NCIH1792_LUNG   \n",
       "81  A044   GMS10_CENTRAL_NERVOUS_SYSTEM   \n",
       "82  A045                 ASPC1_PANCREAS   \n",
       "\n",
       "                                  sensitive therapies     n  \n",
       "0                              Fludarabine, Rucaparib   2.0  \n",
       "1   SB590885, Dabrafenib, LIMK1 inhibitor BMS4, (5...  13.0  \n",
       "2           AZD8835, PI3Ka_4409, Taselisib, Alpelisib   4.0  \n",
       "3                                 Tanespimycin, BPTES   2.0  \n",
       "4                                        Bicalutamide   1.0  \n",
       "..                                                ...   ...  \n",
       "78                                            CX-5461   1.0  \n",
       "79  SB590885, Dabrafenib, AZ628, PLX-4720, Voxtali...  13.0  \n",
       "80              UNC0642, Avagacestat, CHIR-99021, FMK   4.0  \n",
       "81  IAP_5620, AZD5582, LCL161, MCT4_1422, IAP_7638...   6.0  \n",
       "82                                                      0.0  \n",
       "\n",
       "[83 rows x 4 columns]"
      ]
     },
     "execution_count": 15,
     "metadata": {},
     "output_type": "execute_result"
    }
   ],
   "source": [
    "first_neighbors"
   ]
  },
  {
   "cell_type": "code",
   "execution_count": null,
   "metadata": {},
   "outputs": [],
   "source": []
  }
 ],
 "metadata": {
  "kernelspec": {
   "display_name": "moalmanac-paper",
   "language": "python",
   "name": "moalmanac-paper"
  },
  "language_info": {
   "codemirror_mode": {
    "name": "ipython",
    "version": 3
   },
   "file_extension": ".py",
   "mimetype": "text/x-python",
   "name": "python",
   "nbconvert_exporter": "python",
   "pygments_lexer": "ipython3",
   "version": "3.7.3"
  }
 },
 "nbformat": 4,
 "nbformat_minor": 4
}
