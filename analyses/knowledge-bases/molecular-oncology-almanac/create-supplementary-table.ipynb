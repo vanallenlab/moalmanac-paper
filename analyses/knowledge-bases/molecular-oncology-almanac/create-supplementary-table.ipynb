{
 "cells": [
  {
   "cell_type": "markdown",
   "metadata": {},
   "source": [
    "We create a supplementary table that is an excel file with the following sheets:\n",
    "- target - annotated for updating to moalmanac\n",
    "- moalmanac - aneuploidy\n",
    "- moalmanac - copy_number\n",
    "- moalmanac - germline variant\n",
    "- moalmanac - knockdown\n",
    "- moalmanac - microsatellite stability\n",
    "- moalmanac - mutational burden\n",
    "- moalmanac - mutational signature\n",
    "- moalmanac - neoantigen burden\n",
    "- moalmanac - rearrangement\n",
    "- moalmanac - silencing\n",
    "- moalmanac - somatic variant"
   ]
  },
  {
   "cell_type": "code",
   "execution_count": 1,
   "metadata": {},
   "outputs": [],
   "source": [
    "import openpyxl\n",
    "import pandas as pd\n",
    "import glob \n",
    "\n",
    "filename = 'supplementary-table-2'\n",
    "folder = f'../../../tables/supplementary-table-02'\n",
    "!mkdir -p $folder\n",
    "outname = f'{folder}/{filename}.xlsx'\n",
    "\n",
    "options = {}\n",
    "options['strings_to_formulas'] = False\n",
    "options['strings_to_urls'] = False\n",
    "\n",
    "writer = pd.ExcelWriter(outname)\n",
    "\n",
    "target = pd.read_excel('../target/almanac-comparison.xlsx')\n",
    "target.to_excel(writer, sheet_name='TARGET')\n",
    "\n",
    "sheet_names = []\n",
    "handles = glob.glob('../moalmanac-db/content/*')\n",
    "for handle in sorted(handles):\n",
    "    dtype = handle.split('/')[-1].split('.tsv')[0]\n",
    "    if dtype == 'microsatellite_stability':\n",
    "        dtype = 'msi'\n",
    "    sheet_name = f'moalmanac-{dtype}'\n",
    "    sheet_names.append(sheet_name)\n",
    "    \n",
    "    tmp = pd.read_csv(handle, sep='\\t')\n",
    "    tmp.to_excel(writer, sheet_name=sheet_name, index=False)\n",
    "    \n",
    "writer.save()"
   ]
  },
  {
   "cell_type": "code",
   "execution_count": null,
   "metadata": {},
   "outputs": [],
   "source": []
  }
 ],
 "metadata": {
  "kernelspec": {
   "display_name": "moalmanac-paper",
   "language": "python",
   "name": "moalmanac-paper"
  },
  "language_info": {
   "codemirror_mode": {
    "name": "ipython",
    "version": 3
   },
   "file_extension": ".py",
   "mimetype": "text/x-python",
   "name": "python",
   "nbconvert_exporter": "python",
   "pygments_lexer": "ipython3",
   "version": "3.7.3"
  }
 },
 "nbformat": 4,
 "nbformat_minor": 4
}
