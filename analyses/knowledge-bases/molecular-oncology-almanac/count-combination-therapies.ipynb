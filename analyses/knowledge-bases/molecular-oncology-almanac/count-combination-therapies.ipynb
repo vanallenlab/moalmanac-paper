{
 "cells": [
  {
   "cell_type": "markdown",
   "metadata": {},
   "source": [
    "# Count combination therapies\n",
    "In this notebook, we count how many combination therapies are present in MOAlmanac"
   ]
  },
  {
   "cell_type": "code",
   "execution_count": 1,
   "metadata": {},
   "outputs": [],
   "source": [
    "import glob as glob\n",
    "import pandas as pd"
   ]
  },
  {
   "cell_type": "code",
   "execution_count": 25,
   "metadata": {},
   "outputs": [],
   "source": [
    "handles = glob.glob('/Users/brendan/Github/moalmanac-paper/analyses/knowledge-bases/moalmanac-db/content/*')\n",
    "columns = ['therapy_name', 'therapy_strategy', 'therapy_type']\n",
    "\n",
    "therapies = []\n",
    "for handle in handles:\n",
    "    therapies.append(pd.read_csv(handle, sep='\\t', usecols=columns))\n",
    "df = pd.concat(therapies, ignore_index=True)\n",
    "df.dropna(inplace=True)"
   ]
  },
  {
   "cell_type": "code",
   "execution_count": 26,
   "metadata": {},
   "outputs": [
    {
     "data": {
      "text/plain": [
       "(50, 3)"
      ]
     },
     "execution_count": 26,
     "metadata": {},
     "output_type": "execute_result"
    }
   ],
   "source": [
    "df[df['therapy_name'].str.contains('\\+')].shape"
   ]
  },
  {
   "cell_type": "code",
   "execution_count": 27,
   "metadata": {},
   "outputs": [
    {
     "data": {
      "text/plain": [
       "(31,)"
      ]
     },
     "execution_count": 27,
     "metadata": {},
     "output_type": "execute_result"
    }
   ],
   "source": [
    "df[df['therapy_name'].str.contains('\\+')]['therapy_name'].drop_duplicates().shape"
   ]
  },
  {
   "cell_type": "code",
   "execution_count": 28,
   "metadata": {},
   "outputs": [
    {
     "data": {
      "text/plain": [
       "Targeted therapy       15\n",
       "Combination therapy    13\n",
       "Immunotherapy           2\n",
       "Radiation therapy       1\n",
       "Name: therapy_type, dtype: int64"
      ]
     },
     "execution_count": 28,
     "metadata": {},
     "output_type": "execute_result"
    }
   ],
   "source": [
    "(df\n",
    " [df['therapy_name'].str.contains('\\+')]\n",
    " .loc[:, ['therapy_name', 'therapy_type']]\n",
    " .drop_duplicates()\n",
    " .loc[:, 'therapy_type']\n",
    " .value_counts()\n",
    ")"
   ]
  },
  {
   "cell_type": "code",
   "execution_count": 29,
   "metadata": {},
   "outputs": [
    {
     "data": {
      "text/plain": [
       "Targeted therapy       472\n",
       "Immunotherapy           50\n",
       "Chemotherapy            43\n",
       "Radiation therapy       19\n",
       "Combination therapy     17\n",
       "Hormone therapy          9\n",
       "Name: therapy_type, dtype: int64"
      ]
     },
     "execution_count": 29,
     "metadata": {},
     "output_type": "execute_result"
    }
   ],
   "source": [
    "df.loc[:, ['therapy_name', 'therapy_type']]['therapy_type'].value_counts()"
   ]
  },
  {
   "cell_type": "code",
   "execution_count": null,
   "metadata": {},
   "outputs": [],
   "source": []
  }
 ],
 "metadata": {
  "kernelspec": {
   "display_name": "moalmanac-paper",
   "language": "python",
   "name": "moalmanac-paper"
  },
  "language_info": {
   "codemirror_mode": {
    "name": "ipython",
    "version": 3
   },
   "file_extension": ".py",
   "mimetype": "text/x-python",
   "name": "python",
   "nbconvert_exporter": "python",
   "pygments_lexer": "ipython3",
   "version": "3.7.3"
  }
 },
 "nbformat": 4,
 "nbformat_minor": 4
}
