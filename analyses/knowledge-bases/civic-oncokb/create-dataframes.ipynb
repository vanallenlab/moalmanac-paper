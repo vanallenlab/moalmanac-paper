{
 "cells": [
  {
   "cell_type": "code",
   "execution_count": 3,
   "metadata": {},
   "outputs": [],
   "source": [
    "import pandas as pd\n",
    "import glob as glob\n",
    "import json\n",
    "\n",
    "def read_json(handle):\n",
    "    with open(handle) as f:\n",
    "        data = json.load(f)\n",
    "    return data"
   ]
  },
  {
   "cell_type": "markdown",
   "metadata": {},
   "source": [
    "## Therapies"
   ]
  },
  {
   "cell_type": "code",
   "execution_count": 4,
   "metadata": {},
   "outputs": [],
   "source": [
    "oncokb = pd.read_csv('sources/oncokb_biomarker_drug_associations.2021-02-04.expanded.tsv', sep='\\t')\n",
    "civic = read_json('sources/evidence_items.civic.2021-02-04.json')"
   ]
  },
  {
   "cell_type": "code",
   "execution_count": 6,
   "metadata": {},
   "outputs": [],
   "source": [
    "civic_drugs = []\n",
    "for item in civic:\n",
    "    drugs = item['drugs']\n",
    "    for drug in drugs:\n",
    "        civic_drugs.append(drug['name'])\n",
    "\n",
    "civic_drugs = list(set(sorted(civic_drugs)))\n",
    "civic_drugs = [item.lower() for item in civic_drugs]\n",
    "civic_drugs = sorted(civic_drugs)"
   ]
  },
  {
   "cell_type": "code",
   "execution_count": 7,
   "metadata": {},
   "outputs": [],
   "source": [
    "almanac_drugs = []\n",
    "\n",
    "handles = glob.glob('../moalmanac-db/content/*')\n",
    "almanac = (pd\n",
    "           .concat([pd.read_csv(handle, sep='\\t', usecols=['therapy_name']) for handle in handles])\n",
    "           .loc[:, 'therapy_name']\n",
    "          )\n",
    "for item in almanac.str.lower().dropna().tolist():\n",
    "    almanac_drugs.extend(item.split(' + '))\n",
    "\n",
    "almanac_drugs = sorted(list(set(almanac_drugs)))"
   ]
  },
  {
   "cell_type": "code",
   "execution_count": 8,
   "metadata": {},
   "outputs": [],
   "source": [
    "oncokb_drugs = (oncokb\n",
    " .loc[:, 'Drugs (for therapeutic implications only)']\n",
    " .dropna()\n",
    " .drop_duplicates()\n",
    " .sort_values()\n",
    " .str.lower()\n",
    " .tolist()\n",
    ")\n",
    "\n",
    "oncokb_drugs_split = []\n",
    "for drug in oncokb_drugs:\n",
    "    oncokb_drugs_split.extend(drug.split(' + '))\n",
    "    \n",
    "oncokb_drugs = sorted(list(set(oncokb_drugs_split)))\n",
    "oncokb_drugs = [item.lower() for item in oncokb_drugs]"
   ]
  },
  {
   "cell_type": "code",
   "execution_count": 9,
   "metadata": {},
   "outputs": [],
   "source": [
    "idx_civic = pd.Index(civic_drugs)\n",
    "idx_oncokb = pd.Index(oncokb_drugs)\n",
    "idx_almanac = pd.Index(almanac_drugs)\n",
    "idx_all = idx_civic.union(idx_oncokb).union(idx_almanac)"
   ]
  },
  {
   "cell_type": "code",
   "execution_count": 10,
   "metadata": {},
   "outputs": [
    {
     "name": "stdout",
     "output_type": "stream",
     "text": [
      "CIViC 459\n",
      "MOAlmanac 125\n",
      "OncoKB 90\n"
     ]
    }
   ],
   "source": [
    "df = pd.DataFrame(0, columns=['CIViC', 'MOAlmanac', 'OncoKB'], index=idx_all)\n",
    "df.loc[idx_civic, 'CIViC'] = 1\n",
    "df.loc[idx_almanac, 'MOAlmanac'] = 1\n",
    "df.loc[idx_oncokb, 'OncoKB'] = 1\n",
    "\n",
    "for column in df.columns:\n",
    "    print(column, df[column].eq(1).value_counts()[True])\n",
    "\n",
    "df.to_csv('drug-comparison.txt', sep='\\t', index_label='drug')"
   ]
  },
  {
   "cell_type": "markdown",
   "metadata": {},
   "source": [
    "## Genes or features"
   ]
  },
  {
   "cell_type": "code",
   "execution_count": 12,
   "metadata": {},
   "outputs": [],
   "source": [
    "civic = read_json('sources/variants.civic.2021-02-04.json')\n",
    "civic_genes = []\n",
    "for item in civic:\n",
    "    civic_genes.append(item['entrez_name'])\n",
    "civic_genes = sorted(list(set(civic_genes)))"
   ]
  },
  {
   "cell_type": "code",
   "execution_count": 13,
   "metadata": {},
   "outputs": [],
   "source": [
    "handles = glob.glob('..//moalmanac-db/content/*')\n",
    "handles = [\n",
    "    '/Users/brendan/Github/moalmanac-db/content/silencing.tsv',\n",
    "    '/Users/brendan/Github/moalmanac-db/content/germline_variant.tsv',\n",
    "    #'/Users/brendan/Github/moalmanac-db/content/rearrangement.tsv',\n",
    "    '/Users/brendan/Github/moalmanac-db/content/knockdown.tsv',\n",
    "    '/Users/brendan/Github/moalmanac-db/content/somatic_variant.tsv',\n",
    "    '/Users/brendan/Github/moalmanac-db/content/copy_number.tsv'\n",
    "]\n",
    "\n",
    "almanac = pd.concat([pd.read_csv(handle, sep='\\t', usecols=['gene']) for handle in handles]).loc[:, 'gene']\n",
    "fusions = pd.read_csv('/Users/brendan/Github/moalmanac-db/content/rearrangement.tsv', sep='\\t', usecols=['gene1', 'gene2'])\n",
    "almanac = pd.concat([almanac, fusions['gene1'], fusions['gene2']], ignore_index=True)\n",
    "almanac_genes = almanac.dropna().drop_duplicates().sort_values().tolist()"
   ]
  },
  {
   "cell_type": "code",
   "execution_count": 14,
   "metadata": {},
   "outputs": [],
   "source": [
    "oncokb_genes = oncokb[~oncokb['Gene'].eq('Other Biomarkers')]['Gene'].sort_values().unique().tolist()"
   ]
  },
  {
   "cell_type": "code",
   "execution_count": 15,
   "metadata": {},
   "outputs": [
    {
     "name": "stdout",
     "output_type": "stream",
     "text": [
      "CIViC 440\n",
      "MOAlmanac 139\n",
      "OncoKB 155\n"
     ]
    }
   ],
   "source": [
    "idx_civic = pd.Index(civic_genes)\n",
    "idx_oncokb = pd.Index(oncokb_genes)\n",
    "idx_almanac = pd.Index(almanac_genes)\n",
    "idx_all = idx_civic.union(idx_oncokb).union(idx_almanac)\n",
    "\n",
    "df = pd.DataFrame(0, columns=['CIViC', 'MOAlmanac', 'OncoKB'], index=idx_all)\n",
    "df.loc[idx_civic, 'CIViC'] = 1\n",
    "df.loc[idx_almanac, 'MOAlmanac'] = 1\n",
    "df.loc[idx_oncokb, 'OncoKB'] = 1\n",
    "\n",
    "for column in df.columns:\n",
    "    print(column, df[column].eq(1).value_counts()[True])\n",
    "\n",
    "df.to_csv('gene-comparison.txt', sep='\\t', index_label='gene')"
   ]
  },
  {
   "cell_type": "markdown",
   "metadata": {},
   "source": [
    "## PubMed IDs\n",
    "We compare the union and intersection of PMIDs cited by the Molecular Oncology Almanac (MOAlmanac), CIVIC, and OncoKB. Not every source in MOAlmanac is associated with a PMID, as we directly cite FDA approvals and guidelines for some references. Likewise, OncoKB and CIViC also cite conference abstracts which do not always have PMIDs.\n",
    "\n",
    "To not directly host the databases used, the raw files of OncoKB and CIViC are not hosted in the Github repository but I do have a dataframe committed, `pmids.txt`. `pmid-comparison.png` is then produced with `pmid-comparison.R`."
   ]
  },
  {
   "cell_type": "code",
   "execution_count": 21,
   "metadata": {},
   "outputs": [],
   "source": [
    "civic_pmids = pd.read_csv('sources/pmid.civic.2021-02-04.txt', sep='\\t')\n",
    "civic_pmids = (civic_pmids[civic_pmids['source_type'].eq('PubMed')]\n",
    " .loc[:, 'citation_id']\n",
    " .drop_duplicates()\n",
    " .astype(int)\n",
    " .sort_values()\n",
    " .tolist()\n",
    ")"
   ]
  },
  {
   "cell_type": "code",
   "execution_count": 23,
   "metadata": {},
   "outputs": [],
   "source": [
    "handles = glob.glob('../moalmanac-db/content/*')\n",
    "almanac = []\n",
    "\n",
    "columns = ['pmid']\n",
    "\n",
    "for handle in handles:\n",
    "    dtype = handle.split('/')[-1].split('.tsv')[0]\n",
    "    tmp = pd.read_csv(handle, sep='\\t')\n",
    "    tmp['dtype'] = dtype\n",
    "    almanac.append(tmp.loc[:, columns])\n",
    "almanac = pd.concat(almanac, ignore_index=True)\n",
    "almanac_pmids = almanac['pmid'].dropna().astype(int).drop_duplicates().sort_values().tolist()"
   ]
  },
  {
   "cell_type": "code",
   "execution_count": 43,
   "metadata": {},
   "outputs": [],
   "source": [
    "oncokb = pd.read_csv('sources/oncokb_biomarker_drug_associations.2021-02-04.expanded.tsv', sep='\\t')\n",
    "oncokb_pmids = []\n",
    "series = (\n",
    "    oncokb\n",
    "    .loc[:, 'PMIDs']\n",
    "    .fillna('')\n",
    "    .astype(str)\n",
    "    .str.replace(' ', '')\n",
    "    .str.split(',')\n",
    ")\n",
    "\n",
    "for index in series.index:\n",
    "    oncokb_pmids.extend(series.loc[index])\n",
    "\n",
    "oncokb_pmids = sorted(list(set(oncokb_pmids)))\n",
    "oncokb_pmids.remove('')"
   ]
  },
  {
   "cell_type": "code",
   "execution_count": 44,
   "metadata": {},
   "outputs": [
    {
     "name": "stdout",
     "output_type": "stream",
     "text": [
      "CIViC 2785\n",
      "MOAlmanac 146\n",
      "OncoKB 896\n"
     ]
    }
   ],
   "source": [
    "idx_civic = pd.Index(pd.Series(civic_pmids).astype(str).replace(' ', '').astype(int).tolist())\n",
    "idx_moalmanac = pd.Index(pd.Series(almanac_pmids).astype(str).replace(' ', '').astype(int).tolist())\n",
    "idx_oncokb = pd.Index(pd.Series(oncokb_pmids).astype(str).replace(' ', '').astype(int).tolist())\n",
    "idx_all = idx_civic.union(idx_moalmanac).union(idx_oncokb)\n",
    "\n",
    "df = pd.DataFrame(0, columns=['CIViC', 'MOAlmanac', 'OncoKB'], index=idx_all)\n",
    "df.loc[idx_civic, 'CIViC'] = 1\n",
    "df.loc[idx_moalmanac, 'MOAlmanac'] = 1\n",
    "df.loc[idx_oncokb, 'OncoKB'] = 1\n",
    "\n",
    "for column in df.columns:\n",
    "    print(column, df[column].eq(1).value_counts()[True])\n",
    "\n",
    "df.to_csv('pmid-comparison.txt', sep='\\t', index_label='pmid') "
   ]
  },
  {
   "cell_type": "code",
   "execution_count": null,
   "metadata": {},
   "outputs": [],
   "source": []
  }
 ],
 "metadata": {
  "kernelspec": {
   "display_name": "moalmanac-paper",
   "language": "python",
   "name": "moalmanac-paper"
  },
  "language_info": {
   "codemirror_mode": {
    "name": "ipython",
    "version": 3
   },
   "file_extension": ".py",
   "mimetype": "text/x-python",
   "name": "python",
   "nbconvert_exporter": "python",
   "pygments_lexer": "ipython3",
   "version": "3.7.3"
  }
 },
 "nbformat": 4,
 "nbformat_minor": 4
}
