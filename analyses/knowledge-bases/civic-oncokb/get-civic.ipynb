{
 "cells": [
  {
   "cell_type": "code",
   "execution_count": 1,
   "metadata": {},
   "outputs": [],
   "source": [
    "import glob as glob\n",
    "import pandas as pd\n",
    "import requests"
   ]
  },
  {
   "cell_type": "markdown",
   "metadata": {},
   "source": [
    "# CIViC"
   ]
  },
  {
   "cell_type": "code",
   "execution_count": 2,
   "metadata": {},
   "outputs": [
    {
     "name": "stdout",
     "output_type": "stream",
     "text": [
      "2785\n"
     ]
    }
   ],
   "source": [
    "handle_name = 'sources/pmid.civic.2021-02-04.txt'\n",
    "handle = glob.glob(handle_name)\n",
    "\n",
    "if handle:\n",
    "    civic_records = pd.read_csv(handle[0], sep='\\t')\n",
    "else:\n",
    "    request = 'https://civicdb.org/api/sources?count=5000'\n",
    "    r = requests.get(request)\n",
    "    civic_records = r.json()['records']\n",
    "    records = []\n",
    "    for record in civic_records:\n",
    "        series = pd.Series(record).loc[['name', 'citation', 'citation_id', 'source_type', 'source_url']]\n",
    "        records.append(series.to_frame())\n",
    "    dataframe = pd.concat(records, axis=1, ignore_index=True).T\n",
    "    civic_records = dataframe[dataframe['source_type'].eq('PubMed')]\n",
    "    civic_records.to_csv(handle_name, sep='\\t', index=False)\n",
    "civic_pmids = civic_records['citation_id'].drop_duplicates().sort_values().tolist()\n",
    "print(len(civic_pmids))"
   ]
  },
  {
   "cell_type": "code",
   "execution_count": 3,
   "metadata": {},
   "outputs": [
    {
     "name": "stdout",
     "output_type": "stream",
     "text": [
      "2621\n",
      "42\n",
      "7775\n"
     ]
    }
   ],
   "source": [
    "for item in ['variants', 'assertions', 'evidence_items']:\n",
    "    handle_name = f'sources/{item}.civic.2021-02-04.json'\n",
    "    handle = glob.glob(handle_name)\n",
    "\n",
    "    request = f'https://civicdb.org/api/{item}?count=10000'\n",
    "    r = requests.get(request)\n",
    "    civic_records = r.json()['records']\n",
    "\n",
    "    import json\n",
    "    with open(handle_name, 'w') as outfile:\n",
    "        json.dump(civic_records, outfile)\n",
    "\n",
    "    print(len(civic_records))"
   ]
  },
  {
   "cell_type": "code",
   "execution_count": null,
   "metadata": {},
   "outputs": [],
   "source": []
  }
 ],
 "metadata": {
  "kernelspec": {
   "display_name": "moalmanac-paper",
   "language": "python",
   "name": "moalmanac-paper"
  },
  "language_info": {
   "codemirror_mode": {
    "name": "ipython",
    "version": 3
   },
   "file_extension": ".py",
   "mimetype": "text/x-python",
   "name": "python",
   "nbconvert_exporter": "python",
   "pygments_lexer": "ipython3",
   "version": "3.7.3"
  }
 },
 "nbformat": 4,
 "nbformat_minor": 4
}
