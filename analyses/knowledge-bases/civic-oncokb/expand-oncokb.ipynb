{
 "cells": [
  {
   "cell_type": "markdown",
   "metadata": {},
   "source": [
    "# Expand OncoKB\n",
    "We expand OncoKB to list one disease alteration, cancer type, and drug per line so that it is more in line with the assertion defintion used by Molecular Oncology Almanac."
   ]
  },
  {
   "cell_type": "code",
   "execution_count": 1,
   "metadata": {},
   "outputs": [
    {
     "data": {
      "text/html": [
       "<div>\n",
       "<style scoped>\n",
       "    .dataframe tbody tr th:only-of-type {\n",
       "        vertical-align: middle;\n",
       "    }\n",
       "\n",
       "    .dataframe tbody tr th {\n",
       "        vertical-align: top;\n",
       "    }\n",
       "\n",
       "    .dataframe thead th {\n",
       "        text-align: right;\n",
       "    }\n",
       "</style>\n",
       "<table border=\"1\" class=\"dataframe\">\n",
       "  <thead>\n",
       "    <tr style=\"text-align: right;\">\n",
       "      <th></th>\n",
       "      <th>Level</th>\n",
       "      <th>Gene</th>\n",
       "      <th>Alterations</th>\n",
       "      <th>Cancer Types</th>\n",
       "      <th>Drugs (for therapeutic implications only)</th>\n",
       "      <th>PMIDs</th>\n",
       "    </tr>\n",
       "  </thead>\n",
       "  <tbody>\n",
       "    <tr>\n",
       "      <th>0</th>\n",
       "      <td>1</td>\n",
       "      <td>ABL1</td>\n",
       "      <td>BCR-ABL1 Fusion</td>\n",
       "      <td>B-Lymphoblastic Leukemia/Lymphoma</td>\n",
       "      <td>Dasatinib</td>\n",
       "      <td>20131302, 17496201, 21931113</td>\n",
       "    </tr>\n",
       "    <tr>\n",
       "      <th>1</th>\n",
       "      <td>1</td>\n",
       "      <td>ABL1</td>\n",
       "      <td>BCR-ABL1 Fusion</td>\n",
       "      <td>B-Lymphoblastic Leukemia/Lymphoma</td>\n",
       "      <td>Imatinib</td>\n",
       "      <td>11287973, 24441288, 12200353</td>\n",
       "    </tr>\n",
       "    <tr>\n",
       "      <th>2</th>\n",
       "      <td>1</td>\n",
       "      <td>ABL1</td>\n",
       "      <td>BCR-ABL1 Fusion</td>\n",
       "      <td>B-Lymphoblastic Leukemia/Lymphoma</td>\n",
       "      <td>Ponatinib</td>\n",
       "      <td>24180494</td>\n",
       "    </tr>\n",
       "    <tr>\n",
       "      <th>3</th>\n",
       "      <td>1</td>\n",
       "      <td>ABL1</td>\n",
       "      <td>BCR-ABL1 Fusion</td>\n",
       "      <td>Chronic Myelogenous Leukemia</td>\n",
       "      <td>Bosutinib</td>\n",
       "      <td>26040495, 24345751, 29091516</td>\n",
       "    </tr>\n",
       "    <tr>\n",
       "      <th>4</th>\n",
       "      <td>1</td>\n",
       "      <td>ABL1</td>\n",
       "      <td>BCR-ABL1 Fusion</td>\n",
       "      <td>Chronic Myelogenous Leukemia</td>\n",
       "      <td>Dasatinib</td>\n",
       "      <td>20525995, 27217448</td>\n",
       "    </tr>\n",
       "  </tbody>\n",
       "</table>\n",
       "</div>"
      ],
      "text/plain": [
       "  Level  Gene      Alterations                       Cancer Types  \\\n",
       "0     1  ABL1  BCR-ABL1 Fusion  B-Lymphoblastic Leukemia/Lymphoma   \n",
       "1     1  ABL1  BCR-ABL1 Fusion  B-Lymphoblastic Leukemia/Lymphoma   \n",
       "2     1  ABL1  BCR-ABL1 Fusion  B-Lymphoblastic Leukemia/Lymphoma   \n",
       "3     1  ABL1  BCR-ABL1 Fusion       Chronic Myelogenous Leukemia   \n",
       "4     1  ABL1  BCR-ABL1 Fusion       Chronic Myelogenous Leukemia   \n",
       "\n",
       "  Drugs (for therapeutic implications only)                         PMIDs  \n",
       "0                                 Dasatinib  20131302, 17496201, 21931113  \n",
       "1                                  Imatinib  11287973, 24441288, 12200353  \n",
       "2                                 Ponatinib                      24180494  \n",
       "3                                 Bosutinib  26040495, 24345751, 29091516  \n",
       "4                                 Dasatinib            20525995, 27217448  "
      ]
     },
     "execution_count": 1,
     "metadata": {},
     "output_type": "execute_result"
    }
   ],
   "source": [
    "import pandas as pd\n",
    "df = pd.read_csv('sources/oncokb_biomarker_drug_associations.2021-02-04.tsv', sep='\\t')\n",
    "df.head()"
   ]
  },
  {
   "cell_type": "code",
   "execution_count": 2,
   "metadata": {},
   "outputs": [],
   "source": [
    "assertions = []\n",
    "for index in df.index:\n",
    "    row = df.loc[index, :].fillna('')\n",
    "    level = row.loc['Level']\n",
    "    gene = row.loc['Gene']\n",
    "    cancer = row.loc['Cancer Types']\n",
    "    source = row.loc['PMIDs']\n",
    "    for alteration in row.loc['Alterations'].replace(',  ', ', ').split(', '):\n",
    "        for therapy in row.loc['Drugs (for therapeutic implications only)'].replace(',  ', ', ').split(', '):\n",
    "            series = pd.Series('', index=df.columns)\n",
    "            series.loc['Level'] = level\n",
    "            series.loc['Gene'] = gene\n",
    "            series.loc['Alterations'] = alteration\n",
    "            series.loc['Cancer Types'] = cancer\n",
    "            series.loc['Drugs (for therapeutic implications only)'] = therapy\n",
    "            series.loc['PMIDs'] = source\n",
    "            assertions.append(series.to_frame().T)"
   ]
  },
  {
   "cell_type": "code",
   "execution_count": 3,
   "metadata": {},
   "outputs": [],
   "source": [
    "new_df = pd.concat(assertions)\n",
    "new_df.to_csv('sources/oncokb_biomarker_drug_associations.2021-02-04.expanded.tsv', sep='\\t', index=False)"
   ]
  },
  {
   "cell_type": "code",
   "execution_count": null,
   "metadata": {},
   "outputs": [],
   "source": []
  }
 ],
 "metadata": {
  "kernelspec": {
   "display_name": "moalmanac-paper",
   "language": "python",
   "name": "moalmanac-paper"
  },
  "language_info": {
   "codemirror_mode": {
    "name": "ipython",
    "version": 3
   },
   "file_extension": ".py",
   "mimetype": "text/x-python",
   "name": "python",
   "nbconvert_exporter": "python",
   "pygments_lexer": "ipython3",
   "version": "3.7.3"
  }
 },
 "nbformat": 4,
 "nbformat_minor": 4
}
