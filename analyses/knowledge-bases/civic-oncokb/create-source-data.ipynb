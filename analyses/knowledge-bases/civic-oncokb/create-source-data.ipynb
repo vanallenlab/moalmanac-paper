{
 "cells": [
  {
   "cell_type": "code",
   "execution_count": 3,
   "metadata": {},
   "outputs": [],
   "source": [
    "import pandas as pd\n",
    "import openpyxl\n",
    "\n",
    "folder = \"../../../extended-data/extended-data-fig-4/\"\n",
    "filename = \"source-data-extended-data-fig-4.xlsx\"\n",
    "writer = pd.ExcelWriter(f'{folder}/{filename}', engine='xlsxwriter')\n",
    "\n",
    "tuples = [('pmid', 'a'), ('drug', 'b'), ('gene', 'c')]\n",
    "for handle, label in tuples:\n",
    "    df = pd.read_csv(f\"{handle}-comparison.txt\", sep='\\t')\n",
    "    df.to_excel(writer, sheet_name=f\"Extended Data Fig. 4{label}\", index=False)\n",
    "writer.save()"
   ]
  },
  {
   "cell_type": "code",
   "execution_count": null,
   "metadata": {},
   "outputs": [],
   "source": []
  }
 ],
 "metadata": {
  "kernelspec": {
   "display_name": "moalmanac-paper",
   "language": "python",
   "name": "moalmanac-paper"
  },
  "language_info": {
   "codemirror_mode": {
    "name": "ipython",
    "version": 3
   },
   "file_extension": ".py",
   "mimetype": "text/x-python",
   "name": "python",
   "nbconvert_exporter": "python",
   "pygments_lexer": "ipython3",
   "version": "3.7.3"
  }
 },
 "nbformat": 4,
 "nbformat_minor": 4
}
