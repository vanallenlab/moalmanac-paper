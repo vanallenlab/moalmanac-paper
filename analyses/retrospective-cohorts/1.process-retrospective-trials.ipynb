{
 "cells": [
  {
   "cell_type": "code",
   "execution_count": 1,
   "metadata": {},
   "outputs": [],
   "source": [
    "import glob as glob\n",
    "import pandas as pd\n",
    "\n",
    "redact_germline = True"
   ]
  },
  {
   "cell_type": "markdown",
   "metadata": {},
   "source": [
    "# Process retrospective cohorts\n",
    "Both the illustrate notebook and calculations notebook will require the outputs from both MOAlmanac and PHIAL to be processed. In particular, we clean up the outputs and annotate the two so that we know how the other software annotated the same molecular feature."
   ]
  },
  {
   "cell_type": "code",
   "execution_count": 2,
   "metadata": {},
   "outputs": [],
   "source": [
    "def load_handles_simple(handles):\n",
    "    list_ = []\n",
    "    for handle in handles:\n",
    "        patient_id = handle.split('/')[-1].split('_complete_muts_indels_scna_detailed.txt')[0]\n",
    "        df = pd.read_csv(handle, sep='\\t')\n",
    "        df['patient_id'] = patient_id\n",
    "        list_.append(df)\n",
    "    return pd.concat(list_, ignore_index=True)\n",
    "    \n",
    "def load_handles(handles):\n",
    "    list_ = []\n",
    "    for handle in handles:\n",
    "        list_.append(pd.read_csv(handle, sep='\\t'))\n",
    "    df = pd.concat(list_, ignore_index=True)\n",
    "    return df\n",
    "\n",
    "perry_phial_handles = glob.glob('2014-Perry/data/phial/*.txt')\n",
    "robinson_phial_handles = glob.glob('2015-Robinson/data/phial/*.txt')\n",
    "tcga_phial_handles = glob.glob('2016-TCGA/data/phial/*.txt')\n",
    "vanallen_phial_handles = glob.glob('2015-VanAllen/data/phial/*.txt')\n",
    "\n",
    "perry_handles = glob.glob('2014-Perry/data/almanac/*/*.actionable.txt')\n",
    "robinson_handles = glob.glob('2015-Robinson/data/almanac/*/*.actionable.txt')\n",
    "tcga_handles = glob.glob('2016-TCGA/data/almanac/*/*.actionable.txt')\n",
    "vanallen_handles = glob.glob('2015-VanAllen/data/almanac/*/*.actionable.txt')\n",
    "\n",
    "perry_phial = load_handles_simple(perry_phial_handles)\n",
    "robinson_phial = load_handles_simple(robinson_phial_handles)\n",
    "tcga_phial = load_handles_simple(tcga_phial_handles)\n",
    "vanallen_phial = load_handles_simple(vanallen_phial_handles)\n",
    "\n",
    "perry_almanac = load_handles(perry_handles)\n",
    "robinson_almanac = load_handles(robinson_handles)\n",
    "tcga_almanac = load_handles(tcga_handles)\n",
    "vanallen_almanac = load_handles(vanallen_handles)\n",
    "\n",
    "perry_almanac['cohort'] = 'OS'\n",
    "perry_phial['cohort'] = 'OS'\n",
    "robinson_almanac['cohort'] = 'SU2C'\n",
    "robinson_phial['cohort'] = 'SU2C'\n",
    "tcga_almanac['cohort'] = 'KIRP'\n",
    "tcga_phial['cohort'] = 'KIRP'\n",
    "vanallen_almanac['cohort'] = 'Melanoma'\n",
    "vanallen_phial['cohort'] = 'Melanoma'\n",
    "\n",
    "phial = pd.concat([perry_phial, robinson_phial, tcga_phial, vanallen_phial], ignore_index=True)\n",
    "almanac = pd.concat([perry_almanac, robinson_almanac, tcga_almanac, vanallen_almanac], ignore_index=True)\n",
    "if redact_germline:\n",
    "    almanac = almanac[~almanac['feature_type'].eq('Germline Variant')]\n",
    "\n",
    "phial = phial[~phial['Score_bin'].eq('Filtered Calls')]\n",
    "phial = phial[~phial['Variant_Classification'].eq('lincRNA')]\n",
    "\n",
    "target = pd.read_excel('../knowledge-bases/target/almanac-comparison.xlsx')\n",
    "phial = phial[phial['Gene'].isin(target['Gene'])]"
   ]
  },
  {
   "cell_type": "code",
   "execution_count": 3,
   "metadata": {},
   "outputs": [],
   "source": [
    "def annotate_feature_string_phial(dataframe):\n",
    "    dataframe['Alteration'] = dataframe['Alteration'].replace({'Deleted': 'Deletion', 'Amplified': 'Amplification'})\n",
    "    dataframe['feature_string'] = ''\n",
    "    dataframe['feature_string'] = (dataframe['Gene'].fillna('') + '.' + dataframe['Alteration'].fillna(''))\n",
    "    idx_class = dataframe['Variant_Classification'].isin(['Splice_Site', 'Start_Codon_Del'])\n",
    "    dataframe.loc[idx_class, 'feature_string'] += dataframe.loc[idx_class, 'Variant_Classification']\n",
    "    return dataframe\n",
    "\n",
    "def annotate_feature_string_almanac(dataframe):\n",
    "    dataframe['feature_string'] = ''\n",
    "    idx_mutation = dataframe[dataframe['feature_type'] == 'Somatic Variant'].index\n",
    "    idx_copynumber = dataframe[dataframe['feature_type'] == 'Copy Number'].index\n",
    "    idx_fusion = almanac[almanac['feature_type'].eq('Rearrangement')].index\n",
    "    idx_germline = almanac[almanac['feature_type'].eq('Germline Variant')].index\n",
    "    idx_wgd = almanac[almanac['feature_type'].eq('Aneuploidy')].index\n",
    "    idx_tmb = almanac[almanac['feature_type'].eq('Mutational Burden')].index\n",
    "    idx_signature = almanac[almanac['feature_type'].eq('Mutational Signature')].index\n",
    "    \n",
    "    dataframe.loc[idx_mutation, 'feature_string'] = (dataframe.loc[idx_mutation, 'feature'].fillna('') + '.' + \n",
    "                                                     dataframe.loc[idx_mutation, 'alteration'].fillna(''))\n",
    "    dataframe.loc[idx_copynumber, 'feature_string'] = (dataframe.loc[idx_copynumber, 'feature'].fillna('') + '.' + \n",
    "                                                       dataframe.loc[idx_copynumber, 'alteration_type'].fillna(''))\n",
    "    dataframe.loc[idx_fusion, 'feature_string'] = dataframe.loc[idx_fusion, 'alteration']\n",
    "    dataframe.loc[idx_germline, 'feature_string'] = dataframe.loc[idx_germline, 'feature'].fillna('') + '.' + dataframe.loc[idx_germline, 'alteration'].fillna('') + '.Germline'\n",
    "    dataframe.loc[idx_wgd, 'feature_string'] = dataframe.loc[idx_wgd, 'feature'].fillna('')\n",
    "    dataframe.loc[idx_tmb, 'feature_string'] = dataframe.loc[idx_tmb, 'feature'].fillna('')\n",
    "    dataframe.loc[idx_signature, 'feature_string'] = dataframe.loc[idx_signature, 'feature'].fillna('')\n",
    "    \n",
    "    idx_class = dataframe['alteration_type'].isin(['Splice Site', 'Start_Codon_Del'])\n",
    "    dataframe.loc[idx_class, 'feature_string'] += dataframe.loc[idx_class, 'alteration_type'].str.replace(' ', '_')\n",
    "    return dataframe\n",
    "\n",
    "phial = annotate_feature_string_phial(phial)\n",
    "almanac = annotate_feature_string_almanac(almanac)\n",
    "\n",
    "phial['patient_feature_string'] = phial['patient_id'].fillna('') + '.' + phial['feature_string'].fillna('')\n",
    "almanac['patient_feature_string'] = almanac['patient_id'].fillna('') + '.' + almanac['feature_string'].fillna('')\n",
    "\n",
    "phial = phial[~phial['feature_string'].eq('')]\n",
    "almanac = almanac[~almanac['feature_string'].eq('')]"
   ]
  },
  {
   "cell_type": "code",
   "execution_count": 4,
   "metadata": {},
   "outputs": [],
   "source": [
    "# Removing double counted fusions. \n",
    "# This is a feature, not a bug, for reviewing individual fusions; however,\n",
    "# it results in double counting for aggregated reporting. \n",
    "almanac.drop_duplicates(['patient_feature_string'], keep='first', inplace=True)"
   ]
  },
  {
   "cell_type": "code",
   "execution_count": 5,
   "metadata": {},
   "outputs": [
    {
     "data": {
      "text/plain": [
       "Somatic Variant         1299\n",
       "Copy Number             1057\n",
       "Mutational Signature     620\n",
       "Rearrangement            255\n",
       "Aneuploidy               180\n",
       "Mutational Burden         48\n",
       "Name: feature_type, dtype: int64"
      ]
     },
     "execution_count": 5,
     "metadata": {},
     "output_type": "execute_result"
    }
   ],
   "source": [
    "almanac['feature_type'].value_counts()"
   ]
  },
  {
   "cell_type": "code",
   "execution_count": 6,
   "metadata": {},
   "outputs": [],
   "source": [
    "# The bin \"Investigate Biological Significance\" is used for CNAs that score within\n",
    "# a TARGET gene but the directionality does not match. Since there are only 95 of them \n",
    "# I am going to label them as \"Investigate Actionability\". There is not an\n",
    "# exact map to Almanac bins because PHIAL/TARGET doesn't check if this has been catalogued\n",
    "# as a CNA, just the direction / alteration_type. Specifically, PHIAL will ask,\n",
    "# \"does TARGET have 'Amplification' catalogued for this gene?\"\n",
    "# Whereas MOAlmanac asks, \"Okay, is this a catalogued gene? Is this a catalogued CNA? \n",
    "# Is this a catalogued Amplification?\"\n",
    "\n",
    "phial['Score_bin'] = phial['Score_bin'].replace({'Investigate Biological Significance': 'Investigate Actionability'})\n",
    "\n",
    "# High priority is given to somatic variants whose gene appears in PHIAL but does not match any further\n",
    "# These are most similar to the Biologically Relevant category\n",
    "phial['Score_bin'] = phial['Score_bin'].replace({'High Priority': 'Biologically Relevant'})"
   ]
  },
  {
   "cell_type": "code",
   "execution_count": 7,
   "metadata": {},
   "outputs": [],
   "source": [
    "all_patients = pd.Index(almanac['patient_id'].drop_duplicates().sort_values())\n",
    "all_features = (\n",
    "    pd.Index(almanac['feature_string'].drop_duplicates().sort_values())\n",
    "    .union(\n",
    "        pd.Index(phial['feature_string'].drop_duplicates().sort_values())\n",
    "    ).drop_duplicates().tolist()\n",
    ")\n",
    "\n",
    "all_considered = pd.DataFrame(columns=['almanac_bin', 'phial_bin'],\n",
    "                             index=pd.MultiIndex.from_product([all_patients, all_features]))\n",
    "\n",
    "almanac_indexed = almanac.loc[:, ['patient_id', 'feature_string', 'score_bin']].drop_duplicates(['patient_id', 'feature_string']).set_index(['patient_id', 'feature_string'])\n",
    "phial_indexed = phial.loc[:, ['patient_id', 'feature_string', 'Score_bin']].drop_duplicates(['patient_id', 'feature_string']).set_index(['patient_id', 'feature_string'])\n",
    "\n",
    "all_considered.loc[almanac_indexed.index, 'almanac_bin'] = (\n",
    "    almanac_indexed.loc[almanac_indexed.index, 'score_bin']\n",
    ")\n",
    "\n",
    "all_considered.loc[phial_indexed.index, 'phial_bin'] = (\n",
    "    phial_indexed.loc[phial_indexed.index, 'Score_bin']\n",
    ")"
   ]
  },
  {
   "cell_type": "code",
   "execution_count": 8,
   "metadata": {},
   "outputs": [],
   "source": [
    "all_considered['sum'] = all_considered.fillna(False).astype(bool).sum(axis=1)\n",
    "df = all_considered[all_considered['sum'].gt(0)]\n",
    "df = df[~df['almanac_bin'].isnull() | df['phial_bin'].isin(['Actionable', 'High Priority', 'Investigate Actionability', 'Investigate Biological Significance', 'Biologically Relevant'])]\n",
    "df = df.reset_index().rename(columns={'level_1': 'feature_string'})\n",
    "\n",
    "df.loc[~df['phial_bin'].isin(['Actionable', 'Investigate Actionability', 'Biologically Relevant']), 'phial_bin'] = pd.NA\n",
    "df['almanac_bin'] = df['almanac_bin'].fillna(pd.NA)\n",
    "df['phial_bin'] = df['phial_bin'].str.replace('Actionable', 'Putatively Actionable')"
   ]
  },
  {
   "cell_type": "code",
   "execution_count": 9,
   "metadata": {},
   "outputs": [
    {
     "data": {
      "text/plain": [
       "MEL-IPI_Pat138               104\n",
       "MEL-IPI_Pat110                97\n",
       "MO_1012                       85\n",
       "MEL-IPI_Pat28                 82\n",
       "MEL-IPI_Pat58                 60\n",
       "                            ... \n",
       "Osteosarcoma-BSP391            1\n",
       "KIRP-B1-A47O                   1\n",
       "KIRP-A4-A772                   1\n",
       "Osteosarcoma-SJDOSTEOS014      1\n",
       "MEL-IPI_Pat121                 1\n",
       "Name: patient_id, Length: 417, dtype: int64"
      ]
     },
     "execution_count": 9,
     "metadata": {},
     "output_type": "execute_result"
    }
   ],
   "source": [
    "df['patient_id'].value_counts()"
   ]
  },
  {
   "cell_type": "code",
   "execution_count": 10,
   "metadata": {},
   "outputs": [],
   "source": [
    "df.loc[df['patient_id'].str.contains('MEL'), 'cohort'] = 'MEL'\n",
    "df.loc[df['patient_id'].str.contains('Osteosarcoma'), 'cohort'] = 'OS'\n",
    "df.loc[df['patient_id'].str.contains('KIRP'), 'cohort'] = 'KIRP'\n",
    "df.loc[df['cohort'].isnull(), 'cohort'] = 'SU2C'"
   ]
  },
  {
   "cell_type": "code",
   "execution_count": 11,
   "metadata": {},
   "outputs": [
    {
     "data": {
      "text/html": [
       "<div>\n",
       "<style scoped>\n",
       "    .dataframe tbody tr th:only-of-type {\n",
       "        vertical-align: middle;\n",
       "    }\n",
       "\n",
       "    .dataframe tbody tr th {\n",
       "        vertical-align: top;\n",
       "    }\n",
       "\n",
       "    .dataframe thead th {\n",
       "        text-align: right;\n",
       "    }\n",
       "</style>\n",
       "<table border=\"1\" class=\"dataframe\">\n",
       "  <thead>\n",
       "    <tr style=\"text-align: right;\">\n",
       "      <th></th>\n",
       "      <th>patient_id</th>\n",
       "      <th>feature_string</th>\n",
       "      <th>almanac_bin</th>\n",
       "      <th>phial_bin</th>\n",
       "      <th>sum</th>\n",
       "      <th>cohort</th>\n",
       "    </tr>\n",
       "  </thead>\n",
       "  <tbody>\n",
       "    <tr>\n",
       "      <th>4024</th>\n",
       "      <td>TP_2064</td>\n",
       "      <td>COSMIC Signature 1</td>\n",
       "      <td>Biologically Relevant</td>\n",
       "      <td>&lt;NA&gt;</td>\n",
       "      <td>1</td>\n",
       "      <td>SU2C</td>\n",
       "    </tr>\n",
       "    <tr>\n",
       "      <th>4025</th>\n",
       "      <td>TP_2064</td>\n",
       "      <td>COSMIC Signature 6</td>\n",
       "      <td>Biologically Relevant</td>\n",
       "      <td>&lt;NA&gt;</td>\n",
       "      <td>1</td>\n",
       "      <td>SU2C</td>\n",
       "    </tr>\n",
       "    <tr>\n",
       "      <th>4026</th>\n",
       "      <td>TP_2064</td>\n",
       "      <td>MPL.p.A134T</td>\n",
       "      <td>Investigate Actionability</td>\n",
       "      <td>Biologically Relevant</td>\n",
       "      <td>2</td>\n",
       "      <td>SU2C</td>\n",
       "    </tr>\n",
       "    <tr>\n",
       "      <th>4027</th>\n",
       "      <td>TP_2064</td>\n",
       "      <td>TP53.p.H179R</td>\n",
       "      <td>Investigate Actionability</td>\n",
       "      <td>Investigate Actionability</td>\n",
       "      <td>2</td>\n",
       "      <td>SU2C</td>\n",
       "    </tr>\n",
       "    <tr>\n",
       "      <th>4028</th>\n",
       "      <td>TP_2064</td>\n",
       "      <td>Whole genome doubling</td>\n",
       "      <td>Investigate Actionability</td>\n",
       "      <td>&lt;NA&gt;</td>\n",
       "      <td>1</td>\n",
       "      <td>SU2C</td>\n",
       "    </tr>\n",
       "  </tbody>\n",
       "</table>\n",
       "</div>"
      ],
      "text/plain": [
       "     patient_id         feature_string                almanac_bin  \\\n",
       "4024    TP_2064     COSMIC Signature 1      Biologically Relevant   \n",
       "4025    TP_2064     COSMIC Signature 6      Biologically Relevant   \n",
       "4026    TP_2064            MPL.p.A134T  Investigate Actionability   \n",
       "4027    TP_2064           TP53.p.H179R  Investigate Actionability   \n",
       "4028    TP_2064  Whole genome doubling  Investigate Actionability   \n",
       "\n",
       "                      phial_bin  sum cohort  \n",
       "4024                       <NA>    1   SU2C  \n",
       "4025                       <NA>    1   SU2C  \n",
       "4026      Biologically Relevant    2   SU2C  \n",
       "4027  Investigate Actionability    2   SU2C  \n",
       "4028                       <NA>    1   SU2C  "
      ]
     },
     "execution_count": 11,
     "metadata": {},
     "output_type": "execute_result"
    }
   ],
   "source": [
    "df.tail()"
   ]
  },
  {
   "cell_type": "code",
   "execution_count": 12,
   "metadata": {},
   "outputs": [],
   "source": [
    "df = df.merge(almanac.loc[:, ['sensitive_predictive_implication', 'patient_id', 'feature_string']],\n",
    "        on=['patient_id', 'feature_string'], how='left')\n",
    "df = df.merge(almanac.loc[:, ['resistance_predictive_implication', 'patient_id', 'feature_string']],\n",
    "        on=['patient_id', 'feature_string'], how='left')\n",
    "df = df.merge(almanac.loc[:, ['prognostic_predictive_implication', 'patient_id', 'feature_string']],\n",
    "        on=['patient_id', 'feature_string'], how='left')\n",
    "df = df.merge(almanac.loc[:, ['clinvar', 'patient_id', 'feature_string']],\n",
    "        on=['patient_id', 'feature_string'], how='left')"
   ]
  },
  {
   "cell_type": "code",
   "execution_count": 13,
   "metadata": {},
   "outputs": [
    {
     "data": {
      "text/plain": [
       "0         ASXL1 Amplification\n",
       "1         AURKA Amplification\n",
       "2         COSMIC Signature 12\n",
       "3          COSMIC Signature 4\n",
       "4          TPX2 Amplification\n",
       "                ...          \n",
       "4024       COSMIC Signature 1\n",
       "4025       COSMIC Signature 6\n",
       "4026              MPL p.A134T\n",
       "4027             TP53 p.H179R\n",
       "4028    Whole genome doubling\n",
       "Name: feature_string, Length: 4029, dtype: object"
      ]
     },
     "execution_count": 13,
     "metadata": {},
     "output_type": "execute_result"
    }
   ],
   "source": [
    "df['feature_type'] = ''\n",
    "df.loc[df['feature_string'].str.contains('Amplification'), 'feature_type'] = 'Somatic copy number'\n",
    "df.loc[df['feature_string'].str.contains('Deletion'), 'feature_type'] = 'Somatic copy number'\n",
    "df.loc[df['feature_string'].str.contains('--'), 'feature_type'] = 'Rearrangement'\n",
    "df.loc[df['feature_string'].str.contains('Germline'), 'feature_type'] = 'Germline'\n",
    "df.loc[df['feature_string'].eq('Whole genome doubling'), 'feature_type'] = 'Aneuploidy'\n",
    "df.loc[df['feature_string'].eq('High Mutational Burden'), 'feature_type'] = 'Tumor mutational burden'\n",
    "df.loc[df['feature_string'].str.contains('COSMIC Signature'), 'feature_type'] = 'Mutational signature'\n",
    "df.loc[df['feature_type'].eq(''), 'feature_type'] = 'Somatic variant'\n",
    "\n",
    "df['feature_string'].str.replace('.', ' ').str.replace('p ', 'p.')"
   ]
  },
  {
   "cell_type": "code",
   "execution_count": 14,
   "metadata": {},
   "outputs": [
    {
     "data": {
      "text/plain": [
       "Biologically Relevant        1531\n",
       "Investigate Actionability    1365\n",
       "Putatively Actionable         563\n",
       "Name: almanac_bin, dtype: int64"
      ]
     },
     "execution_count": 14,
     "metadata": {},
     "output_type": "execute_result"
    }
   ],
   "source": [
    "df['almanac_bin'].value_counts()"
   ]
  },
  {
   "cell_type": "code",
   "execution_count": 15,
   "metadata": {},
   "outputs": [
    {
     "data": {
      "text/plain": [
       "Biologically Relevant        924\n",
       "Investigate Actionability    657\n",
       "Putatively Actionable         81\n",
       "Name: phial_bin, dtype: int64"
      ]
     },
     "execution_count": 15,
     "metadata": {},
     "output_type": "execute_result"
    }
   ],
   "source": [
    "df['phial_bin'].value_counts()"
   ]
  },
  {
   "cell_type": "code",
   "execution_count": 16,
   "metadata": {},
   "outputs": [
    {
     "data": {
      "text/plain": [
       "Somatic variant            1686\n",
       "Somatic copy number        1240\n",
       "Mutational signature        620\n",
       "Rearrangement               255\n",
       "Aneuploidy                  180\n",
       "Tumor mutational burden      48\n",
       "Name: feature_type, dtype: int64"
      ]
     },
     "execution_count": 16,
     "metadata": {},
     "output_type": "execute_result"
    }
   ],
   "source": [
    "df['feature_type'].value_counts()"
   ]
  },
  {
   "cell_type": "code",
   "execution_count": 17,
   "metadata": {},
   "outputs": [],
   "source": [
    "df['feature_str_simple'] = ''\n",
    "idx_direct = df['feature_type'].isin(['Mutational signature', 'Rearrangement'])\n",
    "idx_wgd = df['feature_type'].eq('Aneuploidy')\n",
    "idx_tmb = df['feature_type'].eq('Tumor mutational burden')\n",
    "idx_germline = df['feature_type'].eq('Germline')\n",
    "idx_cn = df['feature_type'].eq('Somatic copy number')\n",
    "idx_som = df['feature_type'].eq('Somatic variant')\n",
    "\n",
    "df.loc[idx_direct, 'feature_str_simple'] = df.loc[idx_direct, 'feature_string']\n",
    "df.loc[idx_wgd, 'feature_str_simple'] = 'WGD'\n",
    "df.loc[idx_tmb, 'feature_str_simple'] = 'TMB'\n",
    "df.loc[idx_germline, 'feature_str_simple'] = (df.loc[idx_germline, 'feature_string']\n",
    "                                              .str.split('.').str[0] \n",
    "                                              .add(' Germline'))\n",
    "df.loc[idx_som, 'feature_str_simple'] = df.loc[idx_som, 'feature_string'].str.split('.').str[0]\n",
    "df.loc[idx_cn, 'feature_str_simple'] = (df.loc[idx_cn, 'feature_string']\n",
    "                                        .str.replace('Amplification', 'Amp')\n",
    "                                        .str.replace('Deletion', 'Del')\n",
    "                                        .str.replace('.', ' ')\n",
    "                                       )\n"
   ]
  },
  {
   "cell_type": "code",
   "execution_count": 18,
   "metadata": {},
   "outputs": [
    {
     "data": {
      "text/plain": [
       "Biologically Relevant        1531\n",
       "Investigate Actionability    1365\n",
       "Putatively Actionable         563\n",
       "Name: almanac_bin, dtype: int64"
      ]
     },
     "execution_count": 18,
     "metadata": {},
     "output_type": "execute_result"
    }
   ],
   "source": [
    "df['almanac_bin'].value_counts()"
   ]
  },
  {
   "cell_type": "code",
   "execution_count": 19,
   "metadata": {},
   "outputs": [
    {
     "data": {
      "text/plain": [
       "Biologically Relevant        924\n",
       "Investigate Actionability    657\n",
       "Putatively Actionable         81\n",
       "Name: phial_bin, dtype: int64"
      ]
     },
     "execution_count": 19,
     "metadata": {},
     "output_type": "execute_result"
    }
   ],
   "source": [
    "df['phial_bin'].value_counts()"
   ]
  },
  {
   "cell_type": "code",
   "execution_count": 20,
   "metadata": {},
   "outputs": [],
   "source": [
    "df.to_csv('retrospective.actionability.txt', sep='\\t', index=False)"
   ]
  },
  {
   "cell_type": "code",
   "execution_count": 21,
   "metadata": {},
   "outputs": [
    {
     "data": {
      "text/plain": [
       "Series([], Name: exac_common, dtype: int64)"
      ]
     },
     "execution_count": 21,
     "metadata": {},
     "output_type": "execute_result"
    }
   ],
   "source": [
    "germline = almanac[almanac['feature_type'].eq('Germline Variant') & ~almanac['score_bin'].isin(['Biologically Relevant'])]\n",
    "germline[germline['alteration_type'].eq('Missense')]['exac_common'].value_counts()"
   ]
  },
  {
   "cell_type": "markdown",
   "metadata": {},
   "source": [
    "## Construct matrix of feature types x samples\n",
    "0 = Wild type or biologically relevant for feature type  \n",
    "1 = Molecular Oncology Almanac only Investigate Actionability or Putatively Actionable  \n",
    "2 = Molecular Oncology Almanac & PHIAL observed Investigate Actionability or Putatively Actionable  "
   ]
  },
  {
   "cell_type": "code",
   "execution_count": 22,
   "metadata": {},
   "outputs": [],
   "source": [
    "df['value'] = 0\n",
    "\n",
    "idx_almanac = df['almanac_bin'].fillna('').isin(['Putatively Actionable', 'Investigate Actionability'])\n",
    "idx_phial = df['phial_bin'].fillna('').isin(['Putatively Actionable', 'Investigate Actionability'])\n",
    "\n",
    "df['value'] = 0\n",
    "df.loc[idx_almanac, 'value'] = 1\n",
    "df.loc[idx_almanac & idx_phial, 'value'] = 2"
   ]
  },
  {
   "cell_type": "code",
   "execution_count": 23,
   "metadata": {},
   "outputs": [],
   "source": [
    "df['feature_type'] = df['feature_type'].str.replace('Germline', 'Germline variant')\n",
    "\n",
    "def pivot_features_table(dataframe, cohort):\n",
    "    subset = dataframe[dataframe['cohort'].eq(cohort)]\n",
    "    df = (subset\n",
    "          .sort_values('value', ascending=False)\n",
    "          .loc[:, ['patient_id', 'feature_type', 'value']]\n",
    "          .drop_duplicates(['patient_id', 'feature_type'], keep='first')\n",
    "          .pivot_table(columns='patient_id', index='feature_type', values='value', fill_value=0)\n",
    "         )\n",
    "    display_order = ['Somatic variant', 'Somatic copy number', 'Rearrangement', 'Germline variant', 'Aneuploidy', 'Tumor mutational burden', 'Mutational signature']\n",
    "    df = df.reindex(display_order)\n",
    "    return df.T.sort_values(by=df.index.tolist(), axis=0, ascending=False).T\n",
    "\n",
    "vanallen_pivoted = pivot_features_table(df, 'MEL')\n",
    "robinson_pivoted = pivot_features_table(df, 'SU2C')\n",
    "perry_pivoted = pivot_features_table(df, 'OS')\n",
    "tcga_pivoted = pivot_features_table(df, 'KIRP')"
   ]
  },
  {
   "cell_type": "code",
   "execution_count": 24,
   "metadata": {},
   "outputs": [],
   "source": [
    "perry_pivoted.to_csv('retrospective.pivoted.perry.txt', sep='\\t')\n",
    "robinson_pivoted.to_csv('retrospective.pivoted.robinson.txt', sep='\\t')\n",
    "tcga_pivoted.to_csv('retrospective.pivoted.tcga.txt', sep='\\t')\n",
    "vanallen_pivoted.to_csv('retrospective.pivoted.vanallen.txt', sep='\\t')"
   ]
  },
  {
   "cell_type": "markdown",
   "metadata": {},
   "source": [
    "## Fraction of samples with therapeutic sensitivity by evidence"
   ]
  },
  {
   "cell_type": "code",
   "execution_count": 25,
   "metadata": {},
   "outputs": [],
   "source": [
    "def return_max_per_patient(dataframe, samples):\n",
    "    inverse_map = {\n",
    "        0.0: 'No sensitive',\n",
    "        1.0: 'Inferential', 2.0: 'Preclinical', 3.0: 'Clinical evidence', 4.0: 'Clinical trial',\n",
    "        5.0: 'Guideline', 6.0: 'FDA-Approved'}\n",
    "    series = pd.Series(inverse_map[0.0], index=samples, name='max_imp')\n",
    "    grouped = dataframe.groupby(['patient_id'])['sensitive_score']\n",
    "    for group, value in grouped:\n",
    "        series.loc[group] = inverse_map[value.max()]\n",
    "    return series\n",
    "\n",
    "values_map = {'Inferential': 1.0, \n",
    "              'Preclinical': 2.0, \n",
    "              'Clinical evidence': 3.0,\n",
    "              'Clinical trial': 4.0,\n",
    "              'Guideline': 5.0,\n",
    "              'FDA-Approved': 6.0}\n",
    "\n",
    "sensitive = df[df['sensitive_predictive_implication'].notnull()].reset_index(drop=True)\n",
    "sensitive['sensitive_score'] = sensitive['sensitive_predictive_implication'].replace(values_map)\n",
    "\n",
    "perry_samples = df[df['cohort'].eq('OS')]['patient_id'].drop_duplicates().tolist()\n",
    "robinson_samples = df[df['cohort'].eq('SU2C')]['patient_id'].drop_duplicates().tolist()\n",
    "tcga_samples = df[df['cohort'].eq('KIRP')]['patient_id'].drop_duplicates().tolist()\n",
    "vanallen_samples = df[df['cohort'].eq('MEL')]['patient_id'].drop_duplicates().tolist()\n",
    "\n",
    "perry_max = return_max_per_patient(sensitive[sensitive['cohort'].eq('OS')], perry_samples)\n",
    "robinson_max = return_max_per_patient(sensitive[sensitive['cohort'].eq('SU2C')], robinson_samples)\n",
    "tcga_max = return_max_per_patient(sensitive[sensitive['cohort'].eq('KIRP')], tcga_samples)\n",
    "vanallen_max = return_max_per_patient(sensitive[sensitive['cohort'].eq('MEL')], vanallen_samples)\n",
    "\n",
    "perry_max_vc = perry_max.value_counts().reindex(['FDA-Approved', 'Guideline', \n",
    "                                                       'Clinical trial', 'Clinical evidence', \n",
    "                                                       'Preclinical', 'Inferential']).fillna(0.0)\n",
    "perry_max_vc['WT'] = len(perry_samples) - perry_max_vc.astype(int).sum()\n",
    "perry_max_vc_fract = (round(perry_max_vc / len(perry_samples), 2)*100).astype(int).astype(str)\n",
    "\n",
    "robinson_max_vc = robinson_max.value_counts().reindex(['FDA-Approved', 'Guideline', \n",
    "                                                       'Clinical trial', 'Clinical evidence', \n",
    "                                                       'Preclinical', 'Inferential']).fillna(0.0)\n",
    "robinson_max_vc['WT'] = len(robinson_samples) - robinson_max_vc.astype(int).sum()\n",
    "robinson_max_vc_fract = (round(robinson_max_vc / len(robinson_samples), 2)*100).astype(int).astype(str)\n",
    "\n",
    "tcga_max_vc = tcga_max.value_counts().reindex(['FDA-Approved', 'Guideline', \n",
    "                                                       'Clinical trial', 'Clinical evidence', \n",
    "                                                       'Preclinical', 'Inferential']).fillna(0.0)\n",
    "tcga_max_vc['WT'] = len(tcga_samples) - tcga_max_vc.astype(int).sum()\n",
    "tcga_max_vc_fract = (round(tcga_max_vc / len(tcga_samples), 2)*100).astype(int).astype(str)\n",
    "\n",
    "vanallen_max_vc = vanallen_max.value_counts().reindex(['FDA-Approved', 'Guideline', \n",
    "                                                       'Clinical trial', 'Clinical evidence', \n",
    "                                                       'Preclinical', 'Inferential']).fillna(0.0)\n",
    "vanallen_max_vc['WT'] = len(vanallen_samples) - vanallen_max_vc.astype(int).sum()\n",
    "vanallen_max_vc_fract = (round(vanallen_max_vc / len(vanallen_samples), 2)*100).astype(int).astype(str)\n",
    "\n",
    "perry_counts_sens = pd.concat([perry_max_vc, perry_max_vc_fract], axis=1).reset_index()\n",
    "perry_counts_sens.columns = ['evidence', 'counts', 'fraction']\n",
    "\n",
    "robinson_counts_sens = pd.concat([robinson_max_vc, robinson_max_vc_fract], axis=1).reset_index()\n",
    "robinson_counts_sens.columns = ['evidence', 'counts', 'fraction']\n",
    "\n",
    "tcga_counts_sens = pd.concat([tcga_max_vc, tcga_max_vc_fract], axis=1).reset_index()\n",
    "tcga_counts_sens.columns = ['evidence', 'counts', 'fraction']\n",
    "\n",
    "vanallen_counts_sens = pd.concat([vanallen_max_vc, vanallen_max_vc_fract], axis=1).reset_index()\n",
    "vanallen_counts_sens.columns = ['evidence', 'counts', 'fraction']\n",
    "\n",
    "perry_counts_sens['fraction'] = perry_counts_sens['fraction'].astype(int).divide(100)\n",
    "robinson_counts_sens['fraction'] = robinson_counts_sens['fraction'].astype(int).divide(100)\n",
    "tcga_counts_sens['fraction'] = tcga_counts_sens['fraction'].astype(int).divide(100)\n",
    "vanallen_counts_sens['fraction'] = vanallen_counts_sens['fraction'].astype(int).divide(100)\n",
    "\n",
    "labels = ['FDA', 'Guideline', 'Clinical trial', \n",
    "          'Clinical evidence', 'Preclinical', 'Inferential', \n",
    "          'No event associated with therapeutic sensitivity']\n",
    "\n",
    "perry_counts_sens['label'] = labels\n",
    "robinson_counts_sens['label'] = labels\n",
    "tcga_counts_sens['label'] = labels\n",
    "vanallen_counts_sens['label'] = labels\n",
    "\n",
    "# Due to rounding, the fraction doesn't quite equal 100, we make a couple of adjustments for the display\n",
    "#perry_counts_sens.loc[6, 'fraction'] = 0.37\n",
    "#robinson_counts_sens.loc[6, 'fraction'] = 0.07\n",
    "tcga_counts_sens.loc[6, 'fraction'] = 0.17\n",
    "vanallen_counts_sens.loc[6, 'fraction'] = 0.03\n",
    "\n",
    "perry_counts_sens.to_csv('retrospective.sensitivity-by-evidence.perry.txt', sep='\\t', index=False)\n",
    "robinson_counts_sens.to_csv('retrospective.sensitivity-by-evidence.robinson.txt', sep='\\t', index=False)\n",
    "tcga_counts_sens.to_csv('retrospective.sensitivity-by-evidence.tcga.txt', sep='\\t', index=False)\n",
    "vanallen_counts_sens.to_csv('retrospective.sensitivity-by-evidence.vanallen.txt', sep='\\t', index=False)"
   ]
  },
  {
   "cell_type": "markdown",
   "metadata": {},
   "source": [
    "## Count number of features called between PHIAL/TARGET and MOAlmanac for MEL and Prostate\n",
    "Per feature type, we count the number of events per cohort and per methodology"
   ]
  },
  {
   "cell_type": "code",
   "execution_count": 26,
   "metadata": {},
   "outputs": [],
   "source": [
    "feature_types = ['Somatic variant', 'Somatic copy number', 'Rearrangement', 'Germline variant', \n",
    "                 'Tumor mutational burden', 'Mutational signature', 'Aneuploidy']\n",
    "index_values = ['PHIAL/TARGET', 'Molecular Oncology Almanac']\n",
    "\n",
    "idx_mel = df['cohort'].eq('MEL')\n",
    "idx_su2c = df['cohort'].eq('SU2C')\n",
    "idx_os = df['cohort'].eq('OS')\n",
    "idx_kirp = df['cohort'].eq('KIRP')\n",
    "idx_almanac = df['almanac_bin'].fillna('').isin(['Putatively Actionable', 'Investigate Actionability'])\n",
    "idx_phial = df['phial_bin'].fillna('').isin(['Putatively Actionable', 'Investigate Actionability'])\n",
    "\n",
    "counts_kirp = pd.DataFrame(0, columns = feature_types, index = index_values).T\n",
    "counts_kirp.loc[feature_types, 'PHIAL/TARGET'] = df[idx_kirp & idx_phial]['feature_type'].value_counts()\n",
    "counts_kirp.loc[feature_types, 'Molecular Oncology Almanac'] = df[idx_kirp & idx_almanac]['feature_type'].value_counts()\n",
    "counts_kirp.fillna(0, inplace=True)\n",
    "counts_kirp = counts_kirp.T\n",
    "\n",
    "counts_mel = pd.DataFrame(0, columns = feature_types, index = index_values).T\n",
    "counts_mel.loc[feature_types, 'PHIAL/TARGET'] = df[idx_mel & idx_phial]['feature_type'].value_counts()\n",
    "counts_mel.loc[feature_types, 'Molecular Oncology Almanac'] = df[idx_mel & idx_almanac]['feature_type'].value_counts()\n",
    "counts_mel.fillna(0, inplace=True)\n",
    "counts_mel = counts_mel.T\n",
    "\n",
    "counts_os = pd.DataFrame(0, columns = feature_types, index = index_values).T\n",
    "counts_os.loc[feature_types, 'PHIAL/TARGET'] = df[idx_os & idx_phial]['feature_type'].value_counts()\n",
    "counts_os.loc[feature_types, 'Molecular Oncology Almanac'] = df[idx_os & idx_almanac]['feature_type'].value_counts()\n",
    "counts_os.fillna(0, inplace=True)\n",
    "counts_os = counts_os.T\n",
    "\n",
    "counts_su2c = pd.DataFrame(0, columns = feature_types, index = index_values).T\n",
    "counts_su2c.loc[feature_types, 'PHIAL/TARGET'] = df[idx_su2c & idx_phial]['feature_type'].value_counts()\n",
    "counts_su2c.loc[feature_types, 'Molecular Oncology Almanac'] = df[idx_su2c & idx_almanac]['feature_type'].value_counts()\n",
    "counts_su2c.fillna(0, inplace=True)\n",
    "counts_su2c = counts_su2c.T\n",
    "\n",
    "counts_kirp.to_csv('retrospective.feature-type-counts.tcga.txt', sep='\\t', index_label='method')\n",
    "counts_mel.to_csv('retrospective.feature-type-counts.vanallen.txt', sep='\\t', index_label='method')\n",
    "counts_su2c.to_csv('retrospective.feature-type-counts.robinson.txt', sep='\\t', index_label='method')\n",
    "counts_os.to_csv('retrospective.feature-type-counts.perry.txt', sep='\\t', index_label='method')"
   ]
  },
  {
   "cell_type": "code",
   "execution_count": 27,
   "metadata": {},
   "outputs": [
    {
     "data": {
      "text/html": [
       "<div>\n",
       "<style scoped>\n",
       "    .dataframe tbody tr th:only-of-type {\n",
       "        vertical-align: middle;\n",
       "    }\n",
       "\n",
       "    .dataframe tbody tr th {\n",
       "        vertical-align: top;\n",
       "    }\n",
       "\n",
       "    .dataframe thead th {\n",
       "        text-align: right;\n",
       "    }\n",
       "</style>\n",
       "<table border=\"1\" class=\"dataframe\">\n",
       "  <thead>\n",
       "    <tr style=\"text-align: right;\">\n",
       "      <th></th>\n",
       "      <th>Somatic variant</th>\n",
       "      <th>Somatic copy number</th>\n",
       "      <th>Rearrangement</th>\n",
       "      <th>Germline variant</th>\n",
       "      <th>Tumor mutational burden</th>\n",
       "      <th>Mutational signature</th>\n",
       "      <th>Aneuploidy</th>\n",
       "    </tr>\n",
       "  </thead>\n",
       "  <tbody>\n",
       "    <tr>\n",
       "      <th>PHIAL/TARGET</th>\n",
       "      <td>167.0</td>\n",
       "      <td>127.0</td>\n",
       "      <td>0.0</td>\n",
       "      <td>0.0</td>\n",
       "      <td>0.0</td>\n",
       "      <td>0.0</td>\n",
       "      <td>0.0</td>\n",
       "    </tr>\n",
       "    <tr>\n",
       "      <th>Molecular Oncology Almanac</th>\n",
       "      <td>601.0</td>\n",
       "      <td>137.0</td>\n",
       "      <td>19.0</td>\n",
       "      <td>0.0</td>\n",
       "      <td>44.0</td>\n",
       "      <td>5.0</td>\n",
       "      <td>62.0</td>\n",
       "    </tr>\n",
       "  </tbody>\n",
       "</table>\n",
       "</div>"
      ],
      "text/plain": [
       "                            Somatic variant  Somatic copy number  \\\n",
       "PHIAL/TARGET                          167.0                127.0   \n",
       "Molecular Oncology Almanac            601.0                137.0   \n",
       "\n",
       "                            Rearrangement  Germline variant  \\\n",
       "PHIAL/TARGET                          0.0               0.0   \n",
       "Molecular Oncology Almanac           19.0               0.0   \n",
       "\n",
       "                            Tumor mutational burden  Mutational signature  \\\n",
       "PHIAL/TARGET                                    0.0                   0.0   \n",
       "Molecular Oncology Almanac                     44.0                   5.0   \n",
       "\n",
       "                            Aneuploidy  \n",
       "PHIAL/TARGET                       0.0  \n",
       "Molecular Oncology Almanac        62.0  "
      ]
     },
     "execution_count": 27,
     "metadata": {},
     "output_type": "execute_result"
    }
   ],
   "source": [
    "counts_mel"
   ]
  },
  {
   "cell_type": "code",
   "execution_count": 28,
   "metadata": {},
   "outputs": [
    {
     "data": {
      "text/html": [
       "<div>\n",
       "<style scoped>\n",
       "    .dataframe tbody tr th:only-of-type {\n",
       "        vertical-align: middle;\n",
       "    }\n",
       "\n",
       "    .dataframe tbody tr th {\n",
       "        vertical-align: top;\n",
       "    }\n",
       "\n",
       "    .dataframe thead th {\n",
       "        text-align: right;\n",
       "    }\n",
       "</style>\n",
       "<table border=\"1\" class=\"dataframe\">\n",
       "  <thead>\n",
       "    <tr style=\"text-align: right;\">\n",
       "      <th></th>\n",
       "      <th>Somatic variant</th>\n",
       "      <th>Somatic copy number</th>\n",
       "      <th>Rearrangement</th>\n",
       "      <th>Germline variant</th>\n",
       "      <th>Tumor mutational burden</th>\n",
       "      <th>Mutational signature</th>\n",
       "      <th>Aneuploidy</th>\n",
       "    </tr>\n",
       "  </thead>\n",
       "  <tbody>\n",
       "    <tr>\n",
       "      <th>PHIAL/TARGET</th>\n",
       "      <td>108.0</td>\n",
       "      <td>218.0</td>\n",
       "      <td>0.0</td>\n",
       "      <td>0.0</td>\n",
       "      <td>0.0</td>\n",
       "      <td>0.0</td>\n",
       "      <td>0.0</td>\n",
       "    </tr>\n",
       "    <tr>\n",
       "      <th>Molecular Oncology Almanac</th>\n",
       "      <td>235.0</td>\n",
       "      <td>227.0</td>\n",
       "      <td>108.0</td>\n",
       "      <td>0.0</td>\n",
       "      <td>4.0</td>\n",
       "      <td>35.0</td>\n",
       "      <td>75.0</td>\n",
       "    </tr>\n",
       "  </tbody>\n",
       "</table>\n",
       "</div>"
      ],
      "text/plain": [
       "                            Somatic variant  Somatic copy number  \\\n",
       "PHIAL/TARGET                          108.0                218.0   \n",
       "Molecular Oncology Almanac            235.0                227.0   \n",
       "\n",
       "                            Rearrangement  Germline variant  \\\n",
       "PHIAL/TARGET                          0.0               0.0   \n",
       "Molecular Oncology Almanac          108.0               0.0   \n",
       "\n",
       "                            Tumor mutational burden  Mutational signature  \\\n",
       "PHIAL/TARGET                                    0.0                   0.0   \n",
       "Molecular Oncology Almanac                      4.0                  35.0   \n",
       "\n",
       "                            Aneuploidy  \n",
       "PHIAL/TARGET                       0.0  \n",
       "Molecular Oncology Almanac        75.0  "
      ]
     },
     "execution_count": 28,
     "metadata": {},
     "output_type": "execute_result"
    }
   ],
   "source": [
    "counts_su2c"
   ]
  },
  {
   "cell_type": "code",
   "execution_count": 29,
   "metadata": {},
   "outputs": [
    {
     "data": {
      "text/html": [
       "<div>\n",
       "<style scoped>\n",
       "    .dataframe tbody tr th:only-of-type {\n",
       "        vertical-align: middle;\n",
       "    }\n",
       "\n",
       "    .dataframe tbody tr th {\n",
       "        vertical-align: top;\n",
       "    }\n",
       "\n",
       "    .dataframe thead th {\n",
       "        text-align: right;\n",
       "    }\n",
       "</style>\n",
       "<table border=\"1\" class=\"dataframe\">\n",
       "  <thead>\n",
       "    <tr style=\"text-align: right;\">\n",
       "      <th></th>\n",
       "      <th>Somatic variant</th>\n",
       "      <th>Somatic copy number</th>\n",
       "      <th>Rearrangement</th>\n",
       "      <th>Germline variant</th>\n",
       "      <th>Tumor mutational burden</th>\n",
       "      <th>Mutational signature</th>\n",
       "      <th>Aneuploidy</th>\n",
       "    </tr>\n",
       "  </thead>\n",
       "  <tbody>\n",
       "    <tr>\n",
       "      <th>PHIAL/TARGET</th>\n",
       "      <td>16.0</td>\n",
       "      <td>61.0</td>\n",
       "      <td>0.0</td>\n",
       "      <td>0.0</td>\n",
       "      <td>0.0</td>\n",
       "      <td>0.0</td>\n",
       "      <td>0.0</td>\n",
       "    </tr>\n",
       "    <tr>\n",
       "      <th>Molecular Oncology Almanac</th>\n",
       "      <td>27.0</td>\n",
       "      <td>59.0</td>\n",
       "      <td>6.0</td>\n",
       "      <td>0.0</td>\n",
       "      <td>0.0</td>\n",
       "      <td>21.0</td>\n",
       "      <td>33.0</td>\n",
       "    </tr>\n",
       "  </tbody>\n",
       "</table>\n",
       "</div>"
      ],
      "text/plain": [
       "                            Somatic variant  Somatic copy number  \\\n",
       "PHIAL/TARGET                           16.0                 61.0   \n",
       "Molecular Oncology Almanac             27.0                 59.0   \n",
       "\n",
       "                            Rearrangement  Germline variant  \\\n",
       "PHIAL/TARGET                          0.0               0.0   \n",
       "Molecular Oncology Almanac            6.0               0.0   \n",
       "\n",
       "                            Tumor mutational burden  Mutational signature  \\\n",
       "PHIAL/TARGET                                    0.0                   0.0   \n",
       "Molecular Oncology Almanac                      0.0                  21.0   \n",
       "\n",
       "                            Aneuploidy  \n",
       "PHIAL/TARGET                       0.0  \n",
       "Molecular Oncology Almanac        33.0  "
      ]
     },
     "execution_count": 29,
     "metadata": {},
     "output_type": "execute_result"
    }
   ],
   "source": [
    "counts_os"
   ]
  },
  {
   "cell_type": "code",
   "execution_count": 30,
   "metadata": {},
   "outputs": [
    {
     "data": {
      "text/html": [
       "<div>\n",
       "<style scoped>\n",
       "    .dataframe tbody tr th:only-of-type {\n",
       "        vertical-align: middle;\n",
       "    }\n",
       "\n",
       "    .dataframe tbody tr th {\n",
       "        vertical-align: top;\n",
       "    }\n",
       "\n",
       "    .dataframe thead th {\n",
       "        text-align: right;\n",
       "    }\n",
       "</style>\n",
       "<table border=\"1\" class=\"dataframe\">\n",
       "  <thead>\n",
       "    <tr style=\"text-align: right;\">\n",
       "      <th></th>\n",
       "      <th>Somatic variant</th>\n",
       "      <th>Somatic copy number</th>\n",
       "      <th>Rearrangement</th>\n",
       "      <th>Germline variant</th>\n",
       "      <th>Tumor mutational burden</th>\n",
       "      <th>Mutational signature</th>\n",
       "      <th>Aneuploidy</th>\n",
       "    </tr>\n",
       "  </thead>\n",
       "  <tbody>\n",
       "    <tr>\n",
       "      <th>PHIAL/TARGET</th>\n",
       "      <td>19.0</td>\n",
       "      <td>22.0</td>\n",
       "      <td>0.0</td>\n",
       "      <td>0.0</td>\n",
       "      <td>0.0</td>\n",
       "      <td>0.0</td>\n",
       "      <td>0.0</td>\n",
       "    </tr>\n",
       "    <tr>\n",
       "      <th>Molecular Oncology Almanac</th>\n",
       "      <td>72.0</td>\n",
       "      <td>87.0</td>\n",
       "      <td>4.0</td>\n",
       "      <td>0.0</td>\n",
       "      <td>0.0</td>\n",
       "      <td>57.0</td>\n",
       "      <td>10.0</td>\n",
       "    </tr>\n",
       "  </tbody>\n",
       "</table>\n",
       "</div>"
      ],
      "text/plain": [
       "                            Somatic variant  Somatic copy number  \\\n",
       "PHIAL/TARGET                           19.0                 22.0   \n",
       "Molecular Oncology Almanac             72.0                 87.0   \n",
       "\n",
       "                            Rearrangement  Germline variant  \\\n",
       "PHIAL/TARGET                          0.0               0.0   \n",
       "Molecular Oncology Almanac            4.0               0.0   \n",
       "\n",
       "                            Tumor mutational burden  Mutational signature  \\\n",
       "PHIAL/TARGET                                    0.0                   0.0   \n",
       "Molecular Oncology Almanac                      0.0                  57.0   \n",
       "\n",
       "                            Aneuploidy  \n",
       "PHIAL/TARGET                       0.0  \n",
       "Molecular Oncology Almanac        10.0  "
      ]
     },
     "execution_count": 30,
     "metadata": {},
     "output_type": "execute_result"
    }
   ],
   "source": [
    "counts_kirp"
   ]
  },
  {
   "cell_type": "markdown",
   "metadata": {},
   "source": [
    "## Count feature types by cohort, evidence, and feature type\n",
    "Multi-indexed: cohort, assertion type, actionability, feature type"
   ]
  },
  {
   "cell_type": "code",
   "execution_count": 31,
   "metadata": {},
   "outputs": [],
   "source": [
    "groups = []\n",
    "for ctype in ['sensitive', 'resistance', 'prognostic']:\n",
    "    idx_bin = df['almanac_bin'].isin(['Putatively Actionable', 'Investigate Actionability'])\n",
    "    idx_ctype = ~df[f'{ctype}_predictive_implication'].isnull()\n",
    "    tmp = df.loc[idx_bin & idx_ctype, :]\n",
    "    \n",
    "    for label, group in tmp.groupby(['cohort', 'almanac_bin', f'{ctype}_predictive_implication', 'feature_type']):\n",
    "        series = pd.Series(label)\n",
    "        series.loc[4] = ctype\n",
    "        series.loc[5] = group.shape[0]\n",
    "        series.loc[6] = group['patient_id'].drop_duplicates().shape[0]\n",
    "        groups.append(series)\n",
    "        \n",
    "counts = pd.concat(groups, axis=1).T\n",
    "counts.columns = ['cohort', 'bin', 'evidence', 'feature_type', 'assertion', 'event counts', 'patient counts']\n",
    "\n",
    "(counts\n",
    " .loc[:, ['cohort', 'bin', 'assertion', 'evidence', 'event counts', 'patient counts']]\n",
    " .to_csv('retrospective.counts-by-category.txt', sep='\\t', index=False)\n",
    ")"
   ]
  },
  {
   "cell_type": "code",
   "execution_count": 32,
   "metadata": {},
   "outputs": [
    {
     "data": {
      "text/plain": [
       "Somatic variant            1686\n",
       "Somatic copy number        1240\n",
       "Mutational signature        620\n",
       "Rearrangement               255\n",
       "Aneuploidy                  180\n",
       "Tumor mutational burden      48\n",
       "Name: feature_type, dtype: int64"
      ]
     },
     "execution_count": 32,
     "metadata": {},
     "output_type": "execute_result"
    }
   ],
   "source": [
    "df['feature_type'].value_counts()"
   ]
  },
  {
   "cell_type": "code",
   "execution_count": 33,
   "metadata": {},
   "outputs": [],
   "source": [
    "empty_rows = []\n",
    "for cohort in df['cohort'].unique().tolist():\n",
    "    for bin_value in ['Putatively Actionable', 'Investigate Actionability']:\n",
    "        for ctype in ['sensitive', 'resistance', 'prognostic']:\n",
    "            for evidence in ['FDA-Approved', 'Guideline', 'Clinical trial', 'Clinical evidence', 'Preclinical', 'Inferential']:\n",
    "                for ftype in ['Somatic variant', 'Somatic copy number', 'Rearrangement', 'Germline variant', 'Mutational signature', 'Tumor mutational burden', 'Aneuploidy']:\n",
    "                    idx = (counts['cohort'].eq(cohort) \n",
    "                       & counts['bin'].eq(bin_value) \n",
    "                       & counts['assertion'].eq(ctype) \n",
    "                       & counts['evidence'].eq(evidence)\n",
    "                       & counts['feature_type'].eq(ftype)\n",
    "                      )\n",
    "                    if counts[idx].shape[0] == 0:\n",
    "                        dictionary = {\n",
    "                            'cohort': cohort, \n",
    "                            'bin': bin_value, \n",
    "                            'assertion': ctype,\n",
    "                            'evidence': evidence,\n",
    "                            'feature_type': ftype,\n",
    "                            'event counts': 0,\n",
    "                            'patient counts': 0}\n",
    "                        empty_rows.append(pd.DataFrame(dictionary, index=[0]))\n",
    "                    \n",
    "counts_with_zeros = (pd\n",
    "                     .concat([counts, pd.concat(empty_rows)])\n",
    "                     .sort_values(['cohort', 'assertion', 'bin', 'evidence', 'feature_type', 'event counts', 'patient counts'])\n",
    "                    )\n",
    "counts_with_zeros.to_csv('retrospective.counts-by-category.txt', sep='\\t', index=False)\n",
    "\n"
   ]
  },
  {
   "cell_type": "code",
   "execution_count": null,
   "metadata": {},
   "outputs": [],
   "source": []
  },
  {
   "cell_type": "code",
   "execution_count": null,
   "metadata": {},
   "outputs": [],
   "source": []
  }
 ],
 "metadata": {
  "kernelspec": {
   "display_name": "moalmanac-paper",
   "language": "python",
   "name": "moalmanac-paper"
  },
  "language_info": {
   "codemirror_mode": {
    "name": "ipython",
    "version": 3
   },
   "file_extension": ".py",
   "mimetype": "text/x-python",
   "name": "python",
   "nbconvert_exporter": "python",
   "pygments_lexer": "ipython3",
   "version": "3.7.3"
  }
 },
 "nbformat": 4,
 "nbformat_minor": 4
}
