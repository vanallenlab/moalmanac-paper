{
 "cells": [
  {
   "cell_type": "code",
   "execution_count": 1,
   "metadata": {},
   "outputs": [],
   "source": [
    "import pandas as pd\n",
    "import requests\n",
    "import subprocess\n",
    "import io\n",
    "import numpy as np\n",
    "from oauth2client.client import GoogleCredentials\n",
    "\n",
    "credentials = GoogleCredentials.get_application_default()\n",
    "token = credentials.get_access_token().access_token\n",
    "headers = {\"Authorization\" : \"bearer {}\".format(token)}"
   ]
  },
  {
   "cell_type": "markdown",
   "metadata": {},
   "source": [
    "# Download from Terra\n",
    "We download the outputs from running the Molecular Oncology Almanac and PHIAL on the Van Allen 2015 and Robison 2015 cohorts using the API."
   ]
  },
  {
   "cell_type": "code",
   "execution_count": 2,
   "metadata": {},
   "outputs": [],
   "source": [
    "class Download(object):\n",
    "    credentials = GoogleCredentials.get_application_default()\n",
    "    token = credentials.get_access_token().access_token\n",
    "    headers = {\"Authorization\" : \"bearer {}\".format(token)}\n",
    "    \n",
    "    root = 'https://api.firecloud.org/api'\n",
    "    \n",
    "    @classmethod\n",
    "    def request_data_model(cls, namespace, workspace, entity):\n",
    "        request = '/'.join([cls.root, 'workspaces', namespace, workspace, 'entities', entity, 'tsv'])\n",
    "        r = requests.get(request, headers=cls.headers)\n",
    "        return pd.read_csv(io.BytesIO(r.content), encoding='utf-8', sep='\\t')\n",
    "    \n",
    "    @staticmethod\n",
    "    def download(series, target_folder):\n",
    "        blobs = ' '.join(series.dropna().dropna('').tolist())\n",
    "        cmd = ' '.join(['gsutil -m cp', blobs, target_folder])\n",
    "        subprocess.call(cmd, shell=True)\n",
    "    \n",
    "    @staticmethod\n",
    "    def mkdir(folder_name):\n",
    "        cmd = ''.join(['mkdir -p ', folder_name])\n",
    "        subprocess.call(cmd, shell=True)\n",
    "        \n",
    "    @staticmethod\n",
    "    def split_array(series, n_per_split):\n",
    "        return np.array_split(series, n_per_split)\n",
    "    \n",
    "    @classmethod\n",
    "    def split_download(cls, series, n_per_split, target_folder):\n",
    "        split_files = Download.split_array(series, n_per_split)\n",
    "        for chunk in split_files:\n",
    "            Download.download(chunk, target_folder)\n",
    "            \n",
    "    @staticmethod     \n",
    "    def unpack_tar(tar, target_folder):\n",
    "        cmd = ' '.join(['tar -xf', tar, '-C', target_folder])\n",
    "        subprocess.call(cmd, shell=True)"
   ]
  },
  {
   "cell_type": "code",
   "execution_count": 3,
   "metadata": {},
   "outputs": [],
   "source": [
    "root_path = '/Users/brendan/Github/moalmanac-paper/analyses/retrospective-cohorts'\n",
    "namespace = 'vanallen-firecloud-nih'\n",
    "workspace_path_pairs = [\n",
    "    ('VanAllen2015_dev-MOVED', '2015-VanAllen/data'),\n",
    "    ('Robinson2015_dev-MOVED', '2015-Robinson/data'),\n",
    "    ('TCGA-KIRP-MOAlmanac', '2016-TCGA/data'),\n",
    "    ('2014-Perry-MOAlmanac', '2014-Perry/data')\n",
    "]\n",
    "\n",
    "phial_column = 'phialScoredDetailed'\n",
    "almanac_column = 'moalmanac_tarGz'\n",
    "\n",
    "for workspace, path in workspace_path_pairs:\n",
    "    datamodel = Download.request_data_model(namespace, workspace, 'pair')\n",
    "    \n",
    "    phial_folder = '{}/{}/phial'.format(root_path, path)\n",
    "    almanac_folder = '{}/{}/almanac'.format(root_path, path)\n",
    "    almanac_tars_folder = '{}/{}/almanac-tars'.format(root_path, path)\n",
    "    Download.mkdir(path)\n",
    "    Download.mkdir(phial_folder)\n",
    "    Download.mkdir(almanac_folder)\n",
    "    Download.mkdir(almanac_tars_folder)\n",
    "    \n",
    "    Download.split_download(datamodel.loc[:, phial_column], 14, phial_folder)\n",
    "    Download.split_download(datamodel.loc[:, almanac_column], 14, almanac_tars_folder)\n",
    "    \n",
    "    for individual in datamodel.loc[:, 'participant']:\n",
    "        individual_tar = '{}/{}.almanac.tar.gz'.format(almanac_tars_folder, individual)\n",
    "        individual_folder = '{}/{}'.format(almanac_folder, individual)\n",
    "        Download.mkdir(individual_folder)\n",
    "        Download.unpack_tar(individual_tar, individual_folder)"
   ]
  },
  {
   "cell_type": "code",
   "execution_count": null,
   "metadata": {},
   "outputs": [],
   "source": []
  }
 ],
 "metadata": {
  "kernelspec": {
   "display_name": "moalmanac-paper",
   "language": "python",
   "name": "moalmanac-paper"
  },
  "language_info": {
   "codemirror_mode": {
    "name": "ipython",
    "version": 3
   },
   "file_extension": ".py",
   "mimetype": "text/x-python",
   "name": "python",
   "nbconvert_exporter": "python",
   "pygments_lexer": "ipython3",
   "version": "3.7.3"
  }
 },
 "nbformat": 4,
 "nbformat_minor": 4
}
